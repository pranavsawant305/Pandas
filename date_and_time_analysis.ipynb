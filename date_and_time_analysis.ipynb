{
 "cells": [
  {
   "cell_type": "markdown",
   "id": "2a45207e",
   "metadata": {},
   "source": [
    "# Time Series Data: \n",
    "\n",
    "\n",
    "It is the data set which tracks records over the time\n",
    "\n",
    "\n",
    "Time-series analysis is the study of data points collected over time. It’s about identifying patterns, trends, and relationships in your data. It aims to predict future values based on past data and is a powerful tool for gaining meaningful insights and predictions from data collected over time.\n",
    "\n",
    "- Financial Data(stocks data,bank data)\n",
    "- nature based data (wether ,rainfall measurement data )\n",
    "- ecommerce based data \n",
    "- covid data\n",
    "- health related data (heart rate measurement)\n",
    " etc"
   ]
  },
  {
   "cell_type": "markdown",
   "id": "51fee9b6",
   "metadata": {},
   "source": [
    "# Types of operations done on time series data:\n",
    "\n",
    "- Time Series Analysis\n",
    "- Time Series forcasting using arima , ar model etc"
   ]
  },
  {
   "cell_type": "markdown",
   "id": "19a8622e",
   "metadata": {},
   "source": [
    "# Terminology\n",
    "\n",
    "- Timestamp\n",
    "- Datetime index\n",
    "- time delta\n",
    "- date range"
   ]
  },
  {
   "cell_type": "markdown",
   "id": "551de1f8",
   "metadata": {},
   "source": [
    "# How to get timestamp object from pandas functions: to_datetime"
   ]
  },
  {
   "cell_type": "markdown",
   "id": "d429243a",
   "metadata": {},
   "source": [
    "# or we can use pd.to_datetime  that is used to convert string to datetime object "
   ]
  },
  {
   "cell_type": "code",
   "execution_count": 198,
   "id": "b824f5a5",
   "metadata": {},
   "outputs": [],
   "source": [
    "import pandas as pd"
   ]
  },
  {
   "cell_type": "code",
   "execution_count": 199,
   "id": "f037fb4b",
   "metadata": {},
   "outputs": [
    {
     "data": {
      "text/plain": [
       "Timestamp('2024-05-13 09:45:00')"
      ]
     },
     "execution_count": 199,
     "metadata": {},
     "output_type": "execute_result"
    }
   ],
   "source": [
    "pd.to_datetime(\"13-may-2024 9:45\")"
   ]
  },
  {
   "cell_type": "markdown",
   "id": "bdee3d13",
   "metadata": {},
   "source": [
    "# or generate the timestamp explicitely"
   ]
  },
  {
   "cell_type": "code",
   "execution_count": 163,
   "id": "a0af4feb",
   "metadata": {},
   "outputs": [
    {
     "data": {
      "text/plain": [
       "Timestamp('2023-04-12 00:00:00')"
      ]
     },
     "execution_count": 163,
     "metadata": {},
     "output_type": "execute_result"
    }
   ],
   "source": [
    "pd.Timestamp(\"2023-4-12\")"
   ]
  },
  {
   "cell_type": "code",
   "execution_count": 165,
   "id": "af44d2c6",
   "metadata": {},
   "outputs": [
    {
     "data": {
      "text/plain": [
       "Timestamp('2024-05-16 00:00:00')"
      ]
     },
     "execution_count": 165,
     "metadata": {},
     "output_type": "execute_result"
    }
   ],
   "source": [
    "pd.Timestamp(\"2024-may-16\")"
   ]
  },
  {
   "cell_type": "code",
   "execution_count": 166,
   "id": "ba7f0a3b",
   "metadata": {},
   "outputs": [
    {
     "name": "stderr",
     "output_type": "stream",
     "text": [
      "C:\\Users\\acer\\anaconda3\\lib\\site-packages\\IPython\\core\\interactiveshell.py:3106: UserWarning: Parsing '16-05-2024' in DD/MM/YYYY format. Provide format or specify infer_datetime_format=True for consistent parsing.\n",
      "  has_raised = await self.run_ast_nodes(code_ast.body, cell_name,\n"
     ]
    },
    {
     "data": {
      "text/plain": [
       "Timestamp('2024-05-16 00:00:00')"
      ]
     },
     "execution_count": 166,
     "metadata": {},
     "output_type": "execute_result"
    }
   ],
   "source": [
    "pd.Timestamp(\"16-05-2024\")"
   ]
  },
  {
   "cell_type": "code",
   "execution_count": 168,
   "id": "9e3197b4",
   "metadata": {},
   "outputs": [
    {
     "data": {
      "text/plain": [
       "Timestamp('2024-05-16 00:00:00')"
      ]
     },
     "execution_count": 168,
     "metadata": {},
     "output_type": "execute_result"
    }
   ],
   "source": [
    "pd.Timestamp(\"05-16-2024\")"
   ]
  },
  {
   "cell_type": "code",
   "execution_count": 169,
   "id": "3021f750",
   "metadata": {},
   "outputs": [
    {
     "data": {
      "text/plain": [
       "Timestamp('2024-05-16 00:00:00')"
      ]
     },
     "execution_count": 169,
     "metadata": {},
     "output_type": "execute_result"
    }
   ],
   "source": [
    "pd.Timestamp(\"05/16/2024\")"
   ]
  },
  {
   "cell_type": "code",
   "execution_count": 200,
   "id": "44cd8dc8",
   "metadata": {},
   "outputs": [
    {
     "ename": "ValueError",
     "evalue": "could not convert string to Timestamp",
     "output_type": "error",
     "traceback": [
      "\u001b[1;31m---------------------------------------------------------------------------\u001b[0m",
      "\u001b[1;31mValueError\u001b[0m                                Traceback (most recent call last)",
      "File \u001b[1;32m~\\anaconda3\\lib\\site-packages\\dateutil\\parser\\_parser.py:649\u001b[0m, in \u001b[0;36mparser.parse\u001b[1;34m(self, timestr, default, ignoretz, tzinfos, **kwargs)\u001b[0m\n\u001b[0;32m    648\u001b[0m \u001b[38;5;28;01mtry\u001b[39;00m:\n\u001b[1;32m--> 649\u001b[0m     ret \u001b[38;5;241m=\u001b[39m \u001b[38;5;28;43mself\u001b[39;49m\u001b[38;5;241;43m.\u001b[39;49m\u001b[43m_build_naive\u001b[49m\u001b[43m(\u001b[49m\u001b[43mres\u001b[49m\u001b[43m,\u001b[49m\u001b[43m \u001b[49m\u001b[43mdefault\u001b[49m\u001b[43m)\u001b[49m\n\u001b[0;32m    650\u001b[0m \u001b[38;5;28;01mexcept\u001b[39;00m \u001b[38;5;167;01mValueError\u001b[39;00m \u001b[38;5;28;01mas\u001b[39;00m e:\n",
      "File \u001b[1;32m~\\anaconda3\\lib\\site-packages\\dateutil\\parser\\_parser.py:1235\u001b[0m, in \u001b[0;36mparser._build_naive\u001b[1;34m(self, res, default)\u001b[0m\n\u001b[0;32m   1233\u001b[0m         repl[\u001b[38;5;124m'\u001b[39m\u001b[38;5;124mday\u001b[39m\u001b[38;5;124m'\u001b[39m] \u001b[38;5;241m=\u001b[39m monthrange(cyear, cmonth)[\u001b[38;5;241m1\u001b[39m]\n\u001b[1;32m-> 1235\u001b[0m naive \u001b[38;5;241m=\u001b[39m default\u001b[38;5;241m.\u001b[39mreplace(\u001b[38;5;241m*\u001b[39m\u001b[38;5;241m*\u001b[39mrepl)\n\u001b[0;32m   1237\u001b[0m \u001b[38;5;28;01mif\u001b[39;00m res\u001b[38;5;241m.\u001b[39mweekday \u001b[38;5;129;01mis\u001b[39;00m \u001b[38;5;129;01mnot\u001b[39;00m \u001b[38;5;28;01mNone\u001b[39;00m \u001b[38;5;129;01mand\u001b[39;00m \u001b[38;5;129;01mnot\u001b[39;00m res\u001b[38;5;241m.\u001b[39mday:\n",
      "\u001b[1;31mValueError\u001b[0m: month must be in 1..12",
      "\nThe above exception was the direct cause of the following exception:\n",
      "\u001b[1;31mParserError\u001b[0m                               Traceback (most recent call last)",
      "File \u001b[1;32m~\\anaconda3\\lib\\site-packages\\pandas\\_libs\\tslibs\\conversion.pyx:649\u001b[0m, in \u001b[0;36mpandas._libs.tslibs.conversion._convert_str_to_tsobject\u001b[1;34m()\u001b[0m\n",
      "File \u001b[1;32m~\\anaconda3\\lib\\site-packages\\pandas\\_libs\\tslibs\\parsing.pyx:281\u001b[0m, in \u001b[0;36mpandas._libs.tslibs.parsing.parse_datetime_string\u001b[1;34m()\u001b[0m\n",
      "File \u001b[1;32m~\\anaconda3\\lib\\site-packages\\dateutil\\parser\\_parser.py:1368\u001b[0m, in \u001b[0;36mparse\u001b[1;34m(timestr, parserinfo, **kwargs)\u001b[0m\n\u001b[0;32m   1367\u001b[0m \u001b[38;5;28;01melse\u001b[39;00m:\n\u001b[1;32m-> 1368\u001b[0m     \u001b[38;5;28;01mreturn\u001b[39;00m DEFAULTPARSER\u001b[38;5;241m.\u001b[39mparse(timestr, \u001b[38;5;241m*\u001b[39m\u001b[38;5;241m*\u001b[39mkwargs)\n",
      "File \u001b[1;32m~\\anaconda3\\lib\\site-packages\\dateutil\\parser\\_parser.py:651\u001b[0m, in \u001b[0;36mparser.parse\u001b[1;34m(self, timestr, default, ignoretz, tzinfos, **kwargs)\u001b[0m\n\u001b[0;32m    650\u001b[0m \u001b[38;5;28;01mexcept\u001b[39;00m \u001b[38;5;167;01mValueError\u001b[39;00m \u001b[38;5;28;01mas\u001b[39;00m e:\n\u001b[1;32m--> 651\u001b[0m     \u001b[43msix\u001b[49m\u001b[38;5;241;43m.\u001b[39;49m\u001b[43mraise_from\u001b[49m\u001b[43m(\u001b[49m\u001b[43mParserError\u001b[49m\u001b[43m(\u001b[49m\u001b[38;5;28;43mstr\u001b[39;49m\u001b[43m(\u001b[49m\u001b[43me\u001b[49m\u001b[43m)\u001b[49m\u001b[43m \u001b[49m\u001b[38;5;241;43m+\u001b[39;49m\u001b[43m \u001b[49m\u001b[38;5;124;43m\"\u001b[39;49m\u001b[38;5;124;43m: \u001b[39;49m\u001b[38;5;132;43;01m%s\u001b[39;49;00m\u001b[38;5;124;43m\"\u001b[39;49m\u001b[43m,\u001b[49m\u001b[43m \u001b[49m\u001b[43mtimestr\u001b[49m\u001b[43m)\u001b[49m\u001b[43m,\u001b[49m\u001b[43m \u001b[49m\u001b[43me\u001b[49m\u001b[43m)\u001b[49m\n\u001b[0;32m    653\u001b[0m \u001b[38;5;28;01mif\u001b[39;00m \u001b[38;5;129;01mnot\u001b[39;00m ignoretz:\n",
      "File \u001b[1;32m<string>:3\u001b[0m, in \u001b[0;36mraise_from\u001b[1;34m(value, from_value)\u001b[0m\n",
      "\u001b[1;31mParserError\u001b[0m: month must be in 1..12: 05162024",
      "\nDuring handling of the above exception, another exception occurred:\n",
      "\u001b[1;31mValueError\u001b[0m                                Traceback (most recent call last)",
      "Input \u001b[1;32mIn [200]\u001b[0m, in \u001b[0;36m<cell line: 1>\u001b[1;34m()\u001b[0m\n\u001b[1;32m----> 1\u001b[0m \u001b[43mpd\u001b[49m\u001b[38;5;241;43m.\u001b[39;49m\u001b[43mTimestamp\u001b[49m\u001b[43m(\u001b[49m\u001b[38;5;124;43m\"\u001b[39;49m\u001b[38;5;124;43m05162024\u001b[39;49m\u001b[38;5;124;43m\"\u001b[39;49m\u001b[43m)\u001b[49m\n",
      "File \u001b[1;32m~\\anaconda3\\lib\\site-packages\\pandas\\_libs\\tslibs\\timestamps.pyx:1399\u001b[0m, in \u001b[0;36mpandas._libs.tslibs.timestamps.Timestamp.__new__\u001b[1;34m()\u001b[0m\n",
      "File \u001b[1;32m~\\anaconda3\\lib\\site-packages\\pandas\\_libs\\tslibs\\conversion.pyx:408\u001b[0m, in \u001b[0;36mpandas._libs.tslibs.conversion.convert_to_tsobject\u001b[1;34m()\u001b[0m\n",
      "File \u001b[1;32m~\\anaconda3\\lib\\site-packages\\pandas\\_libs\\tslibs\\conversion.pyx:652\u001b[0m, in \u001b[0;36mpandas._libs.tslibs.conversion._convert_str_to_tsobject\u001b[1;34m()\u001b[0m\n",
      "\u001b[1;31mValueError\u001b[0m: could not convert string to Timestamp"
     ]
    }
   ],
   "source": [
    "pd.Timestamp(\"05162024\")"
   ]
  },
  {
   "cell_type": "code",
   "execution_count": 205,
   "id": "c67f4977",
   "metadata": {},
   "outputs": [
    {
     "data": {
      "text/plain": [
       "NaT"
      ]
     },
     "execution_count": 205,
     "metadata": {},
     "output_type": "execute_result"
    }
   ],
   "source": [
    "pd.to_datetime(\"05162024\",errors=\"coerce\")"
   ]
  },
  {
   "cell_type": "code",
   "execution_count": 207,
   "id": "03aaf9a5",
   "metadata": {},
   "outputs": [
    {
     "data": {
      "text/plain": [
       "Timestamp('2023-04-12 16:56:00')"
      ]
     },
     "execution_count": 207,
     "metadata": {},
     "output_type": "execute_result"
    }
   ],
   "source": [
    "date=pd.to_datetime(\"2023-4-12  4:56 pm\")\n",
    "date"
   ]
  },
  {
   "cell_type": "code",
   "execution_count": 208,
   "id": "e09dc3c9",
   "metadata": {},
   "outputs": [
    {
     "data": {
      "text/plain": [
       "4"
      ]
     },
     "execution_count": 208,
     "metadata": {},
     "output_type": "execute_result"
    }
   ],
   "source": [
    "date.month"
   ]
  },
  {
   "cell_type": "code",
   "execution_count": 209,
   "id": "a59159b1",
   "metadata": {},
   "outputs": [
    {
     "data": {
      "text/plain": [
       "2023"
      ]
     },
     "execution_count": 209,
     "metadata": {},
     "output_type": "execute_result"
    }
   ],
   "source": [
    "date.year"
   ]
  },
  {
   "cell_type": "code",
   "execution_count": 210,
   "id": "ee7ba064",
   "metadata": {},
   "outputs": [
    {
     "data": {
      "text/plain": [
       "12"
      ]
     },
     "execution_count": 210,
     "metadata": {},
     "output_type": "execute_result"
    }
   ],
   "source": [
    "date.day"
   ]
  },
  {
   "cell_type": "code",
   "execution_count": 212,
   "id": "69d413b8",
   "metadata": {},
   "outputs": [
    {
     "data": {
      "text/plain": [
       "16"
      ]
     },
     "execution_count": 212,
     "metadata": {},
     "output_type": "execute_result"
    }
   ],
   "source": [
    "date.hour"
   ]
  },
  {
   "cell_type": "code",
   "execution_count": 213,
   "id": "53c36b45",
   "metadata": {},
   "outputs": [
    {
     "data": {
      "text/plain": [
       "Timestamp('2023-08-12 04:56:00')"
      ]
     },
     "execution_count": 213,
     "metadata": {},
     "output_type": "execute_result"
    }
   ],
   "source": [
    "pd.to_datetime(\"2023 8 12 4:56\")"
   ]
  },
  {
   "cell_type": "code",
   "execution_count": 214,
   "id": "1888c346",
   "metadata": {},
   "outputs": [
    {
     "ename": "ParserError",
     "evalue": "month must be in 1..12: 202356",
     "output_type": "error",
     "traceback": [
      "\u001b[1;31m---------------------------------------------------------------------------\u001b[0m",
      "\u001b[1;31mValueError\u001b[0m                                Traceback (most recent call last)",
      "File \u001b[1;32m~\\anaconda3\\lib\\site-packages\\dateutil\\parser\\_parser.py:649\u001b[0m, in \u001b[0;36mparser.parse\u001b[1;34m(self, timestr, default, ignoretz, tzinfos, **kwargs)\u001b[0m\n\u001b[0;32m    648\u001b[0m \u001b[38;5;28;01mtry\u001b[39;00m:\n\u001b[1;32m--> 649\u001b[0m     ret \u001b[38;5;241m=\u001b[39m \u001b[38;5;28;43mself\u001b[39;49m\u001b[38;5;241;43m.\u001b[39;49m\u001b[43m_build_naive\u001b[49m\u001b[43m(\u001b[49m\u001b[43mres\u001b[49m\u001b[43m,\u001b[49m\u001b[43m \u001b[49m\u001b[43mdefault\u001b[49m\u001b[43m)\u001b[49m\n\u001b[0;32m    650\u001b[0m \u001b[38;5;28;01mexcept\u001b[39;00m \u001b[38;5;167;01mValueError\u001b[39;00m \u001b[38;5;28;01mas\u001b[39;00m e:\n",
      "File \u001b[1;32m~\\anaconda3\\lib\\site-packages\\dateutil\\parser\\_parser.py:1235\u001b[0m, in \u001b[0;36mparser._build_naive\u001b[1;34m(self, res, default)\u001b[0m\n\u001b[0;32m   1233\u001b[0m         repl[\u001b[38;5;124m'\u001b[39m\u001b[38;5;124mday\u001b[39m\u001b[38;5;124m'\u001b[39m] \u001b[38;5;241m=\u001b[39m monthrange(cyear, cmonth)[\u001b[38;5;241m1\u001b[39m]\n\u001b[1;32m-> 1235\u001b[0m naive \u001b[38;5;241m=\u001b[39m default\u001b[38;5;241m.\u001b[39mreplace(\u001b[38;5;241m*\u001b[39m\u001b[38;5;241m*\u001b[39mrepl)\n\u001b[0;32m   1237\u001b[0m \u001b[38;5;28;01mif\u001b[39;00m res\u001b[38;5;241m.\u001b[39mweekday \u001b[38;5;129;01mis\u001b[39;00m \u001b[38;5;129;01mnot\u001b[39;00m \u001b[38;5;28;01mNone\u001b[39;00m \u001b[38;5;129;01mand\u001b[39;00m \u001b[38;5;129;01mnot\u001b[39;00m res\u001b[38;5;241m.\u001b[39mday:\n",
      "\u001b[1;31mValueError\u001b[0m: month must be in 1..12",
      "\nThe above exception was the direct cause of the following exception:\n",
      "\u001b[1;31mParserError\u001b[0m                               Traceback (most recent call last)",
      "File \u001b[1;32m~\\anaconda3\\lib\\site-packages\\pandas\\_libs\\tslib.pyx:536\u001b[0m, in \u001b[0;36mpandas._libs.tslib.array_to_datetime\u001b[1;34m()\u001b[0m\n",
      "File \u001b[1;32m~\\anaconda3\\lib\\site-packages\\pandas\\_libs\\tslibs\\parsing.pyx:281\u001b[0m, in \u001b[0;36mpandas._libs.tslibs.parsing.parse_datetime_string\u001b[1;34m()\u001b[0m\n",
      "File \u001b[1;32m~\\anaconda3\\lib\\site-packages\\dateutil\\parser\\_parser.py:1368\u001b[0m, in \u001b[0;36mparse\u001b[1;34m(timestr, parserinfo, **kwargs)\u001b[0m\n\u001b[0;32m   1367\u001b[0m \u001b[38;5;28;01melse\u001b[39;00m:\n\u001b[1;32m-> 1368\u001b[0m     \u001b[38;5;28;01mreturn\u001b[39;00m DEFAULTPARSER\u001b[38;5;241m.\u001b[39mparse(timestr, \u001b[38;5;241m*\u001b[39m\u001b[38;5;241m*\u001b[39mkwargs)\n",
      "File \u001b[1;32m~\\anaconda3\\lib\\site-packages\\dateutil\\parser\\_parser.py:651\u001b[0m, in \u001b[0;36mparser.parse\u001b[1;34m(self, timestr, default, ignoretz, tzinfos, **kwargs)\u001b[0m\n\u001b[0;32m    650\u001b[0m \u001b[38;5;28;01mexcept\u001b[39;00m \u001b[38;5;167;01mValueError\u001b[39;00m \u001b[38;5;28;01mas\u001b[39;00m e:\n\u001b[1;32m--> 651\u001b[0m     \u001b[43msix\u001b[49m\u001b[38;5;241;43m.\u001b[39;49m\u001b[43mraise_from\u001b[49m\u001b[43m(\u001b[49m\u001b[43mParserError\u001b[49m\u001b[43m(\u001b[49m\u001b[38;5;28;43mstr\u001b[39;49m\u001b[43m(\u001b[49m\u001b[43me\u001b[49m\u001b[43m)\u001b[49m\u001b[43m \u001b[49m\u001b[38;5;241;43m+\u001b[39;49m\u001b[43m \u001b[49m\u001b[38;5;124;43m\"\u001b[39;49m\u001b[38;5;124;43m: \u001b[39;49m\u001b[38;5;132;43;01m%s\u001b[39;49;00m\u001b[38;5;124;43m\"\u001b[39;49m\u001b[43m,\u001b[49m\u001b[43m \u001b[49m\u001b[43mtimestr\u001b[49m\u001b[43m)\u001b[49m\u001b[43m,\u001b[49m\u001b[43m \u001b[49m\u001b[43me\u001b[49m\u001b[43m)\u001b[49m\n\u001b[0;32m    653\u001b[0m \u001b[38;5;28;01mif\u001b[39;00m \u001b[38;5;129;01mnot\u001b[39;00m ignoretz:\n",
      "File \u001b[1;32m<string>:3\u001b[0m, in \u001b[0;36mraise_from\u001b[1;34m(value, from_value)\u001b[0m\n",
      "\u001b[1;31mParserError\u001b[0m: month must be in 1..12: 202356",
      "\nDuring handling of the above exception, another exception occurred:\n",
      "\u001b[1;31mTypeError\u001b[0m                                 Traceback (most recent call last)",
      "File \u001b[1;32m~\\anaconda3\\lib\\site-packages\\pandas\\_libs\\tslib.pyx:547\u001b[0m, in \u001b[0;36mpandas._libs.tslib.array_to_datetime\u001b[1;34m()\u001b[0m\n",
      "\u001b[1;31mTypeError\u001b[0m: invalid string coercion to datetime",
      "\nDuring handling of the above exception, another exception occurred:\n",
      "\u001b[1;31mValueError\u001b[0m                                Traceback (most recent call last)",
      "File \u001b[1;32m~\\anaconda3\\lib\\site-packages\\dateutil\\parser\\_parser.py:649\u001b[0m, in \u001b[0;36mparser.parse\u001b[1;34m(self, timestr, default, ignoretz, tzinfos, **kwargs)\u001b[0m\n\u001b[0;32m    648\u001b[0m \u001b[38;5;28;01mtry\u001b[39;00m:\n\u001b[1;32m--> 649\u001b[0m     ret \u001b[38;5;241m=\u001b[39m \u001b[38;5;28;43mself\u001b[39;49m\u001b[38;5;241;43m.\u001b[39;49m\u001b[43m_build_naive\u001b[49m\u001b[43m(\u001b[49m\u001b[43mres\u001b[49m\u001b[43m,\u001b[49m\u001b[43m \u001b[49m\u001b[43mdefault\u001b[49m\u001b[43m)\u001b[49m\n\u001b[0;32m    650\u001b[0m \u001b[38;5;28;01mexcept\u001b[39;00m \u001b[38;5;167;01mValueError\u001b[39;00m \u001b[38;5;28;01mas\u001b[39;00m e:\n",
      "File \u001b[1;32m~\\anaconda3\\lib\\site-packages\\dateutil\\parser\\_parser.py:1235\u001b[0m, in \u001b[0;36mparser._build_naive\u001b[1;34m(self, res, default)\u001b[0m\n\u001b[0;32m   1233\u001b[0m         repl[\u001b[38;5;124m'\u001b[39m\u001b[38;5;124mday\u001b[39m\u001b[38;5;124m'\u001b[39m] \u001b[38;5;241m=\u001b[39m monthrange(cyear, cmonth)[\u001b[38;5;241m1\u001b[39m]\n\u001b[1;32m-> 1235\u001b[0m naive \u001b[38;5;241m=\u001b[39m default\u001b[38;5;241m.\u001b[39mreplace(\u001b[38;5;241m*\u001b[39m\u001b[38;5;241m*\u001b[39mrepl)\n\u001b[0;32m   1237\u001b[0m \u001b[38;5;28;01mif\u001b[39;00m res\u001b[38;5;241m.\u001b[39mweekday \u001b[38;5;129;01mis\u001b[39;00m \u001b[38;5;129;01mnot\u001b[39;00m \u001b[38;5;28;01mNone\u001b[39;00m \u001b[38;5;129;01mand\u001b[39;00m \u001b[38;5;129;01mnot\u001b[39;00m res\u001b[38;5;241m.\u001b[39mday:\n",
      "\u001b[1;31mValueError\u001b[0m: month must be in 1..12",
      "\nThe above exception was the direct cause of the following exception:\n",
      "\u001b[1;31mParserError\u001b[0m                               Traceback (most recent call last)",
      "Input \u001b[1;32mIn [214]\u001b[0m, in \u001b[0;36m<cell line: 1>\u001b[1;34m()\u001b[0m\n\u001b[1;32m----> 1\u001b[0m \u001b[43mpd\u001b[49m\u001b[38;5;241;43m.\u001b[39;49m\u001b[43mto_datetime\u001b[49m\u001b[43m(\u001b[49m\u001b[38;5;124;43m\"\u001b[39;49m\u001b[38;5;124;43m202356\u001b[39;49m\u001b[38;5;124;43m\"\u001b[39;49m\u001b[43m)\u001b[49m\n",
      "File \u001b[1;32m~\\anaconda3\\lib\\site-packages\\pandas\\core\\tools\\datetimes.py:1078\u001b[0m, in \u001b[0;36mto_datetime\u001b[1;34m(arg, errors, dayfirst, yearfirst, utc, format, exact, unit, infer_datetime_format, origin, cache)\u001b[0m\n\u001b[0;32m   1076\u001b[0m         result \u001b[38;5;241m=\u001b[39m convert_listlike(arg, \u001b[38;5;28mformat\u001b[39m)\n\u001b[0;32m   1077\u001b[0m \u001b[38;5;28;01melse\u001b[39;00m:\n\u001b[1;32m-> 1078\u001b[0m     result \u001b[38;5;241m=\u001b[39m \u001b[43mconvert_listlike\u001b[49m\u001b[43m(\u001b[49m\u001b[43mnp\u001b[49m\u001b[38;5;241;43m.\u001b[39;49m\u001b[43marray\u001b[49m\u001b[43m(\u001b[49m\u001b[43m[\u001b[49m\u001b[43marg\u001b[49m\u001b[43m]\u001b[49m\u001b[43m)\u001b[49m\u001b[43m,\u001b[49m\u001b[43m \u001b[49m\u001b[38;5;28;43mformat\u001b[39;49m\u001b[43m)\u001b[49m[\u001b[38;5;241m0\u001b[39m]\n\u001b[0;32m   1080\u001b[0m \u001b[38;5;66;03m#  error: Incompatible return value type (got \"Union[Timestamp, NaTType,\u001b[39;00m\n\u001b[0;32m   1081\u001b[0m \u001b[38;5;66;03m# Series, Index]\", expected \"Union[DatetimeIndex, Series, float, str,\u001b[39;00m\n\u001b[0;32m   1082\u001b[0m \u001b[38;5;66;03m# NaTType, None]\")\u001b[39;00m\n\u001b[0;32m   1083\u001b[0m \u001b[38;5;28;01mreturn\u001b[39;00m result\n",
      "File \u001b[1;32m~\\anaconda3\\lib\\site-packages\\pandas\\core\\tools\\datetimes.py:402\u001b[0m, in \u001b[0;36m_convert_listlike_datetimes\u001b[1;34m(arg, format, name, tz, unit, errors, infer_datetime_format, dayfirst, yearfirst, exact)\u001b[0m\n\u001b[0;32m    400\u001b[0m \u001b[38;5;28;01massert\u001b[39;00m \u001b[38;5;28mformat\u001b[39m \u001b[38;5;129;01mis\u001b[39;00m \u001b[38;5;28;01mNone\u001b[39;00m \u001b[38;5;129;01mor\u001b[39;00m infer_datetime_format\n\u001b[0;32m    401\u001b[0m utc \u001b[38;5;241m=\u001b[39m tz \u001b[38;5;241m==\u001b[39m \u001b[38;5;124m\"\u001b[39m\u001b[38;5;124mutc\u001b[39m\u001b[38;5;124m\"\u001b[39m\n\u001b[1;32m--> 402\u001b[0m result, tz_parsed \u001b[38;5;241m=\u001b[39m \u001b[43mobjects_to_datetime64ns\u001b[49m\u001b[43m(\u001b[49m\n\u001b[0;32m    403\u001b[0m \u001b[43m    \u001b[49m\u001b[43marg\u001b[49m\u001b[43m,\u001b[49m\n\u001b[0;32m    404\u001b[0m \u001b[43m    \u001b[49m\u001b[43mdayfirst\u001b[49m\u001b[38;5;241;43m=\u001b[39;49m\u001b[43mdayfirst\u001b[49m\u001b[43m,\u001b[49m\n\u001b[0;32m    405\u001b[0m \u001b[43m    \u001b[49m\u001b[43myearfirst\u001b[49m\u001b[38;5;241;43m=\u001b[39;49m\u001b[43myearfirst\u001b[49m\u001b[43m,\u001b[49m\n\u001b[0;32m    406\u001b[0m \u001b[43m    \u001b[49m\u001b[43mutc\u001b[49m\u001b[38;5;241;43m=\u001b[39;49m\u001b[43mutc\u001b[49m\u001b[43m,\u001b[49m\n\u001b[0;32m    407\u001b[0m \u001b[43m    \u001b[49m\u001b[43merrors\u001b[49m\u001b[38;5;241;43m=\u001b[39;49m\u001b[43merrors\u001b[49m\u001b[43m,\u001b[49m\n\u001b[0;32m    408\u001b[0m \u001b[43m    \u001b[49m\u001b[43mrequire_iso8601\u001b[49m\u001b[38;5;241;43m=\u001b[39;49m\u001b[43mrequire_iso8601\u001b[49m\u001b[43m,\u001b[49m\n\u001b[0;32m    409\u001b[0m \u001b[43m    \u001b[49m\u001b[43mallow_object\u001b[49m\u001b[38;5;241;43m=\u001b[39;49m\u001b[38;5;28;43;01mTrue\u001b[39;49;00m\u001b[43m,\u001b[49m\n\u001b[0;32m    410\u001b[0m \u001b[43m\u001b[49m\u001b[43m)\u001b[49m\n\u001b[0;32m    412\u001b[0m \u001b[38;5;28;01mif\u001b[39;00m tz_parsed \u001b[38;5;129;01mis\u001b[39;00m \u001b[38;5;129;01mnot\u001b[39;00m \u001b[38;5;28;01mNone\u001b[39;00m:\n\u001b[0;32m    413\u001b[0m     \u001b[38;5;66;03m# We can take a shortcut since the datetime64 numpy array\u001b[39;00m\n\u001b[0;32m    414\u001b[0m     \u001b[38;5;66;03m# is in UTC\u001b[39;00m\n\u001b[0;32m    415\u001b[0m     dta \u001b[38;5;241m=\u001b[39m DatetimeArray(result, dtype\u001b[38;5;241m=\u001b[39mtz_to_dtype(tz_parsed))\n",
      "File \u001b[1;32m~\\anaconda3\\lib\\site-packages\\pandas\\core\\arrays\\datetimes.py:2217\u001b[0m, in \u001b[0;36mobjects_to_datetime64ns\u001b[1;34m(data, dayfirst, yearfirst, utc, errors, require_iso8601, allow_object, allow_mixed)\u001b[0m\n\u001b[0;32m   2215\u001b[0m         \u001b[38;5;28;01mreturn\u001b[39;00m values\u001b[38;5;241m.\u001b[39mview(\u001b[38;5;124m\"\u001b[39m\u001b[38;5;124mi8\u001b[39m\u001b[38;5;124m\"\u001b[39m), tz_parsed\n\u001b[0;32m   2216\u001b[0m     \u001b[38;5;28;01mexcept\u001b[39;00m (\u001b[38;5;167;01mValueError\u001b[39;00m, \u001b[38;5;167;01mTypeError\u001b[39;00m):\n\u001b[1;32m-> 2217\u001b[0m         \u001b[38;5;28;01mraise\u001b[39;00m err\n\u001b[0;32m   2219\u001b[0m \u001b[38;5;28;01mif\u001b[39;00m tz_parsed \u001b[38;5;129;01mis\u001b[39;00m \u001b[38;5;129;01mnot\u001b[39;00m \u001b[38;5;28;01mNone\u001b[39;00m:\n\u001b[0;32m   2220\u001b[0m     \u001b[38;5;66;03m# We can take a shortcut since the datetime64 numpy array\u001b[39;00m\n\u001b[0;32m   2221\u001b[0m     \u001b[38;5;66;03m#  is in UTC\u001b[39;00m\n\u001b[0;32m   2222\u001b[0m     \u001b[38;5;66;03m# Return i8 values to denote unix timestamps\u001b[39;00m\n\u001b[0;32m   2223\u001b[0m     \u001b[38;5;28;01mreturn\u001b[39;00m result\u001b[38;5;241m.\u001b[39mview(\u001b[38;5;124m\"\u001b[39m\u001b[38;5;124mi8\u001b[39m\u001b[38;5;124m\"\u001b[39m), tz_parsed\n",
      "File \u001b[1;32m~\\anaconda3\\lib\\site-packages\\pandas\\core\\arrays\\datetimes.py:2199\u001b[0m, in \u001b[0;36mobjects_to_datetime64ns\u001b[1;34m(data, dayfirst, yearfirst, utc, errors, require_iso8601, allow_object, allow_mixed)\u001b[0m\n\u001b[0;32m   2197\u001b[0m order: Literal[\u001b[38;5;124m\"\u001b[39m\u001b[38;5;124mF\u001b[39m\u001b[38;5;124m\"\u001b[39m, \u001b[38;5;124m\"\u001b[39m\u001b[38;5;124mC\u001b[39m\u001b[38;5;124m\"\u001b[39m] \u001b[38;5;241m=\u001b[39m \u001b[38;5;124m\"\u001b[39m\u001b[38;5;124mF\u001b[39m\u001b[38;5;124m\"\u001b[39m \u001b[38;5;28;01mif\u001b[39;00m flags\u001b[38;5;241m.\u001b[39mf_contiguous \u001b[38;5;28;01melse\u001b[39;00m \u001b[38;5;124m\"\u001b[39m\u001b[38;5;124mC\u001b[39m\u001b[38;5;124m\"\u001b[39m\n\u001b[0;32m   2198\u001b[0m \u001b[38;5;28;01mtry\u001b[39;00m:\n\u001b[1;32m-> 2199\u001b[0m     result, tz_parsed \u001b[38;5;241m=\u001b[39m \u001b[43mtslib\u001b[49m\u001b[38;5;241;43m.\u001b[39;49m\u001b[43marray_to_datetime\u001b[49m\u001b[43m(\u001b[49m\n\u001b[0;32m   2200\u001b[0m \u001b[43m        \u001b[49m\u001b[43mdata\u001b[49m\u001b[38;5;241;43m.\u001b[39;49m\u001b[43mravel\u001b[49m\u001b[43m(\u001b[49m\u001b[38;5;124;43m\"\u001b[39;49m\u001b[38;5;124;43mK\u001b[39;49m\u001b[38;5;124;43m\"\u001b[39;49m\u001b[43m)\u001b[49m\u001b[43m,\u001b[49m\n\u001b[0;32m   2201\u001b[0m \u001b[43m        \u001b[49m\u001b[43merrors\u001b[49m\u001b[38;5;241;43m=\u001b[39;49m\u001b[43merrors\u001b[49m\u001b[43m,\u001b[49m\n\u001b[0;32m   2202\u001b[0m \u001b[43m        \u001b[49m\u001b[43mutc\u001b[49m\u001b[38;5;241;43m=\u001b[39;49m\u001b[43mutc\u001b[49m\u001b[43m,\u001b[49m\n\u001b[0;32m   2203\u001b[0m \u001b[43m        \u001b[49m\u001b[43mdayfirst\u001b[49m\u001b[38;5;241;43m=\u001b[39;49m\u001b[43mdayfirst\u001b[49m\u001b[43m,\u001b[49m\n\u001b[0;32m   2204\u001b[0m \u001b[43m        \u001b[49m\u001b[43myearfirst\u001b[49m\u001b[38;5;241;43m=\u001b[39;49m\u001b[43myearfirst\u001b[49m\u001b[43m,\u001b[49m\n\u001b[0;32m   2205\u001b[0m \u001b[43m        \u001b[49m\u001b[43mrequire_iso8601\u001b[49m\u001b[38;5;241;43m=\u001b[39;49m\u001b[43mrequire_iso8601\u001b[49m\u001b[43m,\u001b[49m\n\u001b[0;32m   2206\u001b[0m \u001b[43m        \u001b[49m\u001b[43mallow_mixed\u001b[49m\u001b[38;5;241;43m=\u001b[39;49m\u001b[43mallow_mixed\u001b[49m\u001b[43m,\u001b[49m\n\u001b[0;32m   2207\u001b[0m \u001b[43m    \u001b[49m\u001b[43m)\u001b[49m\n\u001b[0;32m   2208\u001b[0m     result \u001b[38;5;241m=\u001b[39m result\u001b[38;5;241m.\u001b[39mreshape(data\u001b[38;5;241m.\u001b[39mshape, order\u001b[38;5;241m=\u001b[39morder)\n\u001b[0;32m   2209\u001b[0m \u001b[38;5;28;01mexcept\u001b[39;00m \u001b[38;5;167;01mValueError\u001b[39;00m \u001b[38;5;28;01mas\u001b[39;00m err:\n",
      "File \u001b[1;32m~\\anaconda3\\lib\\site-packages\\pandas\\_libs\\tslib.pyx:381\u001b[0m, in \u001b[0;36mpandas._libs.tslib.array_to_datetime\u001b[1;34m()\u001b[0m\n",
      "File \u001b[1;32m~\\anaconda3\\lib\\site-packages\\pandas\\_libs\\tslib.pyx:613\u001b[0m, in \u001b[0;36mpandas._libs.tslib.array_to_datetime\u001b[1;34m()\u001b[0m\n",
      "File \u001b[1;32m~\\anaconda3\\lib\\site-packages\\pandas\\_libs\\tslib.pyx:751\u001b[0m, in \u001b[0;36mpandas._libs.tslib._array_to_datetime_object\u001b[1;34m()\u001b[0m\n",
      "File \u001b[1;32m~\\anaconda3\\lib\\site-packages\\pandas\\_libs\\tslib.pyx:742\u001b[0m, in \u001b[0;36mpandas._libs.tslib._array_to_datetime_object\u001b[1;34m()\u001b[0m\n",
      "File \u001b[1;32m~\\anaconda3\\lib\\site-packages\\pandas\\_libs\\tslibs\\parsing.pyx:281\u001b[0m, in \u001b[0;36mpandas._libs.tslibs.parsing.parse_datetime_string\u001b[1;34m()\u001b[0m\n",
      "File \u001b[1;32m~\\anaconda3\\lib\\site-packages\\dateutil\\parser\\_parser.py:1368\u001b[0m, in \u001b[0;36mparse\u001b[1;34m(timestr, parserinfo, **kwargs)\u001b[0m\n\u001b[0;32m   1366\u001b[0m     \u001b[38;5;28;01mreturn\u001b[39;00m parser(parserinfo)\u001b[38;5;241m.\u001b[39mparse(timestr, \u001b[38;5;241m*\u001b[39m\u001b[38;5;241m*\u001b[39mkwargs)\n\u001b[0;32m   1367\u001b[0m \u001b[38;5;28;01melse\u001b[39;00m:\n\u001b[1;32m-> 1368\u001b[0m     \u001b[38;5;28;01mreturn\u001b[39;00m DEFAULTPARSER\u001b[38;5;241m.\u001b[39mparse(timestr, \u001b[38;5;241m*\u001b[39m\u001b[38;5;241m*\u001b[39mkwargs)\n",
      "File \u001b[1;32m~\\anaconda3\\lib\\site-packages\\dateutil\\parser\\_parser.py:651\u001b[0m, in \u001b[0;36mparser.parse\u001b[1;34m(self, timestr, default, ignoretz, tzinfos, **kwargs)\u001b[0m\n\u001b[0;32m    649\u001b[0m     ret \u001b[38;5;241m=\u001b[39m \u001b[38;5;28mself\u001b[39m\u001b[38;5;241m.\u001b[39m_build_naive(res, default)\n\u001b[0;32m    650\u001b[0m \u001b[38;5;28;01mexcept\u001b[39;00m \u001b[38;5;167;01mValueError\u001b[39;00m \u001b[38;5;28;01mas\u001b[39;00m e:\n\u001b[1;32m--> 651\u001b[0m     \u001b[43msix\u001b[49m\u001b[38;5;241;43m.\u001b[39;49m\u001b[43mraise_from\u001b[49m\u001b[43m(\u001b[49m\u001b[43mParserError\u001b[49m\u001b[43m(\u001b[49m\u001b[38;5;28;43mstr\u001b[39;49m\u001b[43m(\u001b[49m\u001b[43me\u001b[49m\u001b[43m)\u001b[49m\u001b[43m \u001b[49m\u001b[38;5;241;43m+\u001b[39;49m\u001b[43m \u001b[49m\u001b[38;5;124;43m\"\u001b[39;49m\u001b[38;5;124;43m: \u001b[39;49m\u001b[38;5;132;43;01m%s\u001b[39;49;00m\u001b[38;5;124;43m\"\u001b[39;49m\u001b[43m,\u001b[49m\u001b[43m \u001b[49m\u001b[43mtimestr\u001b[49m\u001b[43m)\u001b[49m\u001b[43m,\u001b[49m\u001b[43m \u001b[49m\u001b[43me\u001b[49m\u001b[43m)\u001b[49m\n\u001b[0;32m    653\u001b[0m \u001b[38;5;28;01mif\u001b[39;00m \u001b[38;5;129;01mnot\u001b[39;00m ignoretz:\n\u001b[0;32m    654\u001b[0m     ret \u001b[38;5;241m=\u001b[39m \u001b[38;5;28mself\u001b[39m\u001b[38;5;241m.\u001b[39m_build_tzaware(ret, res, tzinfos)\n",
      "File \u001b[1;32m<string>:3\u001b[0m, in \u001b[0;36mraise_from\u001b[1;34m(value, from_value)\u001b[0m\n",
      "\u001b[1;31mParserError\u001b[0m: month must be in 1..12: 202356"
     ]
    }
   ],
   "source": [
    "pd.to_datetime(\"202356\")"
   ]
  },
  {
   "cell_type": "code",
   "execution_count": 215,
   "id": "e2e5e042",
   "metadata": {},
   "outputs": [
    {
     "data": {
      "text/plain": [
       "Timestamp('2023-05-06 00:00:00')"
      ]
     },
     "execution_count": 215,
     "metadata": {},
     "output_type": "execute_result"
    }
   ],
   "source": [
    "pd.to_datetime(\"20230506\")"
   ]
  },
  {
   "cell_type": "code",
   "execution_count": 216,
   "id": "fec99fd9",
   "metadata": {},
   "outputs": [
    {
     "data": {
      "text/plain": [
       "NaT"
      ]
     },
     "execution_count": 216,
     "metadata": {},
     "output_type": "execute_result"
    }
   ],
   "source": [
    "pd.to_datetime(\"2023506\",errors=\"coerce\")"
   ]
  },
  {
   "cell_type": "code",
   "execution_count": 126,
   "id": "2d04517c",
   "metadata": {},
   "outputs": [],
   "source": [
    "# nat : means not a time"
   ]
  },
  {
   "cell_type": "markdown",
   "id": "b0edc6c5",
   "metadata": {},
   "source": [
    "## pd.to_datetime converts series of strings to timestamp but standalone timestamp not"
   ]
  },
  {
   "cell_type": "code",
   "execution_count": 217,
   "id": "17fa98e9",
   "metadata": {},
   "outputs": [
    {
     "ename": "TypeError",
     "evalue": "Cannot convert input [['2023-4-12  4:56 pm', '2013-6-13 4:23 pm']] of type <class 'list'> to Timestamp",
     "output_type": "error",
     "traceback": [
      "\u001b[1;31m---------------------------------------------------------------------------\u001b[0m",
      "\u001b[1;31mTypeError\u001b[0m                                 Traceback (most recent call last)",
      "Input \u001b[1;32mIn [217]\u001b[0m, in \u001b[0;36m<cell line: 1>\u001b[1;34m()\u001b[0m\n\u001b[1;32m----> 1\u001b[0m \u001b[43mpd\u001b[49m\u001b[38;5;241;43m.\u001b[39;49m\u001b[43mTimestamp\u001b[49m\u001b[43m(\u001b[49m\u001b[43m[\u001b[49m\u001b[38;5;124;43m\"\u001b[39;49m\u001b[38;5;124;43m2023-4-12  4:56 pm\u001b[39;49m\u001b[38;5;124;43m\"\u001b[39;49m\u001b[43m,\u001b[49m\u001b[38;5;124;43m\"\u001b[39;49m\u001b[38;5;124;43m2013-6-13 4:23 pm\u001b[39;49m\u001b[38;5;124;43m\"\u001b[39;49m\u001b[43m]\u001b[49m\u001b[43m)\u001b[49m\n",
      "File \u001b[1;32m~\\anaconda3\\lib\\site-packages\\pandas\\_libs\\tslibs\\timestamps.pyx:1399\u001b[0m, in \u001b[0;36mpandas._libs.tslibs.timestamps.Timestamp.__new__\u001b[1;34m()\u001b[0m\n",
      "File \u001b[1;32m~\\anaconda3\\lib\\site-packages\\pandas\\_libs\\tslibs\\conversion.pyx:446\u001b[0m, in \u001b[0;36mpandas._libs.tslibs.conversion.convert_to_tsobject\u001b[1;34m()\u001b[0m\n",
      "\u001b[1;31mTypeError\u001b[0m: Cannot convert input [['2023-4-12  4:56 pm', '2013-6-13 4:23 pm']] of type <class 'list'> to Timestamp"
     ]
    }
   ],
   "source": [
    "pd.Timestamp([\"2023-4-12  4:56 pm\",\"2013-6-13 4:23 pm\"])"
   ]
  },
  {
   "cell_type": "code",
   "execution_count": 218,
   "id": "777fb018",
   "metadata": {},
   "outputs": [
    {
     "data": {
      "text/plain": [
       "DatetimeIndex(['2023-04-12 16:56:00', '2013-06-13 16:23:00'], dtype='datetime64[ns]', freq=None)"
      ]
     },
     "execution_count": 218,
     "metadata": {},
     "output_type": "execute_result"
    }
   ],
   "source": [
    "pd.to_datetime([\"2023-4-12  4:56 pm\",\"2013-6-13 4:23 pm\"])"
   ]
  },
  {
   "cell_type": "markdown",
   "id": "0938cf6f",
   "metadata": {},
   "source": [
    "# Datetime index : is the collections of timestamps"
   ]
  },
  {
   "cell_type": "markdown",
   "id": "efca3ae4",
   "metadata": {},
   "source": [
    "## Creation of Datetime index object standalone from pandas functions"
   ]
  },
  {
   "cell_type": "code",
   "execution_count": 219,
   "id": "c37846e7",
   "metadata": {},
   "outputs": [
    {
     "data": {
      "text/plain": [
       "DatetimeIndex(['2023-04-12', '2023-04-23'], dtype='datetime64[ns]', freq=None)"
      ]
     },
     "execution_count": 219,
     "metadata": {},
     "output_type": "execute_result"
    }
   ],
   "source": [
    "pd.DatetimeIndex([\"2023-4-12\",\"2023-4-23\"])"
   ]
  },
  {
   "cell_type": "markdown",
   "id": "d5c50df7",
   "metadata": {},
   "source": [
    "# here datetime64[ns] is the dtype that numpy array defines "
   ]
  },
  {
   "cell_type": "code",
   "execution_count": 61,
   "id": "4d02d342",
   "metadata": {},
   "outputs": [
    {
     "data": {
      "text/plain": [
       "DatetimeIndex(['2023-06-07', '2023-09-08'], dtype='datetime64[ns]', freq=None)"
      ]
     },
     "execution_count": 61,
     "metadata": {},
     "output_type": "execute_result"
    }
   ],
   "source": [
    "x=pd.DatetimeIndex([pd.Timestamp(\"2023-6-7\"),pd.Timestamp(\"2023-9-8\")])\n",
    "x"
   ]
  },
  {
   "cell_type": "markdown",
   "id": "6c846fe5",
   "metadata": {},
   "source": [
    "## create a dates in specifies interval using date_range"
   ]
  },
  {
   "cell_type": "code",
   "execution_count": 220,
   "id": "735aa61d",
   "metadata": {},
   "outputs": [
    {
     "data": {
      "text/plain": [
       "DatetimeIndex(['2024-05-20', '2024-05-21', '2024-05-22', '2024-05-23',\n",
       "               '2024-05-24', '2024-05-25', '2024-05-26', '2024-05-27',\n",
       "               '2024-05-28', '2024-05-29', '2024-05-30', '2024-05-31',\n",
       "               '2024-06-01', '2024-06-02', '2024-06-03', '2024-06-04',\n",
       "               '2024-06-05', '2024-06-06', '2024-06-07', '2024-06-08',\n",
       "               '2024-06-09', '2024-06-10', '2024-06-11', '2024-06-12',\n",
       "               '2024-06-13', '2024-06-14', '2024-06-15', '2024-06-16',\n",
       "               '2024-06-17', '2024-06-18', '2024-06-19', '2024-06-20'],\n",
       "              dtype='datetime64[ns]', freq='D')"
      ]
     },
     "execution_count": 220,
     "metadata": {},
     "output_type": "execute_result"
    }
   ],
   "source": [
    "pd.date_range(start=\"2024-5-20\",end=\"2024-6-20\") # by default frequency is days"
   ]
  },
  {
   "cell_type": "code",
   "execution_count": 221,
   "id": "f652bfe1",
   "metadata": {},
   "outputs": [
    {
     "data": {
      "text/plain": [
       "DatetimeIndex(['2024-05-20', '2024-05-22', '2024-05-24', '2024-05-26',\n",
       "               '2024-05-28', '2024-05-30', '2024-06-01', '2024-06-03',\n",
       "               '2024-06-05', '2024-06-07', '2024-06-09', '2024-06-11',\n",
       "               '2024-06-13', '2024-06-15', '2024-06-17', '2024-06-19'],\n",
       "              dtype='datetime64[ns]', freq='2D')"
      ]
     },
     "execution_count": 221,
     "metadata": {},
     "output_type": "execute_result"
    }
   ],
   "source": [
    "pd.date_range(start=\"2024-5-20\",end=\"2024-6-20\",freq=\"2D\") # by default frequency is days"
   ]
  },
  {
   "cell_type": "markdown",
   "id": "f18514c5",
   "metadata": {},
   "source": [
    "# fetching the dates of business days monday to friday"
   ]
  },
  {
   "cell_type": "code",
   "execution_count": 223,
   "id": "cf156205",
   "metadata": {},
   "outputs": [
    {
     "data": {
      "text/plain": [
       "DatetimeIndex(['2024-05-20', '2024-05-21', '2024-05-22', '2024-05-23',\n",
       "               '2024-05-24', '2024-05-27', '2024-05-28', '2024-05-29',\n",
       "               '2024-05-30', '2024-05-31', '2024-06-03', '2024-06-04',\n",
       "               '2024-06-05', '2024-06-06', '2024-06-07', '2024-06-10',\n",
       "               '2024-06-11', '2024-06-12', '2024-06-13', '2024-06-14',\n",
       "               '2024-06-17', '2024-06-18', '2024-06-19', '2024-06-20'],\n",
       "              dtype='datetime64[ns]', freq='B')"
      ]
     },
     "execution_count": 223,
     "metadata": {},
     "output_type": "execute_result"
    }
   ],
   "source": [
    "pd.date_range(start=\"2024-5-20\",end=\"2024-6-20\",freq=\"B\") "
   ]
  },
  {
   "cell_type": "code",
   "execution_count": 225,
   "id": "0bf54b9b",
   "metadata": {},
   "outputs": [
    {
     "data": {
      "text/plain": [
       "DatetimeIndex(['2024-05-19', '2024-05-26', '2024-06-02', '2024-06-09',\n",
       "               '2024-06-16'],\n",
       "              dtype='datetime64[ns]', freq='W-SUN')"
      ]
     },
     "execution_count": 225,
     "metadata": {},
     "output_type": "execute_result"
    }
   ],
   "source": [
    "pd.date_range(start=\"2024-05-18\",end=\"2024-6-20\",freq=\"W\") "
   ]
  },
  {
   "cell_type": "code",
   "execution_count": 227,
   "id": "4ec3a910",
   "metadata": {},
   "outputs": [
    {
     "data": {
      "text/plain": [
       "DatetimeIndex(['2024-05-19', '2024-06-02', '2024-06-16'], dtype='datetime64[ns]', freq='2W-SUN')"
      ]
     },
     "execution_count": 227,
     "metadata": {},
     "output_type": "execute_result"
    }
   ],
   "source": [
    "pd.date_range(start=\"2024-05-18\",end=\"2024-6-20\",freq=\"2W\") "
   ]
  },
  {
   "cell_type": "code",
   "execution_count": 228,
   "id": "c93b4e62",
   "metadata": {},
   "outputs": [
    {
     "data": {
      "text/plain": [
       "DatetimeIndex(['2024-05-23', '2024-05-30', '2024-06-06', '2024-06-13',\n",
       "               '2024-06-20'],\n",
       "              dtype='datetime64[ns]', freq='W-THU')"
      ]
     },
     "execution_count": 228,
     "metadata": {},
     "output_type": "execute_result"
    }
   ],
   "source": [
    "pd.date_range(start=\"2024-05-18\",end=\"2024-6-20\",freq=\"W-THU\") # customized week "
   ]
  },
  {
   "cell_type": "code",
   "execution_count": 229,
   "id": "4fcaa18d",
   "metadata": {},
   "outputs": [
    {
     "data": {
      "text/plain": [
       "DatetimeIndex([], dtype='datetime64[ns]', freq='W-THU')"
      ]
     },
     "execution_count": 229,
     "metadata": {},
     "output_type": "execute_result"
    }
   ],
   "source": [
    "pd.date_range(start=\"2024-05-18\",end=\"2024-4-20\",freq=\"W-THU\") # customized week "
   ]
  },
  {
   "cell_type": "code",
   "execution_count": 230,
   "id": "19023a96",
   "metadata": {},
   "outputs": [
    {
     "data": {
      "text/plain": [
       "DatetimeIndex(['2024-05-20 00:00:00', '2024-05-20 01:00:00',\n",
       "               '2024-05-20 02:00:00', '2024-05-20 03:00:00',\n",
       "               '2024-05-20 04:00:00', '2024-05-20 05:00:00',\n",
       "               '2024-05-20 06:00:00', '2024-05-20 07:00:00',\n",
       "               '2024-05-20 08:00:00', '2024-05-20 09:00:00',\n",
       "               '2024-05-20 10:00:00', '2024-05-20 11:00:00',\n",
       "               '2024-05-20 12:00:00', '2024-05-20 13:00:00',\n",
       "               '2024-05-20 14:00:00', '2024-05-20 15:00:00',\n",
       "               '2024-05-20 16:00:00', '2024-05-20 17:00:00',\n",
       "               '2024-05-20 18:00:00', '2024-05-20 19:00:00',\n",
       "               '2024-05-20 20:00:00', '2024-05-20 21:00:00',\n",
       "               '2024-05-20 22:00:00', '2024-05-20 23:00:00',\n",
       "               '2024-05-21 00:00:00'],\n",
       "              dtype='datetime64[ns]', freq='H')"
      ]
     },
     "execution_count": 230,
     "metadata": {},
     "output_type": "execute_result"
    }
   ],
   "source": [
    "pd.date_range(start=\"2024-05-20\",end=\"2024-05-21\",freq=\"H\") "
   ]
  },
  {
   "cell_type": "code",
   "execution_count": 231,
   "id": "857ca80d",
   "metadata": {},
   "outputs": [
    {
     "data": {
      "text/plain": [
       "DatetimeIndex(['2024-05-20 00:00:00', '2024-05-20 03:00:00',\n",
       "               '2024-05-20 06:00:00', '2024-05-20 09:00:00',\n",
       "               '2024-05-20 12:00:00', '2024-05-20 15:00:00',\n",
       "               '2024-05-20 18:00:00', '2024-05-20 21:00:00',\n",
       "               '2024-05-21 00:00:00'],\n",
       "              dtype='datetime64[ns]', freq='3H')"
      ]
     },
     "execution_count": 231,
     "metadata": {},
     "output_type": "execute_result"
    }
   ],
   "source": [
    "pd.date_range(start=\"2024-05-20\",end=\"2024-05-21\",freq=\"3H\") "
   ]
  },
  {
   "cell_type": "code",
   "execution_count": 232,
   "id": "8674af91",
   "metadata": {},
   "outputs": [
    {
     "data": {
      "text/plain": [
       "DatetimeIndex(['2024-12-31', '2025-12-31'], dtype='datetime64[ns]', freq='A-DEC')"
      ]
     },
     "execution_count": 232,
     "metadata": {},
     "output_type": "execute_result"
    }
   ],
   "source": [
    "pd.date_range(start=\"2024/5/20\",end=\"2026/5/20\",freq='y')"
   ]
  },
  {
   "cell_type": "code",
   "execution_count": 234,
   "id": "fc819911",
   "metadata": {},
   "outputs": [
    {
     "data": {
      "text/plain": [
       "DatetimeIndex(['2024-09-30', '2025-09-30'], dtype='datetime64[ns]', freq='A-SEP')"
      ]
     },
     "execution_count": 234,
     "metadata": {},
     "output_type": "execute_result"
    }
   ],
   "source": [
    "pd.date_range(start=\"2024/5/20\",end=\"2026/5/20\",freq='A-SEP')"
   ]
  },
  {
   "cell_type": "markdown",
   "id": "0217746c",
   "metadata": {},
   "source": [
    "# ARITHEMETIC OPRATIONS"
   ]
  },
  {
   "cell_type": "markdown",
   "id": "059b917c",
   "metadata": {},
   "source": [
    "# TIME DELTA"
   ]
  },
  {
   "cell_type": "code",
   "execution_count": 235,
   "id": "f641a09b",
   "metadata": {},
   "outputs": [],
   "source": [
    "t1=pd.Timestamp(\"2024-05-20\")\n",
    "t2=pd.Timestamp(\"2024-05-25\")"
   ]
  },
  {
   "cell_type": "code",
   "execution_count": 236,
   "id": "c71602f4",
   "metadata": {},
   "outputs": [
    {
     "data": {
      "text/plain": [
       "Timedelta('5 days 00:00:00')"
      ]
     },
     "execution_count": 236,
     "metadata": {},
     "output_type": "execute_result"
    }
   ],
   "source": [
    "t2-t1"
   ]
  },
  {
   "cell_type": "code",
   "execution_count": 237,
   "id": "3bd5faa4",
   "metadata": {},
   "outputs": [],
   "source": [
    "t1=pd.Timestamp(\"2024-05-20 9:30 am\")\n",
    "t2=pd.Timestamp(\"2024-1-26 7:35 pm\")"
   ]
  },
  {
   "cell_type": "code",
   "execution_count": 239,
   "id": "d93dcb2e",
   "metadata": {},
   "outputs": [
    {
     "data": {
      "text/plain": [
       "Timedelta('114 days 13:55:00')"
      ]
     },
     "execution_count": 239,
     "metadata": {},
     "output_type": "execute_result"
    }
   ],
   "source": [
    "t1-t2"
   ]
  },
  {
   "cell_type": "markdown",
   "id": "587babd5-3c52-4926-9ffc-cffd807483f8",
   "metadata": {},
   "source": [
    "# creation of time delta standalone"
   ]
  },
  {
   "cell_type": "code",
   "execution_count": 240,
   "id": "d831f5c5",
   "metadata": {},
   "outputs": [
    {
     "data": {
      "text/plain": [
       "Timedelta('2 days 00:00:00')"
      ]
     },
     "execution_count": 240,
     "metadata": {},
     "output_type": "execute_result"
    }
   ],
   "source": [
    "pd.Timedelta(\"2 days\")"
   ]
  },
  {
   "cell_type": "code",
   "execution_count": 241,
   "id": "cdeb886a",
   "metadata": {},
   "outputs": [
    {
     "data": {
      "text/plain": [
       "DatetimeIndex(['2024-04-03', '2024-04-04', '2024-04-05', '2024-04-06',\n",
       "               '2024-04-07', '2024-04-08', '2024-04-09', '2024-04-10',\n",
       "               '2024-04-11', '2024-04-12', '2024-04-13', '2024-04-14',\n",
       "               '2024-04-15', '2024-04-16', '2024-04-17', '2024-04-18',\n",
       "               '2024-04-19', '2024-04-20', '2024-04-21', '2024-04-22',\n",
       "               '2024-04-23', '2024-04-24', '2024-04-25', '2024-04-26',\n",
       "               '2024-04-27', '2024-04-28', '2024-04-29', '2024-04-30',\n",
       "               '2024-05-01', '2024-05-02', '2024-05-03'],\n",
       "              dtype='datetime64[ns]', freq='D')"
      ]
     },
     "execution_count": 241,
     "metadata": {},
     "output_type": "execute_result"
    }
   ],
   "source": [
    "pd.date_range(start=\"2024/4/1\",end=\"2024/5/1\",freq='D')+pd.Timedelta(\"2 days\")"
   ]
  },
  {
   "cell_type": "code",
   "execution_count": 59,
   "id": "e5590436",
   "metadata": {},
   "outputs": [
    {
     "data": {
      "text/plain": [
       "DatetimeIndex(['2024-05-16 10:30:00', '2024-05-17 10:30:00',\n",
       "               '2024-05-18 10:30:00', '2024-05-19 10:30:00',\n",
       "               '2024-05-20 10:30:00', '2024-05-21 10:30:00',\n",
       "               '2024-05-22 10:30:00', '2024-05-23 10:30:00',\n",
       "               '2024-05-24 10:30:00', '2024-05-25 10:30:00',\n",
       "               '2024-05-26 10:30:00', '2024-05-27 10:30:00',\n",
       "               '2024-05-28 10:30:00', '2024-05-29 10:30:00',\n",
       "               '2024-05-30 10:30:00', '2024-05-31 10:30:00',\n",
       "               '2024-06-01 10:30:00', '2024-06-02 10:30:00',\n",
       "               '2024-06-03 10:30:00', '2024-06-04 10:30:00',\n",
       "               '2024-06-05 10:30:00', '2024-06-06 10:30:00',\n",
       "               '2024-06-07 10:30:00', '2024-06-08 10:30:00',\n",
       "               '2024-06-09 10:30:00', '2024-06-10 10:30:00',\n",
       "               '2024-06-11 10:30:00', '2024-06-12 10:30:00',\n",
       "               '2024-06-13 10:30:00', '2024-06-14 10:30:00',\n",
       "               '2024-06-15 10:30:00', '2024-06-16 10:30:00'],\n",
       "              dtype='datetime64[ns]', freq='D')"
      ]
     },
     "execution_count": 59,
     "metadata": {},
     "output_type": "execute_result"
    }
   ],
   "source": [
    "pd.date_range(start=\"2024/05/13\",end=\"2024/06/13\",freq='D')+pd.Timedelta(days=3,hours=10,minutes=30)"
   ]
  },
  {
   "cell_type": "markdown",
   "id": "30f2f7ea",
   "metadata": {},
   "source": [
    "## WORKING ON DATA "
   ]
  },
  {
   "cell_type": "code",
   "execution_count": 179,
   "id": "e3bcd95f",
   "metadata": {},
   "outputs": [
    {
     "data": {
      "text/html": [
       "<div>\n",
       "<style scoped>\n",
       "    .dataframe tbody tr th:only-of-type {\n",
       "        vertical-align: middle;\n",
       "    }\n",
       "\n",
       "    .dataframe tbody tr th {\n",
       "        vertical-align: top;\n",
       "    }\n",
       "\n",
       "    .dataframe thead th {\n",
       "        text-align: right;\n",
       "    }\n",
       "</style>\n",
       "<table border=\"1\" class=\"dataframe\">\n",
       "  <thead>\n",
       "    <tr style=\"text-align: right;\">\n",
       "      <th></th>\n",
       "      <th>name</th>\n",
       "      <th>age</th>\n",
       "      <th>favorite_color</th>\n",
       "      <th>grade</th>\n",
       "      <th>birth_date</th>\n",
       "    </tr>\n",
       "  </thead>\n",
       "  <tbody>\n",
       "    <tr>\n",
       "      <th>0</th>\n",
       "      <td>Rutuja</td>\n",
       "      <td>20</td>\n",
       "      <td>blue</td>\n",
       "      <td>88</td>\n",
       "      <td>01-jan-2000</td>\n",
       "    </tr>\n",
       "    <tr>\n",
       "      <th>1</th>\n",
       "      <td>Neeraj</td>\n",
       "      <td>19</td>\n",
       "      <td>red</td>\n",
       "      <td>92</td>\n",
       "      <td>8/05/1997</td>\n",
       "    </tr>\n",
       "    <tr>\n",
       "      <th>2</th>\n",
       "      <td>Renna</td>\n",
       "      <td>22</td>\n",
       "      <td>yellow</td>\n",
       "      <td>95</td>\n",
       "      <td>April/28/1996</td>\n",
       "    </tr>\n",
       "    <tr>\n",
       "      <th>3</th>\n",
       "      <td>Pratik</td>\n",
       "      <td>21</td>\n",
       "      <td>green</td>\n",
       "      <td>70</td>\n",
       "      <td>12-16-1995</td>\n",
       "    </tr>\n",
       "    <tr>\n",
       "      <th>4</th>\n",
       "      <td>hema</td>\n",
       "      <td>22</td>\n",
       "      <td>black</td>\n",
       "      <td>100</td>\n",
       "      <td>2023-06-13 10:30:45</td>\n",
       "    </tr>\n",
       "    <tr>\n",
       "      <th>5</th>\n",
       "      <td>kartik</td>\n",
       "      <td>23</td>\n",
       "      <td>orange</td>\n",
       "      <td>122</td>\n",
       "      <td>0912021</td>\n",
       "    </tr>\n",
       "  </tbody>\n",
       "</table>\n",
       "</div>"
      ],
      "text/plain": [
       "     name  age favorite_color  grade           birth_date\n",
       "0  Rutuja   20           blue     88          01-jan-2000\n",
       "1  Neeraj   19            red     92            8/05/1997\n",
       "2   Renna   22         yellow     95        April/28/1996\n",
       "3  Pratik   21          green     70           12-16-1995\n",
       "4    hema   22          black    100  2023-06-13 10:30:45\n",
       "5  kartik   23         orange    122              0912021"
      ]
     },
     "execution_count": 179,
     "metadata": {},
     "output_type": "execute_result"
    }
   ],
   "source": [
    "data = {'name': ['Rutuja', 'Neeraj',\n",
    "                     'Renna', 'Pratik',\"hema\",\"kartik\"],\n",
    "            'age': [20, 19, 22, 21,22,23],\n",
    "            'favorite_color': ['blue', 'red',\n",
    "                               'yellow', \"green\",\"black\",\"orange\"],\n",
    "            'grade': [88, 92, 95, 70,100,122],\n",
    "            'birth_date': ['01-jan-2000', '8/05/1997',    ## different formats of date\n",
    "                           'April/28/1996', '12-16-1995',\"2023-06-13 10:30:45\",\"0912021\"]}\n",
    "df1=pd.DataFrame(data)\n",
    "df1"
   ]
  },
  {
   "cell_type": "code",
   "execution_count": 180,
   "id": "939536cc",
   "metadata": {},
   "outputs": [
    {
     "data": {
      "text/plain": [
       "name              object\n",
       "age                int64\n",
       "favorite_color    object\n",
       "grade              int64\n",
       "birth_date        object\n",
       "dtype: object"
      ]
     },
     "execution_count": 180,
     "metadata": {},
     "output_type": "execute_result"
    }
   ],
   "source": [
    "df1.dtypes"
   ]
  },
  {
   "cell_type": "code",
   "execution_count": 181,
   "id": "0a7b6f07",
   "metadata": {},
   "outputs": [
    {
     "ename": "ParserError",
     "evalue": "year 912021 is out of range: 0912021",
     "output_type": "error",
     "traceback": [
      "\u001b[1;31m---------------------------------------------------------------------------\u001b[0m",
      "\u001b[1;31mValueError\u001b[0m                                Traceback (most recent call last)",
      "File \u001b[1;32m~\\anaconda3\\lib\\site-packages\\dateutil\\parser\\_parser.py:649\u001b[0m, in \u001b[0;36mparser.parse\u001b[1;34m(self, timestr, default, ignoretz, tzinfos, **kwargs)\u001b[0m\n\u001b[0;32m    648\u001b[0m \u001b[38;5;28;01mtry\u001b[39;00m:\n\u001b[1;32m--> 649\u001b[0m     ret \u001b[38;5;241m=\u001b[39m \u001b[38;5;28;43mself\u001b[39;49m\u001b[38;5;241;43m.\u001b[39;49m\u001b[43m_build_naive\u001b[49m\u001b[43m(\u001b[49m\u001b[43mres\u001b[49m\u001b[43m,\u001b[49m\u001b[43m \u001b[49m\u001b[43mdefault\u001b[49m\u001b[43m)\u001b[49m\n\u001b[0;32m    650\u001b[0m \u001b[38;5;28;01mexcept\u001b[39;00m \u001b[38;5;167;01mValueError\u001b[39;00m \u001b[38;5;28;01mas\u001b[39;00m e:\n",
      "File \u001b[1;32m~\\anaconda3\\lib\\site-packages\\dateutil\\parser\\_parser.py:1235\u001b[0m, in \u001b[0;36mparser._build_naive\u001b[1;34m(self, res, default)\u001b[0m\n\u001b[0;32m   1233\u001b[0m         repl[\u001b[38;5;124m'\u001b[39m\u001b[38;5;124mday\u001b[39m\u001b[38;5;124m'\u001b[39m] \u001b[38;5;241m=\u001b[39m monthrange(cyear, cmonth)[\u001b[38;5;241m1\u001b[39m]\n\u001b[1;32m-> 1235\u001b[0m naive \u001b[38;5;241m=\u001b[39m default\u001b[38;5;241m.\u001b[39mreplace(\u001b[38;5;241m*\u001b[39m\u001b[38;5;241m*\u001b[39mrepl)\n\u001b[0;32m   1237\u001b[0m \u001b[38;5;28;01mif\u001b[39;00m res\u001b[38;5;241m.\u001b[39mweekday \u001b[38;5;129;01mis\u001b[39;00m \u001b[38;5;129;01mnot\u001b[39;00m \u001b[38;5;28;01mNone\u001b[39;00m \u001b[38;5;129;01mand\u001b[39;00m \u001b[38;5;129;01mnot\u001b[39;00m res\u001b[38;5;241m.\u001b[39mday:\n",
      "\u001b[1;31mValueError\u001b[0m: year 912021 is out of range",
      "\nThe above exception was the direct cause of the following exception:\n",
      "\u001b[1;31mParserError\u001b[0m                               Traceback (most recent call last)",
      "File \u001b[1;32m~\\anaconda3\\lib\\site-packages\\pandas\\_libs\\tslib.pyx:536\u001b[0m, in \u001b[0;36mpandas._libs.tslib.array_to_datetime\u001b[1;34m()\u001b[0m\n",
      "File \u001b[1;32m~\\anaconda3\\lib\\site-packages\\pandas\\_libs\\tslibs\\parsing.pyx:281\u001b[0m, in \u001b[0;36mpandas._libs.tslibs.parsing.parse_datetime_string\u001b[1;34m()\u001b[0m\n",
      "File \u001b[1;32m~\\anaconda3\\lib\\site-packages\\dateutil\\parser\\_parser.py:1368\u001b[0m, in \u001b[0;36mparse\u001b[1;34m(timestr, parserinfo, **kwargs)\u001b[0m\n\u001b[0;32m   1367\u001b[0m \u001b[38;5;28;01melse\u001b[39;00m:\n\u001b[1;32m-> 1368\u001b[0m     \u001b[38;5;28;01mreturn\u001b[39;00m DEFAULTPARSER\u001b[38;5;241m.\u001b[39mparse(timestr, \u001b[38;5;241m*\u001b[39m\u001b[38;5;241m*\u001b[39mkwargs)\n",
      "File \u001b[1;32m~\\anaconda3\\lib\\site-packages\\dateutil\\parser\\_parser.py:651\u001b[0m, in \u001b[0;36mparser.parse\u001b[1;34m(self, timestr, default, ignoretz, tzinfos, **kwargs)\u001b[0m\n\u001b[0;32m    650\u001b[0m \u001b[38;5;28;01mexcept\u001b[39;00m \u001b[38;5;167;01mValueError\u001b[39;00m \u001b[38;5;28;01mas\u001b[39;00m e:\n\u001b[1;32m--> 651\u001b[0m     \u001b[43msix\u001b[49m\u001b[38;5;241;43m.\u001b[39;49m\u001b[43mraise_from\u001b[49m\u001b[43m(\u001b[49m\u001b[43mParserError\u001b[49m\u001b[43m(\u001b[49m\u001b[38;5;28;43mstr\u001b[39;49m\u001b[43m(\u001b[49m\u001b[43me\u001b[49m\u001b[43m)\u001b[49m\u001b[43m \u001b[49m\u001b[38;5;241;43m+\u001b[39;49m\u001b[43m \u001b[49m\u001b[38;5;124;43m\"\u001b[39;49m\u001b[38;5;124;43m: \u001b[39;49m\u001b[38;5;132;43;01m%s\u001b[39;49;00m\u001b[38;5;124;43m\"\u001b[39;49m\u001b[43m,\u001b[49m\u001b[43m \u001b[49m\u001b[43mtimestr\u001b[49m\u001b[43m)\u001b[49m\u001b[43m,\u001b[49m\u001b[43m \u001b[49m\u001b[43me\u001b[49m\u001b[43m)\u001b[49m\n\u001b[0;32m    653\u001b[0m \u001b[38;5;28;01mif\u001b[39;00m \u001b[38;5;129;01mnot\u001b[39;00m ignoretz:\n",
      "File \u001b[1;32m<string>:3\u001b[0m, in \u001b[0;36mraise_from\u001b[1;34m(value, from_value)\u001b[0m\n",
      "\u001b[1;31mParserError\u001b[0m: year 912021 is out of range: 0912021",
      "\nDuring handling of the above exception, another exception occurred:\n",
      "\u001b[1;31mTypeError\u001b[0m                                 Traceback (most recent call last)",
      "File \u001b[1;32m~\\anaconda3\\lib\\site-packages\\pandas\\_libs\\tslib.pyx:547\u001b[0m, in \u001b[0;36mpandas._libs.tslib.array_to_datetime\u001b[1;34m()\u001b[0m\n",
      "\u001b[1;31mTypeError\u001b[0m: invalid string coercion to datetime",
      "\nDuring handling of the above exception, another exception occurred:\n",
      "\u001b[1;31mValueError\u001b[0m                                Traceback (most recent call last)",
      "File \u001b[1;32m~\\anaconda3\\lib\\site-packages\\dateutil\\parser\\_parser.py:649\u001b[0m, in \u001b[0;36mparser.parse\u001b[1;34m(self, timestr, default, ignoretz, tzinfos, **kwargs)\u001b[0m\n\u001b[0;32m    648\u001b[0m \u001b[38;5;28;01mtry\u001b[39;00m:\n\u001b[1;32m--> 649\u001b[0m     ret \u001b[38;5;241m=\u001b[39m \u001b[38;5;28;43mself\u001b[39;49m\u001b[38;5;241;43m.\u001b[39;49m\u001b[43m_build_naive\u001b[49m\u001b[43m(\u001b[49m\u001b[43mres\u001b[49m\u001b[43m,\u001b[49m\u001b[43m \u001b[49m\u001b[43mdefault\u001b[49m\u001b[43m)\u001b[49m\n\u001b[0;32m    650\u001b[0m \u001b[38;5;28;01mexcept\u001b[39;00m \u001b[38;5;167;01mValueError\u001b[39;00m \u001b[38;5;28;01mas\u001b[39;00m e:\n",
      "File \u001b[1;32m~\\anaconda3\\lib\\site-packages\\dateutil\\parser\\_parser.py:1235\u001b[0m, in \u001b[0;36mparser._build_naive\u001b[1;34m(self, res, default)\u001b[0m\n\u001b[0;32m   1233\u001b[0m         repl[\u001b[38;5;124m'\u001b[39m\u001b[38;5;124mday\u001b[39m\u001b[38;5;124m'\u001b[39m] \u001b[38;5;241m=\u001b[39m monthrange(cyear, cmonth)[\u001b[38;5;241m1\u001b[39m]\n\u001b[1;32m-> 1235\u001b[0m naive \u001b[38;5;241m=\u001b[39m default\u001b[38;5;241m.\u001b[39mreplace(\u001b[38;5;241m*\u001b[39m\u001b[38;5;241m*\u001b[39mrepl)\n\u001b[0;32m   1237\u001b[0m \u001b[38;5;28;01mif\u001b[39;00m res\u001b[38;5;241m.\u001b[39mweekday \u001b[38;5;129;01mis\u001b[39;00m \u001b[38;5;129;01mnot\u001b[39;00m \u001b[38;5;28;01mNone\u001b[39;00m \u001b[38;5;129;01mand\u001b[39;00m \u001b[38;5;129;01mnot\u001b[39;00m res\u001b[38;5;241m.\u001b[39mday:\n",
      "\u001b[1;31mValueError\u001b[0m: year 912021 is out of range",
      "\nThe above exception was the direct cause of the following exception:\n",
      "\u001b[1;31mParserError\u001b[0m                               Traceback (most recent call last)",
      "Input \u001b[1;32mIn [181]\u001b[0m, in \u001b[0;36m<cell line: 1>\u001b[1;34m()\u001b[0m\n\u001b[1;32m----> 1\u001b[0m \u001b[43mpd\u001b[49m\u001b[38;5;241;43m.\u001b[39;49m\u001b[43mto_datetime\u001b[49m\u001b[43m(\u001b[49m\u001b[43mdf1\u001b[49m\u001b[43m[\u001b[49m\u001b[38;5;124;43m\"\u001b[39;49m\u001b[38;5;124;43mbirth_date\u001b[39;49m\u001b[38;5;124;43m\"\u001b[39;49m\u001b[43m]\u001b[49m\u001b[43m)\u001b[49m\n",
      "File \u001b[1;32m~\\anaconda3\\lib\\site-packages\\pandas\\core\\tools\\datetimes.py:1051\u001b[0m, in \u001b[0;36mto_datetime\u001b[1;34m(arg, errors, dayfirst, yearfirst, utc, format, exact, unit, infer_datetime_format, origin, cache)\u001b[0m\n\u001b[0;32m   1049\u001b[0m         result \u001b[38;5;241m=\u001b[39m arg\u001b[38;5;241m.\u001b[39mmap(cache_array)\n\u001b[0;32m   1050\u001b[0m     \u001b[38;5;28;01melse\u001b[39;00m:\n\u001b[1;32m-> 1051\u001b[0m         values \u001b[38;5;241m=\u001b[39m \u001b[43mconvert_listlike\u001b[49m\u001b[43m(\u001b[49m\u001b[43marg\u001b[49m\u001b[38;5;241;43m.\u001b[39;49m\u001b[43m_values\u001b[49m\u001b[43m,\u001b[49m\u001b[43m \u001b[49m\u001b[38;5;28;43mformat\u001b[39;49m\u001b[43m)\u001b[49m\n\u001b[0;32m   1052\u001b[0m         result \u001b[38;5;241m=\u001b[39m arg\u001b[38;5;241m.\u001b[39m_constructor(values, index\u001b[38;5;241m=\u001b[39marg\u001b[38;5;241m.\u001b[39mindex, name\u001b[38;5;241m=\u001b[39marg\u001b[38;5;241m.\u001b[39mname)\n\u001b[0;32m   1053\u001b[0m \u001b[38;5;28;01melif\u001b[39;00m \u001b[38;5;28misinstance\u001b[39m(arg, (ABCDataFrame, abc\u001b[38;5;241m.\u001b[39mMutableMapping)):\n",
      "File \u001b[1;32m~\\anaconda3\\lib\\site-packages\\pandas\\core\\tools\\datetimes.py:402\u001b[0m, in \u001b[0;36m_convert_listlike_datetimes\u001b[1;34m(arg, format, name, tz, unit, errors, infer_datetime_format, dayfirst, yearfirst, exact)\u001b[0m\n\u001b[0;32m    400\u001b[0m \u001b[38;5;28;01massert\u001b[39;00m \u001b[38;5;28mformat\u001b[39m \u001b[38;5;129;01mis\u001b[39;00m \u001b[38;5;28;01mNone\u001b[39;00m \u001b[38;5;129;01mor\u001b[39;00m infer_datetime_format\n\u001b[0;32m    401\u001b[0m utc \u001b[38;5;241m=\u001b[39m tz \u001b[38;5;241m==\u001b[39m \u001b[38;5;124m\"\u001b[39m\u001b[38;5;124mutc\u001b[39m\u001b[38;5;124m\"\u001b[39m\n\u001b[1;32m--> 402\u001b[0m result, tz_parsed \u001b[38;5;241m=\u001b[39m \u001b[43mobjects_to_datetime64ns\u001b[49m\u001b[43m(\u001b[49m\n\u001b[0;32m    403\u001b[0m \u001b[43m    \u001b[49m\u001b[43marg\u001b[49m\u001b[43m,\u001b[49m\n\u001b[0;32m    404\u001b[0m \u001b[43m    \u001b[49m\u001b[43mdayfirst\u001b[49m\u001b[38;5;241;43m=\u001b[39;49m\u001b[43mdayfirst\u001b[49m\u001b[43m,\u001b[49m\n\u001b[0;32m    405\u001b[0m \u001b[43m    \u001b[49m\u001b[43myearfirst\u001b[49m\u001b[38;5;241;43m=\u001b[39;49m\u001b[43myearfirst\u001b[49m\u001b[43m,\u001b[49m\n\u001b[0;32m    406\u001b[0m \u001b[43m    \u001b[49m\u001b[43mutc\u001b[49m\u001b[38;5;241;43m=\u001b[39;49m\u001b[43mutc\u001b[49m\u001b[43m,\u001b[49m\n\u001b[0;32m    407\u001b[0m \u001b[43m    \u001b[49m\u001b[43merrors\u001b[49m\u001b[38;5;241;43m=\u001b[39;49m\u001b[43merrors\u001b[49m\u001b[43m,\u001b[49m\n\u001b[0;32m    408\u001b[0m \u001b[43m    \u001b[49m\u001b[43mrequire_iso8601\u001b[49m\u001b[38;5;241;43m=\u001b[39;49m\u001b[43mrequire_iso8601\u001b[49m\u001b[43m,\u001b[49m\n\u001b[0;32m    409\u001b[0m \u001b[43m    \u001b[49m\u001b[43mallow_object\u001b[49m\u001b[38;5;241;43m=\u001b[39;49m\u001b[38;5;28;43;01mTrue\u001b[39;49;00m\u001b[43m,\u001b[49m\n\u001b[0;32m    410\u001b[0m \u001b[43m\u001b[49m\u001b[43m)\u001b[49m\n\u001b[0;32m    412\u001b[0m \u001b[38;5;28;01mif\u001b[39;00m tz_parsed \u001b[38;5;129;01mis\u001b[39;00m \u001b[38;5;129;01mnot\u001b[39;00m \u001b[38;5;28;01mNone\u001b[39;00m:\n\u001b[0;32m    413\u001b[0m     \u001b[38;5;66;03m# We can take a shortcut since the datetime64 numpy array\u001b[39;00m\n\u001b[0;32m    414\u001b[0m     \u001b[38;5;66;03m# is in UTC\u001b[39;00m\n\u001b[0;32m    415\u001b[0m     dta \u001b[38;5;241m=\u001b[39m DatetimeArray(result, dtype\u001b[38;5;241m=\u001b[39mtz_to_dtype(tz_parsed))\n",
      "File \u001b[1;32m~\\anaconda3\\lib\\site-packages\\pandas\\core\\arrays\\datetimes.py:2217\u001b[0m, in \u001b[0;36mobjects_to_datetime64ns\u001b[1;34m(data, dayfirst, yearfirst, utc, errors, require_iso8601, allow_object, allow_mixed)\u001b[0m\n\u001b[0;32m   2215\u001b[0m         \u001b[38;5;28;01mreturn\u001b[39;00m values\u001b[38;5;241m.\u001b[39mview(\u001b[38;5;124m\"\u001b[39m\u001b[38;5;124mi8\u001b[39m\u001b[38;5;124m\"\u001b[39m), tz_parsed\n\u001b[0;32m   2216\u001b[0m     \u001b[38;5;28;01mexcept\u001b[39;00m (\u001b[38;5;167;01mValueError\u001b[39;00m, \u001b[38;5;167;01mTypeError\u001b[39;00m):\n\u001b[1;32m-> 2217\u001b[0m         \u001b[38;5;28;01mraise\u001b[39;00m err\n\u001b[0;32m   2219\u001b[0m \u001b[38;5;28;01mif\u001b[39;00m tz_parsed \u001b[38;5;129;01mis\u001b[39;00m \u001b[38;5;129;01mnot\u001b[39;00m \u001b[38;5;28;01mNone\u001b[39;00m:\n\u001b[0;32m   2220\u001b[0m     \u001b[38;5;66;03m# We can take a shortcut since the datetime64 numpy array\u001b[39;00m\n\u001b[0;32m   2221\u001b[0m     \u001b[38;5;66;03m#  is in UTC\u001b[39;00m\n\u001b[0;32m   2222\u001b[0m     \u001b[38;5;66;03m# Return i8 values to denote unix timestamps\u001b[39;00m\n\u001b[0;32m   2223\u001b[0m     \u001b[38;5;28;01mreturn\u001b[39;00m result\u001b[38;5;241m.\u001b[39mview(\u001b[38;5;124m\"\u001b[39m\u001b[38;5;124mi8\u001b[39m\u001b[38;5;124m\"\u001b[39m), tz_parsed\n",
      "File \u001b[1;32m~\\anaconda3\\lib\\site-packages\\pandas\\core\\arrays\\datetimes.py:2199\u001b[0m, in \u001b[0;36mobjects_to_datetime64ns\u001b[1;34m(data, dayfirst, yearfirst, utc, errors, require_iso8601, allow_object, allow_mixed)\u001b[0m\n\u001b[0;32m   2197\u001b[0m order: Literal[\u001b[38;5;124m\"\u001b[39m\u001b[38;5;124mF\u001b[39m\u001b[38;5;124m\"\u001b[39m, \u001b[38;5;124m\"\u001b[39m\u001b[38;5;124mC\u001b[39m\u001b[38;5;124m\"\u001b[39m] \u001b[38;5;241m=\u001b[39m \u001b[38;5;124m\"\u001b[39m\u001b[38;5;124mF\u001b[39m\u001b[38;5;124m\"\u001b[39m \u001b[38;5;28;01mif\u001b[39;00m flags\u001b[38;5;241m.\u001b[39mf_contiguous \u001b[38;5;28;01melse\u001b[39;00m \u001b[38;5;124m\"\u001b[39m\u001b[38;5;124mC\u001b[39m\u001b[38;5;124m\"\u001b[39m\n\u001b[0;32m   2198\u001b[0m \u001b[38;5;28;01mtry\u001b[39;00m:\n\u001b[1;32m-> 2199\u001b[0m     result, tz_parsed \u001b[38;5;241m=\u001b[39m \u001b[43mtslib\u001b[49m\u001b[38;5;241;43m.\u001b[39;49m\u001b[43marray_to_datetime\u001b[49m\u001b[43m(\u001b[49m\n\u001b[0;32m   2200\u001b[0m \u001b[43m        \u001b[49m\u001b[43mdata\u001b[49m\u001b[38;5;241;43m.\u001b[39;49m\u001b[43mravel\u001b[49m\u001b[43m(\u001b[49m\u001b[38;5;124;43m\"\u001b[39;49m\u001b[38;5;124;43mK\u001b[39;49m\u001b[38;5;124;43m\"\u001b[39;49m\u001b[43m)\u001b[49m\u001b[43m,\u001b[49m\n\u001b[0;32m   2201\u001b[0m \u001b[43m        \u001b[49m\u001b[43merrors\u001b[49m\u001b[38;5;241;43m=\u001b[39;49m\u001b[43merrors\u001b[49m\u001b[43m,\u001b[49m\n\u001b[0;32m   2202\u001b[0m \u001b[43m        \u001b[49m\u001b[43mutc\u001b[49m\u001b[38;5;241;43m=\u001b[39;49m\u001b[43mutc\u001b[49m\u001b[43m,\u001b[49m\n\u001b[0;32m   2203\u001b[0m \u001b[43m        \u001b[49m\u001b[43mdayfirst\u001b[49m\u001b[38;5;241;43m=\u001b[39;49m\u001b[43mdayfirst\u001b[49m\u001b[43m,\u001b[49m\n\u001b[0;32m   2204\u001b[0m \u001b[43m        \u001b[49m\u001b[43myearfirst\u001b[49m\u001b[38;5;241;43m=\u001b[39;49m\u001b[43myearfirst\u001b[49m\u001b[43m,\u001b[49m\n\u001b[0;32m   2205\u001b[0m \u001b[43m        \u001b[49m\u001b[43mrequire_iso8601\u001b[49m\u001b[38;5;241;43m=\u001b[39;49m\u001b[43mrequire_iso8601\u001b[49m\u001b[43m,\u001b[49m\n\u001b[0;32m   2206\u001b[0m \u001b[43m        \u001b[49m\u001b[43mallow_mixed\u001b[49m\u001b[38;5;241;43m=\u001b[39;49m\u001b[43mallow_mixed\u001b[49m\u001b[43m,\u001b[49m\n\u001b[0;32m   2207\u001b[0m \u001b[43m    \u001b[49m\u001b[43m)\u001b[49m\n\u001b[0;32m   2208\u001b[0m     result \u001b[38;5;241m=\u001b[39m result\u001b[38;5;241m.\u001b[39mreshape(data\u001b[38;5;241m.\u001b[39mshape, order\u001b[38;5;241m=\u001b[39morder)\n\u001b[0;32m   2209\u001b[0m \u001b[38;5;28;01mexcept\u001b[39;00m \u001b[38;5;167;01mValueError\u001b[39;00m \u001b[38;5;28;01mas\u001b[39;00m err:\n",
      "File \u001b[1;32m~\\anaconda3\\lib\\site-packages\\pandas\\_libs\\tslib.pyx:381\u001b[0m, in \u001b[0;36mpandas._libs.tslib.array_to_datetime\u001b[1;34m()\u001b[0m\n",
      "File \u001b[1;32m~\\anaconda3\\lib\\site-packages\\pandas\\_libs\\tslib.pyx:613\u001b[0m, in \u001b[0;36mpandas._libs.tslib.array_to_datetime\u001b[1;34m()\u001b[0m\n",
      "File \u001b[1;32m~\\anaconda3\\lib\\site-packages\\pandas\\_libs\\tslib.pyx:751\u001b[0m, in \u001b[0;36mpandas._libs.tslib._array_to_datetime_object\u001b[1;34m()\u001b[0m\n",
      "File \u001b[1;32m~\\anaconda3\\lib\\site-packages\\pandas\\_libs\\tslib.pyx:742\u001b[0m, in \u001b[0;36mpandas._libs.tslib._array_to_datetime_object\u001b[1;34m()\u001b[0m\n",
      "File \u001b[1;32m~\\anaconda3\\lib\\site-packages\\pandas\\_libs\\tslibs\\parsing.pyx:281\u001b[0m, in \u001b[0;36mpandas._libs.tslibs.parsing.parse_datetime_string\u001b[1;34m()\u001b[0m\n",
      "File \u001b[1;32m~\\anaconda3\\lib\\site-packages\\dateutil\\parser\\_parser.py:1368\u001b[0m, in \u001b[0;36mparse\u001b[1;34m(timestr, parserinfo, **kwargs)\u001b[0m\n\u001b[0;32m   1366\u001b[0m     \u001b[38;5;28;01mreturn\u001b[39;00m parser(parserinfo)\u001b[38;5;241m.\u001b[39mparse(timestr, \u001b[38;5;241m*\u001b[39m\u001b[38;5;241m*\u001b[39mkwargs)\n\u001b[0;32m   1367\u001b[0m \u001b[38;5;28;01melse\u001b[39;00m:\n\u001b[1;32m-> 1368\u001b[0m     \u001b[38;5;28;01mreturn\u001b[39;00m DEFAULTPARSER\u001b[38;5;241m.\u001b[39mparse(timestr, \u001b[38;5;241m*\u001b[39m\u001b[38;5;241m*\u001b[39mkwargs)\n",
      "File \u001b[1;32m~\\anaconda3\\lib\\site-packages\\dateutil\\parser\\_parser.py:651\u001b[0m, in \u001b[0;36mparser.parse\u001b[1;34m(self, timestr, default, ignoretz, tzinfos, **kwargs)\u001b[0m\n\u001b[0;32m    649\u001b[0m     ret \u001b[38;5;241m=\u001b[39m \u001b[38;5;28mself\u001b[39m\u001b[38;5;241m.\u001b[39m_build_naive(res, default)\n\u001b[0;32m    650\u001b[0m \u001b[38;5;28;01mexcept\u001b[39;00m \u001b[38;5;167;01mValueError\u001b[39;00m \u001b[38;5;28;01mas\u001b[39;00m e:\n\u001b[1;32m--> 651\u001b[0m     \u001b[43msix\u001b[49m\u001b[38;5;241;43m.\u001b[39;49m\u001b[43mraise_from\u001b[49m\u001b[43m(\u001b[49m\u001b[43mParserError\u001b[49m\u001b[43m(\u001b[49m\u001b[38;5;28;43mstr\u001b[39;49m\u001b[43m(\u001b[49m\u001b[43me\u001b[49m\u001b[43m)\u001b[49m\u001b[43m \u001b[49m\u001b[38;5;241;43m+\u001b[39;49m\u001b[43m \u001b[49m\u001b[38;5;124;43m\"\u001b[39;49m\u001b[38;5;124;43m: \u001b[39;49m\u001b[38;5;132;43;01m%s\u001b[39;49;00m\u001b[38;5;124;43m\"\u001b[39;49m\u001b[43m,\u001b[49m\u001b[43m \u001b[49m\u001b[43mtimestr\u001b[49m\u001b[43m)\u001b[49m\u001b[43m,\u001b[49m\u001b[43m \u001b[49m\u001b[43me\u001b[49m\u001b[43m)\u001b[49m\n\u001b[0;32m    653\u001b[0m \u001b[38;5;28;01mif\u001b[39;00m \u001b[38;5;129;01mnot\u001b[39;00m ignoretz:\n\u001b[0;32m    654\u001b[0m     ret \u001b[38;5;241m=\u001b[39m \u001b[38;5;28mself\u001b[39m\u001b[38;5;241m.\u001b[39m_build_tzaware(ret, res, tzinfos)\n",
      "File \u001b[1;32m<string>:3\u001b[0m, in \u001b[0;36mraise_from\u001b[1;34m(value, from_value)\u001b[0m\n",
      "\u001b[1;31mParserError\u001b[0m: year 912021 is out of range: 0912021"
     ]
    }
   ],
   "source": [
    "pd.to_datetime(df1[\"birth_date\"])"
   ]
  },
  {
   "cell_type": "code",
   "execution_count": 182,
   "id": "c54c17a6",
   "metadata": {},
   "outputs": [],
   "source": [
    "df1[\"date\"]=pd.to_datetime(df1[\"birth_date\"],errors=\"coerce\")"
   ]
  },
  {
   "cell_type": "code",
   "execution_count": 183,
   "id": "8df4c2b2",
   "metadata": {},
   "outputs": [
    {
     "data": {
      "text/html": [
       "<div>\n",
       "<style scoped>\n",
       "    .dataframe tbody tr th:only-of-type {\n",
       "        vertical-align: middle;\n",
       "    }\n",
       "\n",
       "    .dataframe tbody tr th {\n",
       "        vertical-align: top;\n",
       "    }\n",
       "\n",
       "    .dataframe thead th {\n",
       "        text-align: right;\n",
       "    }\n",
       "</style>\n",
       "<table border=\"1\" class=\"dataframe\">\n",
       "  <thead>\n",
       "    <tr style=\"text-align: right;\">\n",
       "      <th></th>\n",
       "      <th>name</th>\n",
       "      <th>age</th>\n",
       "      <th>favorite_color</th>\n",
       "      <th>grade</th>\n",
       "      <th>birth_date</th>\n",
       "      <th>date</th>\n",
       "    </tr>\n",
       "  </thead>\n",
       "  <tbody>\n",
       "    <tr>\n",
       "      <th>0</th>\n",
       "      <td>Rutuja</td>\n",
       "      <td>20</td>\n",
       "      <td>blue</td>\n",
       "      <td>88</td>\n",
       "      <td>01-jan-2000</td>\n",
       "      <td>2000-01-01 00:00:00</td>\n",
       "    </tr>\n",
       "    <tr>\n",
       "      <th>1</th>\n",
       "      <td>Neeraj</td>\n",
       "      <td>19</td>\n",
       "      <td>red</td>\n",
       "      <td>92</td>\n",
       "      <td>8/05/1997</td>\n",
       "      <td>1997-08-05 00:00:00</td>\n",
       "    </tr>\n",
       "    <tr>\n",
       "      <th>2</th>\n",
       "      <td>Renna</td>\n",
       "      <td>22</td>\n",
       "      <td>yellow</td>\n",
       "      <td>95</td>\n",
       "      <td>April/28/1996</td>\n",
       "      <td>1996-04-28 00:00:00</td>\n",
       "    </tr>\n",
       "    <tr>\n",
       "      <th>3</th>\n",
       "      <td>Pratik</td>\n",
       "      <td>21</td>\n",
       "      <td>green</td>\n",
       "      <td>70</td>\n",
       "      <td>12-16-1995</td>\n",
       "      <td>1995-12-16 00:00:00</td>\n",
       "    </tr>\n",
       "    <tr>\n",
       "      <th>4</th>\n",
       "      <td>hema</td>\n",
       "      <td>22</td>\n",
       "      <td>black</td>\n",
       "      <td>100</td>\n",
       "      <td>2023-06-13 10:30:45</td>\n",
       "      <td>2023-06-13 10:30:45</td>\n",
       "    </tr>\n",
       "    <tr>\n",
       "      <th>5</th>\n",
       "      <td>kartik</td>\n",
       "      <td>23</td>\n",
       "      <td>orange</td>\n",
       "      <td>122</td>\n",
       "      <td>0912021</td>\n",
       "      <td>NaT</td>\n",
       "    </tr>\n",
       "  </tbody>\n",
       "</table>\n",
       "</div>"
      ],
      "text/plain": [
       "     name  age favorite_color  grade           birth_date                date\n",
       "0  Rutuja   20           blue     88          01-jan-2000 2000-01-01 00:00:00\n",
       "1  Neeraj   19            red     92            8/05/1997 1997-08-05 00:00:00\n",
       "2   Renna   22         yellow     95        April/28/1996 1996-04-28 00:00:00\n",
       "3  Pratik   21          green     70           12-16-1995 1995-12-16 00:00:00\n",
       "4    hema   22          black    100  2023-06-13 10:30:45 2023-06-13 10:30:45\n",
       "5  kartik   23         orange    122              0912021                 NaT"
      ]
     },
     "execution_count": 183,
     "metadata": {},
     "output_type": "execute_result"
    }
   ],
   "source": [
    "df1"
   ]
  },
  {
   "cell_type": "markdown",
   "id": "02884b24",
   "metadata": {},
   "source": [
    "## DATA "
   ]
  },
  {
   "cell_type": "code",
   "execution_count": 243,
   "id": "0a929a5b",
   "metadata": {},
   "outputs": [
    {
     "data": {
      "text/html": [
       "<div>\n",
       "<style scoped>\n",
       "    .dataframe tbody tr th:only-of-type {\n",
       "        vertical-align: middle;\n",
       "    }\n",
       "\n",
       "    .dataframe tbody tr th {\n",
       "        vertical-align: top;\n",
       "    }\n",
       "\n",
       "    .dataframe thead th {\n",
       "        text-align: right;\n",
       "    }\n",
       "</style>\n",
       "<table border=\"1\" class=\"dataframe\">\n",
       "  <thead>\n",
       "    <tr style=\"text-align: right;\">\n",
       "      <th></th>\n",
       "      <th>id</th>\n",
       "      <th>date</th>\n",
       "      <th>time</th>\n",
       "      <th>continent_code</th>\n",
       "      <th>country_name</th>\n",
       "      <th>country_code</th>\n",
       "      <th>state/province</th>\n",
       "      <th>population</th>\n",
       "      <th>city/town</th>\n",
       "      <th>distance</th>\n",
       "      <th>...</th>\n",
       "      <th>geolocation</th>\n",
       "      <th>hazard_type</th>\n",
       "      <th>landslide_type</th>\n",
       "      <th>landslide_size</th>\n",
       "      <th>trigger</th>\n",
       "      <th>storm_name</th>\n",
       "      <th>injuries</th>\n",
       "      <th>fatalities</th>\n",
       "      <th>source_name</th>\n",
       "      <th>source_link</th>\n",
       "    </tr>\n",
       "  </thead>\n",
       "  <tbody>\n",
       "    <tr>\n",
       "      <th>0</th>\n",
       "      <td>34</td>\n",
       "      <td>2007-02-03 00:00:00</td>\n",
       "      <td>Night</td>\n",
       "      <td>NaN</td>\n",
       "      <td>United States</td>\n",
       "      <td>US</td>\n",
       "      <td>Virginia</td>\n",
       "      <td>16000</td>\n",
       "      <td>Cherry Hill</td>\n",
       "      <td>3.40765</td>\n",
       "      <td>...</td>\n",
       "      <td>(38.600900000000003, -77.268199999999993)</td>\n",
       "      <td>Landslide</td>\n",
       "      <td>Landslide</td>\n",
       "      <td>Small</td>\n",
       "      <td>Rain</td>\n",
       "      <td>NaN</td>\n",
       "      <td>NaN</td>\n",
       "      <td>NaN</td>\n",
       "      <td>NBC 4 news</td>\n",
       "      <td>http://www.nbc4.com/news/11186871/detail.html</td>\n",
       "    </tr>\n",
       "    <tr>\n",
       "      <th>1</th>\n",
       "      <td>42</td>\n",
       "      <td>3/22/07</td>\n",
       "      <td>NaN</td>\n",
       "      <td>NaN</td>\n",
       "      <td>United States</td>\n",
       "      <td>US</td>\n",
       "      <td>Ohio</td>\n",
       "      <td>17288</td>\n",
       "      <td>New Philadelphia</td>\n",
       "      <td>3.33522</td>\n",
       "      <td>...</td>\n",
       "      <td>(40.517499999999998, -81.430499999999995)</td>\n",
       "      <td>Landslide</td>\n",
       "      <td>Landslide</td>\n",
       "      <td>Small</td>\n",
       "      <td>Rain</td>\n",
       "      <td>NaN</td>\n",
       "      <td>NaN</td>\n",
       "      <td>NaN</td>\n",
       "      <td>Canton Rep.com</td>\n",
       "      <td>http://www.cantonrep.com/index.php?ID=345054&amp;C...</td>\n",
       "    </tr>\n",
       "  </tbody>\n",
       "</table>\n",
       "<p>2 rows × 23 columns</p>\n",
       "</div>"
      ],
      "text/plain": [
       "   id                 date   time continent_code   country_name country_code  \\\n",
       "0  34  2007-02-03 00:00:00  Night            NaN  United States           US   \n",
       "1  42              3/22/07    NaN            NaN  United States           US   \n",
       "\n",
       "  state/province  population         city/town  distance  ...  \\\n",
       "0       Virginia       16000       Cherry Hill   3.40765  ...   \n",
       "1           Ohio       17288  New Philadelphia   3.33522  ...   \n",
       "\n",
       "                                 geolocation  hazard_type  landslide_type  \\\n",
       "0  (38.600900000000003, -77.268199999999993)    Landslide       Landslide   \n",
       "1  (40.517499999999998, -81.430499999999995)    Landslide       Landslide   \n",
       "\n",
       "  landslide_size trigger storm_name injuries fatalities     source_name  \\\n",
       "0          Small    Rain        NaN      NaN        NaN      NBC 4 news   \n",
       "1          Small    Rain        NaN      NaN        NaN  Canton Rep.com   \n",
       "\n",
       "                                         source_link  \n",
       "0      http://www.nbc4.com/news/11186871/detail.html  \n",
       "1  http://www.cantonrep.com/index.php?ID=345054&C...  \n",
       "\n",
       "[2 rows x 23 columns]"
      ]
     },
     "execution_count": 243,
     "metadata": {},
     "output_type": "execute_result"
    }
   ],
   "source": [
    "df=pd.read_excel(\"D:/python_datascience/data sets/examples/catalog.xlsx\")\n",
    "df.head(2)"
   ]
  },
  {
   "cell_type": "code",
   "execution_count": 244,
   "id": "29e19511",
   "metadata": {},
   "outputs": [
    {
     "data": {
      "text/plain": [
       "(1693, 23)"
      ]
     },
     "execution_count": 244,
     "metadata": {},
     "output_type": "execute_result"
    }
   ],
   "source": [
    "df.shape"
   ]
  },
  {
   "cell_type": "code",
   "execution_count": 245,
   "id": "5b25d966",
   "metadata": {},
   "outputs": [
    {
     "data": {
      "text/plain": [
       "Index(['id', 'date', 'time', 'continent_code', 'country_name', 'country_code',\n",
       "       'state/province', 'population', 'city/town', 'distance',\n",
       "       'location_description', 'latitude', 'longitude', 'geolocation',\n",
       "       'hazard_type', 'landslide_type', 'landslide_size', 'trigger',\n",
       "       'storm_name', 'injuries', 'fatalities', 'source_name', 'source_link'],\n",
       "      dtype='object')"
      ]
     },
     "execution_count": 245,
     "metadata": {},
     "output_type": "execute_result"
    }
   ],
   "source": [
    "df.columns"
   ]
  },
  {
   "cell_type": "code",
   "execution_count": 248,
   "id": "a2f464d6",
   "metadata": {},
   "outputs": [
    {
     "name": "stdout",
     "output_type": "stream",
     "text": [
      "date --------------------------- 0.1772002362669817 %\n",
      "time --------------------------- 62.847017129356175 %\n",
      "continent_code --------------------------- 90.31305375073833 %\n",
      "state/province --------------------------- 0.05906674542232723 %\n",
      "city/town --------------------------- 0.23626698168930893 %\n",
      "distance --------------------------- 0.05906674542232723 %\n",
      "location_description --------------------------- 67.4542232722977 %\n",
      "latitude --------------------------- 0.05906674542232723 %\n",
      "longitude --------------------------- 0.05906674542232723 %\n",
      "geolocation --------------------------- 0.05906674542232723 %\n",
      "landslide_type --------------------------- 0.05906674542232723 %\n",
      "landslide_size --------------------------- 0.05906674542232723 %\n",
      "trigger --------------------------- 0.11813349084465447 %\n",
      "storm_name --------------------------- 92.2031896042528 %\n",
      "injuries --------------------------- 69.58062610750147 %\n",
      "fatalities --------------------------- 14.589486119314826 %\n",
      "source_name --------------------------- 48.49379799173066 %\n",
      "source_link --------------------------- 5.906674542232723 %\n"
     ]
    }
   ],
   "source": [
    "for i in df.columns:\n",
    "    if df[i].isnull().sum()>0:\n",
    "        print(i,\"---------------------------\",df[i].isnull().sum()*100/df.shape[0],\"%\")"
   ]
  },
  {
   "cell_type": "code",
   "execution_count": 249,
   "id": "6d51194f",
   "metadata": {},
   "outputs": [],
   "source": [
    "for i in df.columns:\n",
    "    if df[i].isnull().sum()*100/df.shape[0]>50:\n",
    "        df.drop(columns=[i],inplace=True)"
   ]
  },
  {
   "cell_type": "code",
   "execution_count": 250,
   "id": "f2812013",
   "metadata": {},
   "outputs": [
    {
     "data": {
      "text/plain": [
       "(1693, 18)"
      ]
     },
     "execution_count": 250,
     "metadata": {},
     "output_type": "execute_result"
    }
   ],
   "source": [
    "df.shape"
   ]
  },
  {
   "cell_type": "code",
   "execution_count": 251,
   "id": "f450eb6c",
   "metadata": {},
   "outputs": [],
   "source": [
    "for i in df.columns:\n",
    "    if df[i].isnull().sum()>0:\n",
    "        if df[i].dtype==\"object\":\n",
    "            df[i]=df[i].fillna(df[i].mode()[0])\n",
    "        else:\n",
    "            df[i]=df[i].fillna(df[i].median())"
   ]
  },
  {
   "cell_type": "code",
   "execution_count": 252,
   "id": "9b0ef2a2",
   "metadata": {},
   "outputs": [
    {
     "data": {
      "text/plain": [
       "0"
      ]
     },
     "execution_count": 252,
     "metadata": {},
     "output_type": "execute_result"
    }
   ],
   "source": [
    "df.isnull().sum().sum()"
   ]
  },
  {
   "cell_type": "code",
   "execution_count": 253,
   "id": "cd390ad1",
   "metadata": {},
   "outputs": [
    {
     "data": {
      "text/html": [
       "<div>\n",
       "<style scoped>\n",
       "    .dataframe tbody tr th:only-of-type {\n",
       "        vertical-align: middle;\n",
       "    }\n",
       "\n",
       "    .dataframe tbody tr th {\n",
       "        vertical-align: top;\n",
       "    }\n",
       "\n",
       "    .dataframe thead th {\n",
       "        text-align: right;\n",
       "    }\n",
       "</style>\n",
       "<table border=\"1\" class=\"dataframe\">\n",
       "  <thead>\n",
       "    <tr style=\"text-align: right;\">\n",
       "      <th></th>\n",
       "      <th>id</th>\n",
       "      <th>date</th>\n",
       "      <th>country_name</th>\n",
       "      <th>country_code</th>\n",
       "      <th>state/province</th>\n",
       "      <th>population</th>\n",
       "      <th>city/town</th>\n",
       "      <th>distance</th>\n",
       "      <th>latitude</th>\n",
       "      <th>longitude</th>\n",
       "      <th>geolocation</th>\n",
       "      <th>hazard_type</th>\n",
       "      <th>landslide_type</th>\n",
       "      <th>landslide_size</th>\n",
       "      <th>trigger</th>\n",
       "      <th>fatalities</th>\n",
       "      <th>source_name</th>\n",
       "      <th>source_link</th>\n",
       "    </tr>\n",
       "  </thead>\n",
       "  <tbody>\n",
       "    <tr>\n",
       "      <th>0</th>\n",
       "      <td>34</td>\n",
       "      <td>2007-02-03 00:00:00</td>\n",
       "      <td>United States</td>\n",
       "      <td>US</td>\n",
       "      <td>Virginia</td>\n",
       "      <td>16000</td>\n",
       "      <td>Cherry Hill</td>\n",
       "      <td>3.40765</td>\n",
       "      <td>38.6009</td>\n",
       "      <td>-77.2682</td>\n",
       "      <td>(38.600900000000003, -77.268199999999993)</td>\n",
       "      <td>Landslide</td>\n",
       "      <td>Landslide</td>\n",
       "      <td>Small</td>\n",
       "      <td>Rain</td>\n",
       "      <td>0.0</td>\n",
       "      <td>NBC 4 news</td>\n",
       "      <td>http://www.nbc4.com/news/11186871/detail.html</td>\n",
       "    </tr>\n",
       "    <tr>\n",
       "      <th>1</th>\n",
       "      <td>42</td>\n",
       "      <td>3/22/07</td>\n",
       "      <td>United States</td>\n",
       "      <td>US</td>\n",
       "      <td>Ohio</td>\n",
       "      <td>17288</td>\n",
       "      <td>New Philadelphia</td>\n",
       "      <td>3.33522</td>\n",
       "      <td>40.5175</td>\n",
       "      <td>-81.4305</td>\n",
       "      <td>(40.517499999999998, -81.430499999999995)</td>\n",
       "      <td>Landslide</td>\n",
       "      <td>Landslide</td>\n",
       "      <td>Small</td>\n",
       "      <td>Rain</td>\n",
       "      <td>0.0</td>\n",
       "      <td>Canton Rep.com</td>\n",
       "      <td>http://www.cantonrep.com/index.php?ID=345054&amp;C...</td>\n",
       "    </tr>\n",
       "  </tbody>\n",
       "</table>\n",
       "</div>"
      ],
      "text/plain": [
       "   id                 date   country_name country_code state/province  \\\n",
       "0  34  2007-02-03 00:00:00  United States           US       Virginia   \n",
       "1  42              3/22/07  United States           US           Ohio   \n",
       "\n",
       "   population         city/town  distance  latitude  longitude  \\\n",
       "0       16000       Cherry Hill   3.40765   38.6009   -77.2682   \n",
       "1       17288  New Philadelphia   3.33522   40.5175   -81.4305   \n",
       "\n",
       "                                 geolocation hazard_type landslide_type  \\\n",
       "0  (38.600900000000003, -77.268199999999993)   Landslide      Landslide   \n",
       "1  (40.517499999999998, -81.430499999999995)   Landslide      Landslide   \n",
       "\n",
       "  landslide_size trigger  fatalities     source_name  \\\n",
       "0          Small    Rain         0.0      NBC 4 news   \n",
       "1          Small    Rain         0.0  Canton Rep.com   \n",
       "\n",
       "                                         source_link  \n",
       "0      http://www.nbc4.com/news/11186871/detail.html  \n",
       "1  http://www.cantonrep.com/index.php?ID=345054&C...  "
      ]
     },
     "execution_count": 253,
     "metadata": {},
     "output_type": "execute_result"
    }
   ],
   "source": [
    "df.head(2)"
   ]
  },
  {
   "cell_type": "code",
   "execution_count": 254,
   "id": "77a2546c",
   "metadata": {},
   "outputs": [
    {
     "data": {
      "text/plain": [
       "Index(['id', 'date', 'country_name', 'country_code', 'state/province',\n",
       "       'population', 'city/town', 'distance', 'latitude', 'longitude',\n",
       "       'geolocation', 'hazard_type', 'landslide_type', 'landslide_size',\n",
       "       'trigger', 'fatalities', 'source_name', 'source_link'],\n",
       "      dtype='object')"
      ]
     },
     "execution_count": 254,
     "metadata": {},
     "output_type": "execute_result"
    }
   ],
   "source": [
    "df.columns"
   ]
  },
  {
   "cell_type": "code",
   "execution_count": 255,
   "id": "8bfdae87",
   "metadata": {},
   "outputs": [],
   "source": [
    "df.drop(columns=[\"id\",\"country_code\",\"latitude\",'longitude','geolocation','fatalities', 'source_name', 'source_link'],inplace=True)"
   ]
  },
  {
   "cell_type": "code",
   "execution_count": 257,
   "id": "04272d39",
   "metadata": {},
   "outputs": [
    {
     "data": {
      "text/html": [
       "<div>\n",
       "<style scoped>\n",
       "    .dataframe tbody tr th:only-of-type {\n",
       "        vertical-align: middle;\n",
       "    }\n",
       "\n",
       "    .dataframe tbody tr th {\n",
       "        vertical-align: top;\n",
       "    }\n",
       "\n",
       "    .dataframe thead th {\n",
       "        text-align: right;\n",
       "    }\n",
       "</style>\n",
       "<table border=\"1\" class=\"dataframe\">\n",
       "  <thead>\n",
       "    <tr style=\"text-align: right;\">\n",
       "      <th></th>\n",
       "      <th>date</th>\n",
       "      <th>country_name</th>\n",
       "      <th>state/province</th>\n",
       "      <th>population</th>\n",
       "      <th>city/town</th>\n",
       "      <th>distance</th>\n",
       "      <th>hazard_type</th>\n",
       "      <th>landslide_type</th>\n",
       "      <th>landslide_size</th>\n",
       "      <th>trigger</th>\n",
       "    </tr>\n",
       "  </thead>\n",
       "  <tbody>\n",
       "    <tr>\n",
       "      <th>0</th>\n",
       "      <td>2007-02-03 00:00:00</td>\n",
       "      <td>United States</td>\n",
       "      <td>Virginia</td>\n",
       "      <td>16000</td>\n",
       "      <td>Cherry Hill</td>\n",
       "      <td>3.40765</td>\n",
       "      <td>Landslide</td>\n",
       "      <td>Landslide</td>\n",
       "      <td>Small</td>\n",
       "      <td>Rain</td>\n",
       "    </tr>\n",
       "    <tr>\n",
       "      <th>1</th>\n",
       "      <td>3/22/07</td>\n",
       "      <td>United States</td>\n",
       "      <td>Ohio</td>\n",
       "      <td>17288</td>\n",
       "      <td>New Philadelphia</td>\n",
       "      <td>3.33522</td>\n",
       "      <td>Landslide</td>\n",
       "      <td>Landslide</td>\n",
       "      <td>Small</td>\n",
       "      <td>Rain</td>\n",
       "    </tr>\n",
       "  </tbody>\n",
       "</table>\n",
       "</div>"
      ],
      "text/plain": [
       "                  date   country_name state/province  population  \\\n",
       "0  2007-02-03 00:00:00  United States       Virginia       16000   \n",
       "1              3/22/07  United States           Ohio       17288   \n",
       "\n",
       "          city/town  distance hazard_type landslide_type landslide_size  \\\n",
       "0       Cherry Hill   3.40765   Landslide      Landslide          Small   \n",
       "1  New Philadelphia   3.33522   Landslide      Landslide          Small   \n",
       "\n",
       "  trigger  \n",
       "0    Rain  \n",
       "1    Rain  "
      ]
     },
     "execution_count": 257,
     "metadata": {},
     "output_type": "execute_result"
    }
   ],
   "source": [
    "df.head(2)"
   ]
  },
  {
   "cell_type": "code",
   "execution_count": 258,
   "id": "9559cd85",
   "metadata": {},
   "outputs": [
    {
     "data": {
      "text/plain": [
       "date               object\n",
       "country_name       object\n",
       "state/province     object\n",
       "population          int64\n",
       "city/town          object\n",
       "distance          float64\n",
       "hazard_type        object\n",
       "landslide_type     object\n",
       "landslide_size     object\n",
       "trigger            object\n",
       "dtype: object"
      ]
     },
     "execution_count": 258,
     "metadata": {},
     "output_type": "execute_result"
    }
   ],
   "source": [
    "df.dtypes"
   ]
  },
  {
   "cell_type": "code",
   "execution_count": 260,
   "id": "8adb9703",
   "metadata": {},
   "outputs": [],
   "source": [
    "df[\"date\"]=pd.to_datetime(df[\"date\"])"
   ]
  },
  {
   "cell_type": "code",
   "execution_count": 261,
   "id": "70e57afa",
   "metadata": {},
   "outputs": [
    {
     "data": {
      "text/plain": [
       "date              datetime64[ns]\n",
       "country_name              object\n",
       "state/province            object\n",
       "population                 int64\n",
       "city/town                 object\n",
       "distance                 float64\n",
       "hazard_type               object\n",
       "landslide_type            object\n",
       "landslide_size            object\n",
       "trigger                   object\n",
       "dtype: object"
      ]
     },
     "execution_count": 261,
     "metadata": {},
     "output_type": "execute_result"
    }
   ],
   "source": [
    "df.dtypes"
   ]
  },
  {
   "cell_type": "markdown",
   "id": "74b0af3c",
   "metadata": {},
   "source": [
    "# extract the month"
   ]
  },
  {
   "cell_type": "code",
   "execution_count": 262,
   "id": "468e260a",
   "metadata": {},
   "outputs": [],
   "source": [
    "from datetime import datetime as dt"
   ]
  },
  {
   "cell_type": "markdown",
   "id": "4f19a188",
   "metadata": {},
   "source": [
    "## extarct the month number "
   ]
  },
  {
   "cell_type": "code",
   "execution_count": 263,
   "id": "34c0ad94",
   "metadata": {},
   "outputs": [],
   "source": [
    "df[\"month\"]=df.date.dt.month"
   ]
  },
  {
   "cell_type": "code",
   "execution_count": 264,
   "id": "308f2953",
   "metadata": {},
   "outputs": [
    {
     "data": {
      "text/html": [
       "<div>\n",
       "<style scoped>\n",
       "    .dataframe tbody tr th:only-of-type {\n",
       "        vertical-align: middle;\n",
       "    }\n",
       "\n",
       "    .dataframe tbody tr th {\n",
       "        vertical-align: top;\n",
       "    }\n",
       "\n",
       "    .dataframe thead th {\n",
       "        text-align: right;\n",
       "    }\n",
       "</style>\n",
       "<table border=\"1\" class=\"dataframe\">\n",
       "  <thead>\n",
       "    <tr style=\"text-align: right;\">\n",
       "      <th></th>\n",
       "      <th>date</th>\n",
       "      <th>country_name</th>\n",
       "      <th>state/province</th>\n",
       "      <th>population</th>\n",
       "      <th>city/town</th>\n",
       "      <th>distance</th>\n",
       "      <th>hazard_type</th>\n",
       "      <th>landslide_type</th>\n",
       "      <th>landslide_size</th>\n",
       "      <th>trigger</th>\n",
       "      <th>month</th>\n",
       "    </tr>\n",
       "  </thead>\n",
       "  <tbody>\n",
       "    <tr>\n",
       "      <th>0</th>\n",
       "      <td>2007-02-03</td>\n",
       "      <td>United States</td>\n",
       "      <td>Virginia</td>\n",
       "      <td>16000</td>\n",
       "      <td>Cherry Hill</td>\n",
       "      <td>3.40765</td>\n",
       "      <td>Landslide</td>\n",
       "      <td>Landslide</td>\n",
       "      <td>Small</td>\n",
       "      <td>Rain</td>\n",
       "      <td>2</td>\n",
       "    </tr>\n",
       "    <tr>\n",
       "      <th>1</th>\n",
       "      <td>2007-03-22</td>\n",
       "      <td>United States</td>\n",
       "      <td>Ohio</td>\n",
       "      <td>17288</td>\n",
       "      <td>New Philadelphia</td>\n",
       "      <td>3.33522</td>\n",
       "      <td>Landslide</td>\n",
       "      <td>Landslide</td>\n",
       "      <td>Small</td>\n",
       "      <td>Rain</td>\n",
       "      <td>3</td>\n",
       "    </tr>\n",
       "  </tbody>\n",
       "</table>\n",
       "</div>"
      ],
      "text/plain": [
       "        date   country_name state/province  population         city/town  \\\n",
       "0 2007-02-03  United States       Virginia       16000       Cherry Hill   \n",
       "1 2007-03-22  United States           Ohio       17288  New Philadelphia   \n",
       "\n",
       "   distance hazard_type landslide_type landslide_size trigger  month  \n",
       "0   3.40765   Landslide      Landslide          Small    Rain      2  \n",
       "1   3.33522   Landslide      Landslide          Small    Rain      3  "
      ]
     },
     "execution_count": 264,
     "metadata": {},
     "output_type": "execute_result"
    }
   ],
   "source": [
    "df.head(2)"
   ]
  },
  {
   "cell_type": "markdown",
   "id": "7d688f0f",
   "metadata": {},
   "source": [
    "## extract month name "
   ]
  },
  {
   "cell_type": "code",
   "execution_count": 265,
   "id": "16bb3a5e",
   "metadata": {},
   "outputs": [],
   "source": [
    "df[\"month_name\"]=df.date.dt.month_name()"
   ]
  },
  {
   "cell_type": "code",
   "execution_count": 266,
   "id": "41cc0fab",
   "metadata": {},
   "outputs": [
    {
     "data": {
      "text/html": [
       "<div>\n",
       "<style scoped>\n",
       "    .dataframe tbody tr th:only-of-type {\n",
       "        vertical-align: middle;\n",
       "    }\n",
       "\n",
       "    .dataframe tbody tr th {\n",
       "        vertical-align: top;\n",
       "    }\n",
       "\n",
       "    .dataframe thead th {\n",
       "        text-align: right;\n",
       "    }\n",
       "</style>\n",
       "<table border=\"1\" class=\"dataframe\">\n",
       "  <thead>\n",
       "    <tr style=\"text-align: right;\">\n",
       "      <th></th>\n",
       "      <th>date</th>\n",
       "      <th>country_name</th>\n",
       "      <th>state/province</th>\n",
       "      <th>population</th>\n",
       "      <th>city/town</th>\n",
       "      <th>distance</th>\n",
       "      <th>hazard_type</th>\n",
       "      <th>landslide_type</th>\n",
       "      <th>landslide_size</th>\n",
       "      <th>trigger</th>\n",
       "      <th>month</th>\n",
       "      <th>month_name</th>\n",
       "    </tr>\n",
       "  </thead>\n",
       "  <tbody>\n",
       "    <tr>\n",
       "      <th>0</th>\n",
       "      <td>2007-02-03</td>\n",
       "      <td>United States</td>\n",
       "      <td>Virginia</td>\n",
       "      <td>16000</td>\n",
       "      <td>Cherry Hill</td>\n",
       "      <td>3.40765</td>\n",
       "      <td>Landslide</td>\n",
       "      <td>Landslide</td>\n",
       "      <td>Small</td>\n",
       "      <td>Rain</td>\n",
       "      <td>2</td>\n",
       "      <td>February</td>\n",
       "    </tr>\n",
       "    <tr>\n",
       "      <th>1</th>\n",
       "      <td>2007-03-22</td>\n",
       "      <td>United States</td>\n",
       "      <td>Ohio</td>\n",
       "      <td>17288</td>\n",
       "      <td>New Philadelphia</td>\n",
       "      <td>3.33522</td>\n",
       "      <td>Landslide</td>\n",
       "      <td>Landslide</td>\n",
       "      <td>Small</td>\n",
       "      <td>Rain</td>\n",
       "      <td>3</td>\n",
       "      <td>March</td>\n",
       "    </tr>\n",
       "  </tbody>\n",
       "</table>\n",
       "</div>"
      ],
      "text/plain": [
       "        date   country_name state/province  population         city/town  \\\n",
       "0 2007-02-03  United States       Virginia       16000       Cherry Hill   \n",
       "1 2007-03-22  United States           Ohio       17288  New Philadelphia   \n",
       "\n",
       "   distance hazard_type landslide_type landslide_size trigger  month  \\\n",
       "0   3.40765   Landslide      Landslide          Small    Rain      2   \n",
       "1   3.33522   Landslide      Landslide          Small    Rain      3   \n",
       "\n",
       "  month_name  \n",
       "0   February  \n",
       "1      March  "
      ]
     },
     "execution_count": 266,
     "metadata": {},
     "output_type": "execute_result"
    }
   ],
   "source": [
    "df.head(2)"
   ]
  },
  {
   "cell_type": "markdown",
   "id": "a7c278a5",
   "metadata": {},
   "source": [
    "## extract year"
   ]
  },
  {
   "cell_type": "code",
   "execution_count": 267,
   "id": "3f8bfb8f",
   "metadata": {},
   "outputs": [
    {
     "data": {
      "text/html": [
       "<div>\n",
       "<style scoped>\n",
       "    .dataframe tbody tr th:only-of-type {\n",
       "        vertical-align: middle;\n",
       "    }\n",
       "\n",
       "    .dataframe tbody tr th {\n",
       "        vertical-align: top;\n",
       "    }\n",
       "\n",
       "    .dataframe thead th {\n",
       "        text-align: right;\n",
       "    }\n",
       "</style>\n",
       "<table border=\"1\" class=\"dataframe\">\n",
       "  <thead>\n",
       "    <tr style=\"text-align: right;\">\n",
       "      <th></th>\n",
       "      <th>date</th>\n",
       "      <th>country_name</th>\n",
       "      <th>state/province</th>\n",
       "      <th>population</th>\n",
       "      <th>city/town</th>\n",
       "      <th>distance</th>\n",
       "      <th>hazard_type</th>\n",
       "      <th>landslide_type</th>\n",
       "      <th>landslide_size</th>\n",
       "      <th>trigger</th>\n",
       "      <th>month</th>\n",
       "      <th>month_name</th>\n",
       "      <th>year</th>\n",
       "    </tr>\n",
       "  </thead>\n",
       "  <tbody>\n",
       "    <tr>\n",
       "      <th>0</th>\n",
       "      <td>2007-02-03</td>\n",
       "      <td>United States</td>\n",
       "      <td>Virginia</td>\n",
       "      <td>16000</td>\n",
       "      <td>Cherry Hill</td>\n",
       "      <td>3.40765</td>\n",
       "      <td>Landslide</td>\n",
       "      <td>Landslide</td>\n",
       "      <td>Small</td>\n",
       "      <td>Rain</td>\n",
       "      <td>2</td>\n",
       "      <td>February</td>\n",
       "      <td>2007</td>\n",
       "    </tr>\n",
       "    <tr>\n",
       "      <th>1</th>\n",
       "      <td>2007-03-22</td>\n",
       "      <td>United States</td>\n",
       "      <td>Ohio</td>\n",
       "      <td>17288</td>\n",
       "      <td>New Philadelphia</td>\n",
       "      <td>3.33522</td>\n",
       "      <td>Landslide</td>\n",
       "      <td>Landslide</td>\n",
       "      <td>Small</td>\n",
       "      <td>Rain</td>\n",
       "      <td>3</td>\n",
       "      <td>March</td>\n",
       "      <td>2007</td>\n",
       "    </tr>\n",
       "  </tbody>\n",
       "</table>\n",
       "</div>"
      ],
      "text/plain": [
       "        date   country_name state/province  population         city/town  \\\n",
       "0 2007-02-03  United States       Virginia       16000       Cherry Hill   \n",
       "1 2007-03-22  United States           Ohio       17288  New Philadelphia   \n",
       "\n",
       "   distance hazard_type landslide_type landslide_size trigger  month  \\\n",
       "0   3.40765   Landslide      Landslide          Small    Rain      2   \n",
       "1   3.33522   Landslide      Landslide          Small    Rain      3   \n",
       "\n",
       "  month_name  year  \n",
       "0   February  2007  \n",
       "1      March  2007  "
      ]
     },
     "execution_count": 267,
     "metadata": {},
     "output_type": "execute_result"
    }
   ],
   "source": [
    "df[\"year\"]=df.date.dt.year\n",
    "df.head(2)"
   ]
  },
  {
   "cell_type": "markdown",
   "id": "21e2ed3c",
   "metadata": {},
   "source": [
    "# extract day"
   ]
  },
  {
   "cell_type": "code",
   "execution_count": 268,
   "id": "e43842a9",
   "metadata": {},
   "outputs": [
    {
     "data": {
      "text/html": [
       "<div>\n",
       "<style scoped>\n",
       "    .dataframe tbody tr th:only-of-type {\n",
       "        vertical-align: middle;\n",
       "    }\n",
       "\n",
       "    .dataframe tbody tr th {\n",
       "        vertical-align: top;\n",
       "    }\n",
       "\n",
       "    .dataframe thead th {\n",
       "        text-align: right;\n",
       "    }\n",
       "</style>\n",
       "<table border=\"1\" class=\"dataframe\">\n",
       "  <thead>\n",
       "    <tr style=\"text-align: right;\">\n",
       "      <th></th>\n",
       "      <th>date</th>\n",
       "      <th>country_name</th>\n",
       "      <th>state/province</th>\n",
       "      <th>population</th>\n",
       "      <th>city/town</th>\n",
       "      <th>distance</th>\n",
       "      <th>hazard_type</th>\n",
       "      <th>landslide_type</th>\n",
       "      <th>landslide_size</th>\n",
       "      <th>trigger</th>\n",
       "      <th>month</th>\n",
       "      <th>month_name</th>\n",
       "      <th>year</th>\n",
       "      <th>day</th>\n",
       "    </tr>\n",
       "  </thead>\n",
       "  <tbody>\n",
       "    <tr>\n",
       "      <th>0</th>\n",
       "      <td>2007-02-03</td>\n",
       "      <td>United States</td>\n",
       "      <td>Virginia</td>\n",
       "      <td>16000</td>\n",
       "      <td>Cherry Hill</td>\n",
       "      <td>3.40765</td>\n",
       "      <td>Landslide</td>\n",
       "      <td>Landslide</td>\n",
       "      <td>Small</td>\n",
       "      <td>Rain</td>\n",
       "      <td>2</td>\n",
       "      <td>February</td>\n",
       "      <td>2007</td>\n",
       "      <td>3</td>\n",
       "    </tr>\n",
       "    <tr>\n",
       "      <th>1</th>\n",
       "      <td>2007-03-22</td>\n",
       "      <td>United States</td>\n",
       "      <td>Ohio</td>\n",
       "      <td>17288</td>\n",
       "      <td>New Philadelphia</td>\n",
       "      <td>3.33522</td>\n",
       "      <td>Landslide</td>\n",
       "      <td>Landslide</td>\n",
       "      <td>Small</td>\n",
       "      <td>Rain</td>\n",
       "      <td>3</td>\n",
       "      <td>March</td>\n",
       "      <td>2007</td>\n",
       "      <td>22</td>\n",
       "    </tr>\n",
       "  </tbody>\n",
       "</table>\n",
       "</div>"
      ],
      "text/plain": [
       "        date   country_name state/province  population         city/town  \\\n",
       "0 2007-02-03  United States       Virginia       16000       Cherry Hill   \n",
       "1 2007-03-22  United States           Ohio       17288  New Philadelphia   \n",
       "\n",
       "   distance hazard_type landslide_type landslide_size trigger  month  \\\n",
       "0   3.40765   Landslide      Landslide          Small    Rain      2   \n",
       "1   3.33522   Landslide      Landslide          Small    Rain      3   \n",
       "\n",
       "  month_name  year  day  \n",
       "0   February  2007    3  \n",
       "1      March  2007   22  "
      ]
     },
     "execution_count": 268,
     "metadata": {},
     "output_type": "execute_result"
    }
   ],
   "source": [
    "df[\"day\"]=df.date.dt.day\n",
    "df.head(2)"
   ]
  },
  {
   "cell_type": "markdown",
   "id": "c24c4019",
   "metadata": {},
   "source": [
    "## extract day of week "
   ]
  },
  {
   "cell_type": "code",
   "execution_count": 269,
   "id": "f911b9be",
   "metadata": {},
   "outputs": [
    {
     "data": {
      "text/html": [
       "<div>\n",
       "<style scoped>\n",
       "    .dataframe tbody tr th:only-of-type {\n",
       "        vertical-align: middle;\n",
       "    }\n",
       "\n",
       "    .dataframe tbody tr th {\n",
       "        vertical-align: top;\n",
       "    }\n",
       "\n",
       "    .dataframe thead th {\n",
       "        text-align: right;\n",
       "    }\n",
       "</style>\n",
       "<table border=\"1\" class=\"dataframe\">\n",
       "  <thead>\n",
       "    <tr style=\"text-align: right;\">\n",
       "      <th></th>\n",
       "      <th>date</th>\n",
       "      <th>country_name</th>\n",
       "      <th>state/province</th>\n",
       "      <th>population</th>\n",
       "      <th>city/town</th>\n",
       "      <th>distance</th>\n",
       "      <th>hazard_type</th>\n",
       "      <th>landslide_type</th>\n",
       "      <th>landslide_size</th>\n",
       "      <th>trigger</th>\n",
       "      <th>month</th>\n",
       "      <th>month_name</th>\n",
       "      <th>year</th>\n",
       "      <th>day</th>\n",
       "      <th>dayofweek</th>\n",
       "    </tr>\n",
       "  </thead>\n",
       "  <tbody>\n",
       "    <tr>\n",
       "      <th>0</th>\n",
       "      <td>2007-02-03</td>\n",
       "      <td>United States</td>\n",
       "      <td>Virginia</td>\n",
       "      <td>16000</td>\n",
       "      <td>Cherry Hill</td>\n",
       "      <td>3.40765</td>\n",
       "      <td>Landslide</td>\n",
       "      <td>Landslide</td>\n",
       "      <td>Small</td>\n",
       "      <td>Rain</td>\n",
       "      <td>2</td>\n",
       "      <td>February</td>\n",
       "      <td>2007</td>\n",
       "      <td>3</td>\n",
       "      <td>5</td>\n",
       "    </tr>\n",
       "    <tr>\n",
       "      <th>1</th>\n",
       "      <td>2007-03-22</td>\n",
       "      <td>United States</td>\n",
       "      <td>Ohio</td>\n",
       "      <td>17288</td>\n",
       "      <td>New Philadelphia</td>\n",
       "      <td>3.33522</td>\n",
       "      <td>Landslide</td>\n",
       "      <td>Landslide</td>\n",
       "      <td>Small</td>\n",
       "      <td>Rain</td>\n",
       "      <td>3</td>\n",
       "      <td>March</td>\n",
       "      <td>2007</td>\n",
       "      <td>22</td>\n",
       "      <td>3</td>\n",
       "    </tr>\n",
       "  </tbody>\n",
       "</table>\n",
       "</div>"
      ],
      "text/plain": [
       "        date   country_name state/province  population         city/town  \\\n",
       "0 2007-02-03  United States       Virginia       16000       Cherry Hill   \n",
       "1 2007-03-22  United States           Ohio       17288  New Philadelphia   \n",
       "\n",
       "   distance hazard_type landslide_type landslide_size trigger  month  \\\n",
       "0   3.40765   Landslide      Landslide          Small    Rain      2   \n",
       "1   3.33522   Landslide      Landslide          Small    Rain      3   \n",
       "\n",
       "  month_name  year  day  dayofweek  \n",
       "0   February  2007    3          5  \n",
       "1      March  2007   22          3  "
      ]
     },
     "execution_count": 269,
     "metadata": {},
     "output_type": "execute_result"
    }
   ],
   "source": [
    "df[\"dayofweek\"]=df.date.dt.dayofweek\n",
    "df.head(2)"
   ]
  },
  {
   "cell_type": "markdown",
   "id": "f8553ff9",
   "metadata": {},
   "source": [
    "## extract day name  of week "
   ]
  },
  {
   "cell_type": "code",
   "execution_count": 271,
   "id": "3272f598",
   "metadata": {},
   "outputs": [
    {
     "data": {
      "text/html": [
       "<div>\n",
       "<style scoped>\n",
       "    .dataframe tbody tr th:only-of-type {\n",
       "        vertical-align: middle;\n",
       "    }\n",
       "\n",
       "    .dataframe tbody tr th {\n",
       "        vertical-align: top;\n",
       "    }\n",
       "\n",
       "    .dataframe thead th {\n",
       "        text-align: right;\n",
       "    }\n",
       "</style>\n",
       "<table border=\"1\" class=\"dataframe\">\n",
       "  <thead>\n",
       "    <tr style=\"text-align: right;\">\n",
       "      <th></th>\n",
       "      <th>date</th>\n",
       "      <th>country_name</th>\n",
       "      <th>state/province</th>\n",
       "      <th>population</th>\n",
       "      <th>city/town</th>\n",
       "      <th>distance</th>\n",
       "      <th>hazard_type</th>\n",
       "      <th>landslide_type</th>\n",
       "      <th>landslide_size</th>\n",
       "      <th>trigger</th>\n",
       "      <th>month</th>\n",
       "      <th>month_name</th>\n",
       "      <th>year</th>\n",
       "      <th>day</th>\n",
       "      <th>dayofweek</th>\n",
       "      <th>day_name</th>\n",
       "    </tr>\n",
       "  </thead>\n",
       "  <tbody>\n",
       "    <tr>\n",
       "      <th>1585</th>\n",
       "      <td>2015-07-10</td>\n",
       "      <td>Mexico</td>\n",
       "      <td>Tabasco</td>\n",
       "      <td>1042</td>\n",
       "      <td>Libertad</td>\n",
       "      <td>4.81680</td>\n",
       "      <td>Landslide</td>\n",
       "      <td>Landslide</td>\n",
       "      <td>Medium</td>\n",
       "      <td>Rain</td>\n",
       "      <td>7</td>\n",
       "      <td>July</td>\n",
       "      <td>2015</td>\n",
       "      <td>10</td>\n",
       "      <td>4</td>\n",
       "      <td>Friday</td>\n",
       "    </tr>\n",
       "    <tr>\n",
       "      <th>604</th>\n",
       "      <td>2011-09-03</td>\n",
       "      <td>United States</td>\n",
       "      <td>West Virginia</td>\n",
       "      <td>1036</td>\n",
       "      <td>Bethany</td>\n",
       "      <td>1.92763</td>\n",
       "      <td>Landslide</td>\n",
       "      <td>Landslide</td>\n",
       "      <td>Medium</td>\n",
       "      <td>Downpour</td>\n",
       "      <td>9</td>\n",
       "      <td>September</td>\n",
       "      <td>2011</td>\n",
       "      <td>3</td>\n",
       "      <td>5</td>\n",
       "      <td>Saturday</td>\n",
       "    </tr>\n",
       "    <tr>\n",
       "      <th>296</th>\n",
       "      <td>2010-12-04</td>\n",
       "      <td>Dominica</td>\n",
       "      <td>Saint Patrick</td>\n",
       "      <td>2608</td>\n",
       "      <td>Berekua</td>\n",
       "      <td>2.08997</td>\n",
       "      <td>Landslide</td>\n",
       "      <td>Landslide</td>\n",
       "      <td>Medium</td>\n",
       "      <td>Downpour</td>\n",
       "      <td>12</td>\n",
       "      <td>December</td>\n",
       "      <td>2010</td>\n",
       "      <td>4</td>\n",
       "      <td>5</td>\n",
       "      <td>Saturday</td>\n",
       "    </tr>\n",
       "    <tr>\n",
       "      <th>814</th>\n",
       "      <td>2011-01-09</td>\n",
       "      <td>United States</td>\n",
       "      <td>New York</td>\n",
       "      <td>10082</td>\n",
       "      <td>Inwood</td>\n",
       "      <td>1.91324</td>\n",
       "      <td>Landslide</td>\n",
       "      <td>Mudslide</td>\n",
       "      <td>Small</td>\n",
       "      <td>Rain</td>\n",
       "      <td>1</td>\n",
       "      <td>January</td>\n",
       "      <td>2011</td>\n",
       "      <td>9</td>\n",
       "      <td>6</td>\n",
       "      <td>Sunday</td>\n",
       "    </tr>\n",
       "    <tr>\n",
       "      <th>1027</th>\n",
       "      <td>2013-08-07</td>\n",
       "      <td>United States</td>\n",
       "      <td>New Mexico</td>\n",
       "      <td>1770</td>\n",
       "      <td>Questa</td>\n",
       "      <td>21.76837</td>\n",
       "      <td>Landslide</td>\n",
       "      <td>Mudslide</td>\n",
       "      <td>Medium</td>\n",
       "      <td>Downpour</td>\n",
       "      <td>8</td>\n",
       "      <td>August</td>\n",
       "      <td>2013</td>\n",
       "      <td>7</td>\n",
       "      <td>2</td>\n",
       "      <td>Wednesday</td>\n",
       "    </tr>\n",
       "  </tbody>\n",
       "</table>\n",
       "</div>"
      ],
      "text/plain": [
       "           date   country_name state/province  population city/town  distance  \\\n",
       "1585 2015-07-10         Mexico        Tabasco        1042  Libertad   4.81680   \n",
       "604  2011-09-03  United States  West Virginia        1036   Bethany   1.92763   \n",
       "296  2010-12-04       Dominica  Saint Patrick        2608   Berekua   2.08997   \n",
       "814  2011-01-09  United States       New York       10082    Inwood   1.91324   \n",
       "1027 2013-08-07  United States     New Mexico        1770    Questa  21.76837   \n",
       "\n",
       "     hazard_type landslide_type landslide_size   trigger  month month_name  \\\n",
       "1585   Landslide      Landslide         Medium      Rain      7       July   \n",
       "604    Landslide      Landslide         Medium  Downpour      9  September   \n",
       "296    Landslide      Landslide         Medium  Downpour     12   December   \n",
       "814    Landslide       Mudslide          Small      Rain      1    January   \n",
       "1027   Landslide       Mudslide         Medium  Downpour      8     August   \n",
       "\n",
       "      year  day  dayofweek   day_name  \n",
       "1585  2015   10          4     Friday  \n",
       "604   2011    3          5   Saturday  \n",
       "296   2010    4          5   Saturday  \n",
       "814   2011    9          6     Sunday  \n",
       "1027  2013    7          2  Wednesday  "
      ]
     },
     "execution_count": 271,
     "metadata": {},
     "output_type": "execute_result"
    }
   ],
   "source": [
    "df[\"day_name\"]=df.date.dt.day_name()\n",
    "df.sample(5)"
   ]
  },
  {
   "cell_type": "code",
   "execution_count": 272,
   "id": "5850b7fa",
   "metadata": {},
   "outputs": [
    {
     "data": {
      "text/plain": [
       "April        190\n",
       "July         180\n",
       "May          163\n",
       "September    158\n",
       "December     148\n",
       "March        142\n",
       "June         142\n",
       "August       139\n",
       "November     126\n",
       "October      118\n",
       "January       96\n",
       "February      91\n",
       "Name: month_name, dtype: int64"
      ]
     },
     "execution_count": 272,
     "metadata": {},
     "output_type": "execute_result"
    }
   ],
   "source": [
    "df[\"month_name\"].value_counts()"
   ]
  },
  {
   "cell_type": "code",
   "execution_count": 275,
   "id": "0697f42a",
   "metadata": {},
   "outputs": [
    {
     "data": {
      "text/html": [
       "<div>\n",
       "<style scoped>\n",
       "    .dataframe tbody tr th:only-of-type {\n",
       "        vertical-align: middle;\n",
       "    }\n",
       "\n",
       "    .dataframe tbody tr th {\n",
       "        vertical-align: top;\n",
       "    }\n",
       "\n",
       "    .dataframe thead th {\n",
       "        text-align: right;\n",
       "    }\n",
       "</style>\n",
       "<table border=\"1\" class=\"dataframe\">\n",
       "  <thead>\n",
       "    <tr style=\"text-align: right;\">\n",
       "      <th></th>\n",
       "      <th></th>\n",
       "      <th>month_name</th>\n",
       "    </tr>\n",
       "    <tr>\n",
       "      <th>country_name</th>\n",
       "      <th>month_name</th>\n",
       "      <th></th>\n",
       "    </tr>\n",
       "  </thead>\n",
       "  <tbody>\n",
       "    <tr>\n",
       "      <th>Barbados</th>\n",
       "      <th>October</th>\n",
       "      <td>1</td>\n",
       "    </tr>\n",
       "    <tr>\n",
       "      <th>Belize</th>\n",
       "      <th>November</th>\n",
       "      <td>1</td>\n",
       "    </tr>\n",
       "    <tr>\n",
       "      <th rowspan=\"2\" valign=\"top\">Bermuda</th>\n",
       "      <th>February</th>\n",
       "      <td>1</td>\n",
       "    </tr>\n",
       "    <tr>\n",
       "      <th>January</th>\n",
       "      <td>1</td>\n",
       "    </tr>\n",
       "    <tr>\n",
       "      <th>Brazil</th>\n",
       "      <th>June</th>\n",
       "      <td>2</td>\n",
       "    </tr>\n",
       "    <tr>\n",
       "      <th>...</th>\n",
       "      <th>...</th>\n",
       "      <td>...</td>\n",
       "    </tr>\n",
       "    <tr>\n",
       "      <th rowspan=\"5\" valign=\"top\">Venezuela</th>\n",
       "      <th>November</th>\n",
       "      <td>15</td>\n",
       "    </tr>\n",
       "    <tr>\n",
       "      <th>March</th>\n",
       "      <td>2</td>\n",
       "    </tr>\n",
       "    <tr>\n",
       "      <th>July</th>\n",
       "      <td>1</td>\n",
       "    </tr>\n",
       "    <tr>\n",
       "      <th>June</th>\n",
       "      <td>1</td>\n",
       "    </tr>\n",
       "    <tr>\n",
       "      <th>September</th>\n",
       "      <td>1</td>\n",
       "    </tr>\n",
       "  </tbody>\n",
       "</table>\n",
       "<p>199 rows × 1 columns</p>\n",
       "</div>"
      ],
      "text/plain": [
       "                         month_name\n",
       "country_name month_name            \n",
       "Barbados     October              1\n",
       "Belize       November             1\n",
       "Bermuda      February             1\n",
       "             January              1\n",
       "Brazil       June                 2\n",
       "...                             ...\n",
       "Venezuela    November            15\n",
       "             March                2\n",
       "             July                 1\n",
       "             June                 1\n",
       "             September            1\n",
       "\n",
       "[199 rows x 1 columns]"
      ]
     },
     "execution_count": 275,
     "metadata": {},
     "output_type": "execute_result"
    }
   ],
   "source": [
    "df.groupby([\"country_name\"])[\"month_name\"].value_counts().to_frame()"
   ]
  },
  {
   "cell_type": "code",
   "execution_count": 276,
   "id": "52d15f15",
   "metadata": {},
   "outputs": [
    {
     "data": {
      "text/html": [
       "<div>\n",
       "<style scoped>\n",
       "    .dataframe tbody tr th:only-of-type {\n",
       "        vertical-align: middle;\n",
       "    }\n",
       "\n",
       "    .dataframe tbody tr th {\n",
       "        vertical-align: top;\n",
       "    }\n",
       "\n",
       "    .dataframe thead th {\n",
       "        text-align: right;\n",
       "    }\n",
       "</style>\n",
       "<table border=\"1\" class=\"dataframe\">\n",
       "  <thead>\n",
       "    <tr style=\"text-align: right;\">\n",
       "      <th></th>\n",
       "      <th>date</th>\n",
       "      <th>country_name</th>\n",
       "      <th>state/province</th>\n",
       "      <th>population</th>\n",
       "      <th>city/town</th>\n",
       "      <th>distance</th>\n",
       "      <th>hazard_type</th>\n",
       "      <th>landslide_type</th>\n",
       "      <th>landslide_size</th>\n",
       "      <th>trigger</th>\n",
       "      <th>month</th>\n",
       "      <th>month_name</th>\n",
       "      <th>year</th>\n",
       "      <th>day</th>\n",
       "      <th>dayofweek</th>\n",
       "      <th>day_name</th>\n",
       "    </tr>\n",
       "  </thead>\n",
       "  <tbody>\n",
       "    <tr>\n",
       "      <th>0</th>\n",
       "      <td>2007-02-03</td>\n",
       "      <td>United States</td>\n",
       "      <td>Virginia</td>\n",
       "      <td>16000</td>\n",
       "      <td>Cherry Hill</td>\n",
       "      <td>3.40765</td>\n",
       "      <td>Landslide</td>\n",
       "      <td>Landslide</td>\n",
       "      <td>Small</td>\n",
       "      <td>Rain</td>\n",
       "      <td>2</td>\n",
       "      <td>February</td>\n",
       "      <td>2007</td>\n",
       "      <td>3</td>\n",
       "      <td>5</td>\n",
       "      <td>Saturday</td>\n",
       "    </tr>\n",
       "    <tr>\n",
       "      <th>1</th>\n",
       "      <td>2007-03-22</td>\n",
       "      <td>United States</td>\n",
       "      <td>Ohio</td>\n",
       "      <td>17288</td>\n",
       "      <td>New Philadelphia</td>\n",
       "      <td>3.33522</td>\n",
       "      <td>Landslide</td>\n",
       "      <td>Landslide</td>\n",
       "      <td>Small</td>\n",
       "      <td>Rain</td>\n",
       "      <td>3</td>\n",
       "      <td>March</td>\n",
       "      <td>2007</td>\n",
       "      <td>22</td>\n",
       "      <td>3</td>\n",
       "      <td>Thursday</td>\n",
       "    </tr>\n",
       "  </tbody>\n",
       "</table>\n",
       "</div>"
      ],
      "text/plain": [
       "        date   country_name state/province  population         city/town  \\\n",
       "0 2007-02-03  United States       Virginia       16000       Cherry Hill   \n",
       "1 2007-03-22  United States           Ohio       17288  New Philadelphia   \n",
       "\n",
       "   distance hazard_type landslide_type landslide_size trigger  month  \\\n",
       "0   3.40765   Landslide      Landslide          Small    Rain      2   \n",
       "1   3.33522   Landslide      Landslide          Small    Rain      3   \n",
       "\n",
       "  month_name  year  day  dayofweek  day_name  \n",
       "0   February  2007    3          5  Saturday  \n",
       "1      March  2007   22          3  Thursday  "
      ]
     },
     "execution_count": 276,
     "metadata": {},
     "output_type": "execute_result"
    }
   ],
   "source": [
    "df.head(2)"
   ]
  },
  {
   "cell_type": "code",
   "execution_count": 277,
   "id": "306c4af5",
   "metadata": {},
   "outputs": [],
   "source": [
    "df[\"weekend/weekday\"]=df[\"day_name\"].apply(lambda x: \"weekend\" if ((x==\"Saturday\") | (x==\"Sunday\")) else \"weekday\")"
   ]
  },
  {
   "cell_type": "code",
   "execution_count": 278,
   "id": "23badf13",
   "metadata": {},
   "outputs": [
    {
     "data": {
      "text/html": [
       "<div>\n",
       "<style scoped>\n",
       "    .dataframe tbody tr th:only-of-type {\n",
       "        vertical-align: middle;\n",
       "    }\n",
       "\n",
       "    .dataframe tbody tr th {\n",
       "        vertical-align: top;\n",
       "    }\n",
       "\n",
       "    .dataframe thead th {\n",
       "        text-align: right;\n",
       "    }\n",
       "</style>\n",
       "<table border=\"1\" class=\"dataframe\">\n",
       "  <thead>\n",
       "    <tr style=\"text-align: right;\">\n",
       "      <th></th>\n",
       "      <th>date</th>\n",
       "      <th>country_name</th>\n",
       "      <th>state/province</th>\n",
       "      <th>population</th>\n",
       "      <th>city/town</th>\n",
       "      <th>distance</th>\n",
       "      <th>hazard_type</th>\n",
       "      <th>landslide_type</th>\n",
       "      <th>landslide_size</th>\n",
       "      <th>trigger</th>\n",
       "      <th>month</th>\n",
       "      <th>month_name</th>\n",
       "      <th>year</th>\n",
       "      <th>day</th>\n",
       "      <th>dayofweek</th>\n",
       "      <th>day_name</th>\n",
       "      <th>weekend/weekday</th>\n",
       "    </tr>\n",
       "  </thead>\n",
       "  <tbody>\n",
       "    <tr>\n",
       "      <th>709</th>\n",
       "      <td>2011-05-13</td>\n",
       "      <td>United States</td>\n",
       "      <td>Pennsylvania</td>\n",
       "      <td>3450</td>\n",
       "      <td>Masontown</td>\n",
       "      <td>5.82547</td>\n",
       "      <td>Landslide</td>\n",
       "      <td>Mudslide</td>\n",
       "      <td>Small</td>\n",
       "      <td>Downpour</td>\n",
       "      <td>5</td>\n",
       "      <td>May</td>\n",
       "      <td>2011</td>\n",
       "      <td>13</td>\n",
       "      <td>4</td>\n",
       "      <td>Friday</td>\n",
       "      <td>weekday</td>\n",
       "    </tr>\n",
       "    <tr>\n",
       "      <th>1511</th>\n",
       "      <td>2015-04-17</td>\n",
       "      <td>Canada</td>\n",
       "      <td>Nova Scotia</td>\n",
       "      <td>2052</td>\n",
       "      <td>Digby</td>\n",
       "      <td>11.62624</td>\n",
       "      <td>Landslide</td>\n",
       "      <td>Landslide</td>\n",
       "      <td>Medium</td>\n",
       "      <td>Unknown</td>\n",
       "      <td>4</td>\n",
       "      <td>April</td>\n",
       "      <td>2015</td>\n",
       "      <td>17</td>\n",
       "      <td>4</td>\n",
       "      <td>Friday</td>\n",
       "      <td>weekday</td>\n",
       "    </tr>\n",
       "    <tr>\n",
       "      <th>1683</th>\n",
       "      <td>2016-02-27</td>\n",
       "      <td>United States</td>\n",
       "      <td>Idaho</td>\n",
       "      <td>485</td>\n",
       "      <td>Idaho City</td>\n",
       "      <td>24.16064</td>\n",
       "      <td>Landslide</td>\n",
       "      <td>Rockfall</td>\n",
       "      <td>Small</td>\n",
       "      <td>Rain</td>\n",
       "      <td>2</td>\n",
       "      <td>February</td>\n",
       "      <td>2016</td>\n",
       "      <td>27</td>\n",
       "      <td>5</td>\n",
       "      <td>Saturday</td>\n",
       "      <td>weekend</td>\n",
       "    </tr>\n",
       "    <tr>\n",
       "      <th>957</th>\n",
       "      <td>2013-04-26</td>\n",
       "      <td>Trinidad and Tobago</td>\n",
       "      <td>Tobago</td>\n",
       "      <td>17000</td>\n",
       "      <td>Scarborough</td>\n",
       "      <td>6.35974</td>\n",
       "      <td>Landslide</td>\n",
       "      <td>Landslide</td>\n",
       "      <td>Large</td>\n",
       "      <td>Rain</td>\n",
       "      <td>4</td>\n",
       "      <td>April</td>\n",
       "      <td>2013</td>\n",
       "      <td>26</td>\n",
       "      <td>4</td>\n",
       "      <td>Friday</td>\n",
       "      <td>weekday</td>\n",
       "    </tr>\n",
       "  </tbody>\n",
       "</table>\n",
       "</div>"
      ],
      "text/plain": [
       "           date         country_name state/province  population    city/town  \\\n",
       "709  2011-05-13        United States   Pennsylvania        3450    Masontown   \n",
       "1511 2015-04-17               Canada    Nova Scotia        2052        Digby   \n",
       "1683 2016-02-27        United States          Idaho         485   Idaho City   \n",
       "957  2013-04-26  Trinidad and Tobago         Tobago       17000  Scarborough   \n",
       "\n",
       "      distance hazard_type landslide_type landslide_size   trigger  month  \\\n",
       "709    5.82547   Landslide       Mudslide          Small  Downpour      5   \n",
       "1511  11.62624   Landslide      Landslide         Medium   Unknown      4   \n",
       "1683  24.16064   Landslide       Rockfall          Small      Rain      2   \n",
       "957    6.35974   Landslide      Landslide          Large      Rain      4   \n",
       "\n",
       "     month_name  year  day  dayofweek  day_name weekend/weekday  \n",
       "709         May  2011   13          4    Friday         weekday  \n",
       "1511      April  2015   17          4    Friday         weekday  \n",
       "1683   February  2016   27          5  Saturday         weekend  \n",
       "957       April  2013   26          4    Friday         weekday  "
      ]
     },
     "execution_count": 278,
     "metadata": {},
     "output_type": "execute_result"
    }
   ],
   "source": [
    "df.sample(4)"
   ]
  },
  {
   "cell_type": "markdown",
   "id": "7fb6f2b2",
   "metadata": {},
   "source": [
    "# weekof year"
   ]
  },
  {
   "cell_type": "code",
   "execution_count": 279,
   "id": "57bc9f53",
   "metadata": {},
   "outputs": [
    {
     "name": "stderr",
     "output_type": "stream",
     "text": [
      "C:\\Users\\acer\\AppData\\Local\\Temp\\ipykernel_3140\\3500945539.py:1: FutureWarning: Series.dt.weekofyear and Series.dt.week have been deprecated. Please use Series.dt.isocalendar().week instead.\n",
      "  df[\"weekofyear\"]=df.date.dt.weekofyear\n"
     ]
    }
   ],
   "source": [
    "df[\"weekofyear\"]=df.date.dt.weekofyear\n"
   ]
  },
  {
   "cell_type": "code",
   "execution_count": 280,
   "id": "c3e83637",
   "metadata": {},
   "outputs": [
    {
     "data": {
      "text/html": [
       "<div>\n",
       "<style scoped>\n",
       "    .dataframe tbody tr th:only-of-type {\n",
       "        vertical-align: middle;\n",
       "    }\n",
       "\n",
       "    .dataframe tbody tr th {\n",
       "        vertical-align: top;\n",
       "    }\n",
       "\n",
       "    .dataframe thead th {\n",
       "        text-align: right;\n",
       "    }\n",
       "</style>\n",
       "<table border=\"1\" class=\"dataframe\">\n",
       "  <thead>\n",
       "    <tr style=\"text-align: right;\">\n",
       "      <th></th>\n",
       "      <th>date</th>\n",
       "      <th>country_name</th>\n",
       "      <th>state/province</th>\n",
       "      <th>population</th>\n",
       "      <th>city/town</th>\n",
       "      <th>distance</th>\n",
       "      <th>hazard_type</th>\n",
       "      <th>landslide_type</th>\n",
       "      <th>landslide_size</th>\n",
       "      <th>trigger</th>\n",
       "      <th>month</th>\n",
       "      <th>month_name</th>\n",
       "      <th>year</th>\n",
       "      <th>day</th>\n",
       "      <th>dayofweek</th>\n",
       "      <th>day_name</th>\n",
       "      <th>weekend/weekday</th>\n",
       "      <th>weekofyear</th>\n",
       "    </tr>\n",
       "  </thead>\n",
       "  <tbody>\n",
       "    <tr>\n",
       "      <th>0</th>\n",
       "      <td>2007-02-03</td>\n",
       "      <td>United States</td>\n",
       "      <td>Virginia</td>\n",
       "      <td>16000</td>\n",
       "      <td>Cherry Hill</td>\n",
       "      <td>3.40765</td>\n",
       "      <td>Landslide</td>\n",
       "      <td>Landslide</td>\n",
       "      <td>Small</td>\n",
       "      <td>Rain</td>\n",
       "      <td>2</td>\n",
       "      <td>February</td>\n",
       "      <td>2007</td>\n",
       "      <td>3</td>\n",
       "      <td>5</td>\n",
       "      <td>Saturday</td>\n",
       "      <td>weekend</td>\n",
       "      <td>5</td>\n",
       "    </tr>\n",
       "    <tr>\n",
       "      <th>1</th>\n",
       "      <td>2007-03-22</td>\n",
       "      <td>United States</td>\n",
       "      <td>Ohio</td>\n",
       "      <td>17288</td>\n",
       "      <td>New Philadelphia</td>\n",
       "      <td>3.33522</td>\n",
       "      <td>Landslide</td>\n",
       "      <td>Landslide</td>\n",
       "      <td>Small</td>\n",
       "      <td>Rain</td>\n",
       "      <td>3</td>\n",
       "      <td>March</td>\n",
       "      <td>2007</td>\n",
       "      <td>22</td>\n",
       "      <td>3</td>\n",
       "      <td>Thursday</td>\n",
       "      <td>weekday</td>\n",
       "      <td>12</td>\n",
       "    </tr>\n",
       "  </tbody>\n",
       "</table>\n",
       "</div>"
      ],
      "text/plain": [
       "        date   country_name state/province  population         city/town  \\\n",
       "0 2007-02-03  United States       Virginia       16000       Cherry Hill   \n",
       "1 2007-03-22  United States           Ohio       17288  New Philadelphia   \n",
       "\n",
       "   distance hazard_type landslide_type landslide_size trigger  month  \\\n",
       "0   3.40765   Landslide      Landslide          Small    Rain      2   \n",
       "1   3.33522   Landslide      Landslide          Small    Rain      3   \n",
       "\n",
       "  month_name  year  day  dayofweek  day_name weekend/weekday  weekofyear  \n",
       "0   February  2007    3          5  Saturday         weekend           5  \n",
       "1      March  2007   22          3  Thursday         weekday          12  "
      ]
     },
     "execution_count": 280,
     "metadata": {},
     "output_type": "execute_result"
    }
   ],
   "source": [
    "df.head(2)"
   ]
  },
  {
   "cell_type": "markdown",
   "id": "aa339388",
   "metadata": {},
   "source": [
    "# extract quarter"
   ]
  },
  {
   "cell_type": "code",
   "execution_count": 281,
   "id": "5955f091",
   "metadata": {},
   "outputs": [],
   "source": [
    "df[\"quarter\"]=df.date.dt.quarter"
   ]
  },
  {
   "cell_type": "code",
   "execution_count": 282,
   "id": "4dabafda",
   "metadata": {},
   "outputs": [
    {
     "data": {
      "text/html": [
       "<div>\n",
       "<style scoped>\n",
       "    .dataframe tbody tr th:only-of-type {\n",
       "        vertical-align: middle;\n",
       "    }\n",
       "\n",
       "    .dataframe tbody tr th {\n",
       "        vertical-align: top;\n",
       "    }\n",
       "\n",
       "    .dataframe thead th {\n",
       "        text-align: right;\n",
       "    }\n",
       "</style>\n",
       "<table border=\"1\" class=\"dataframe\">\n",
       "  <thead>\n",
       "    <tr style=\"text-align: right;\">\n",
       "      <th></th>\n",
       "      <th>date</th>\n",
       "      <th>country_name</th>\n",
       "      <th>state/province</th>\n",
       "      <th>population</th>\n",
       "      <th>city/town</th>\n",
       "      <th>distance</th>\n",
       "      <th>hazard_type</th>\n",
       "      <th>landslide_type</th>\n",
       "      <th>landslide_size</th>\n",
       "      <th>trigger</th>\n",
       "      <th>month</th>\n",
       "      <th>month_name</th>\n",
       "      <th>year</th>\n",
       "      <th>day</th>\n",
       "      <th>dayofweek</th>\n",
       "      <th>day_name</th>\n",
       "      <th>weekend/weekday</th>\n",
       "      <th>weekofyear</th>\n",
       "      <th>quarter</th>\n",
       "    </tr>\n",
       "  </thead>\n",
       "  <tbody>\n",
       "    <tr>\n",
       "      <th>124</th>\n",
       "      <td>2008-04-08</td>\n",
       "      <td>United States</td>\n",
       "      <td>New Mexico</td>\n",
       "      <td>1788</td>\n",
       "      <td>Jemez Pueblo</td>\n",
       "      <td>12.68493</td>\n",
       "      <td>Landslide</td>\n",
       "      <td>Mudslide</td>\n",
       "      <td>Small</td>\n",
       "      <td>Rain</td>\n",
       "      <td>4</td>\n",
       "      <td>April</td>\n",
       "      <td>2008</td>\n",
       "      <td>8</td>\n",
       "      <td>1</td>\n",
       "      <td>Tuesday</td>\n",
       "      <td>weekday</td>\n",
       "      <td>15</td>\n",
       "      <td>2</td>\n",
       "    </tr>\n",
       "    <tr>\n",
       "      <th>138</th>\n",
       "      <td>2008-08-26</td>\n",
       "      <td>Haiti</td>\n",
       "      <td>Sud-Est</td>\n",
       "      <td>137966</td>\n",
       "      <td>Jacmel</td>\n",
       "      <td>4.41574</td>\n",
       "      <td>Landslide</td>\n",
       "      <td>Landslide</td>\n",
       "      <td>Medium</td>\n",
       "      <td>Tropical cyclone</td>\n",
       "      <td>8</td>\n",
       "      <td>August</td>\n",
       "      <td>2008</td>\n",
       "      <td>26</td>\n",
       "      <td>1</td>\n",
       "      <td>Tuesday</td>\n",
       "      <td>weekday</td>\n",
       "      <td>35</td>\n",
       "      <td>3</td>\n",
       "    </tr>\n",
       "    <tr>\n",
       "      <th>1006</th>\n",
       "      <td>2013-01-07</td>\n",
       "      <td>United States</td>\n",
       "      <td>North Carolina</td>\n",
       "      <td>1655</td>\n",
       "      <td>Hazelwood</td>\n",
       "      <td>11.16865</td>\n",
       "      <td>Landslide</td>\n",
       "      <td>Landslide</td>\n",
       "      <td>Small</td>\n",
       "      <td>Downpour</td>\n",
       "      <td>1</td>\n",
       "      <td>January</td>\n",
       "      <td>2013</td>\n",
       "      <td>7</td>\n",
       "      <td>0</td>\n",
       "      <td>Monday</td>\n",
       "      <td>weekday</td>\n",
       "      <td>2</td>\n",
       "      <td>1</td>\n",
       "    </tr>\n",
       "    <tr>\n",
       "      <th>327</th>\n",
       "      <td>2010-03-05</td>\n",
       "      <td>United States</td>\n",
       "      <td>Kentucky</td>\n",
       "      <td>777</td>\n",
       "      <td>Hindman</td>\n",
       "      <td>10.50499</td>\n",
       "      <td>Landslide</td>\n",
       "      <td>Mudslide</td>\n",
       "      <td>Small</td>\n",
       "      <td>Downpour</td>\n",
       "      <td>3</td>\n",
       "      <td>March</td>\n",
       "      <td>2010</td>\n",
       "      <td>5</td>\n",
       "      <td>4</td>\n",
       "      <td>Friday</td>\n",
       "      <td>weekday</td>\n",
       "      <td>9</td>\n",
       "      <td>1</td>\n",
       "    </tr>\n",
       "    <tr>\n",
       "      <th>1555</th>\n",
       "      <td>2015-08-15</td>\n",
       "      <td>United States</td>\n",
       "      <td>Colorado</td>\n",
       "      <td>416427</td>\n",
       "      <td>Colorado Springs</td>\n",
       "      <td>3.81487</td>\n",
       "      <td>Landslide</td>\n",
       "      <td>Landslide</td>\n",
       "      <td>Small</td>\n",
       "      <td>Rain</td>\n",
       "      <td>8</td>\n",
       "      <td>August</td>\n",
       "      <td>2015</td>\n",
       "      <td>15</td>\n",
       "      <td>5</td>\n",
       "      <td>Saturday</td>\n",
       "      <td>weekend</td>\n",
       "      <td>33</td>\n",
       "      <td>3</td>\n",
       "    </tr>\n",
       "  </tbody>\n",
       "</table>\n",
       "</div>"
      ],
      "text/plain": [
       "           date   country_name  state/province  population         city/town  \\\n",
       "124  2008-04-08  United States      New Mexico        1788      Jemez Pueblo   \n",
       "138  2008-08-26          Haiti         Sud-Est      137966            Jacmel   \n",
       "1006 2013-01-07  United States  North Carolina        1655         Hazelwood   \n",
       "327  2010-03-05  United States        Kentucky         777           Hindman   \n",
       "1555 2015-08-15  United States        Colorado      416427  Colorado Springs   \n",
       "\n",
       "      distance hazard_type landslide_type landslide_size           trigger  \\\n",
       "124   12.68493   Landslide       Mudslide          Small              Rain   \n",
       "138    4.41574   Landslide      Landslide         Medium  Tropical cyclone   \n",
       "1006  11.16865   Landslide      Landslide          Small          Downpour   \n",
       "327   10.50499   Landslide       Mudslide          Small          Downpour   \n",
       "1555   3.81487   Landslide      Landslide          Small              Rain   \n",
       "\n",
       "      month month_name  year  day  dayofweek  day_name weekend/weekday  \\\n",
       "124       4      April  2008    8          1   Tuesday         weekday   \n",
       "138       8     August  2008   26          1   Tuesday         weekday   \n",
       "1006      1    January  2013    7          0    Monday         weekday   \n",
       "327       3      March  2010    5          4    Friday         weekday   \n",
       "1555      8     August  2015   15          5  Saturday         weekend   \n",
       "\n",
       "      weekofyear  quarter  \n",
       "124           15        2  \n",
       "138           35        3  \n",
       "1006           2        1  \n",
       "327            9        1  \n",
       "1555          33        3  "
      ]
     },
     "execution_count": 282,
     "metadata": {},
     "output_type": "execute_result"
    }
   ],
   "source": [
    "df.sample(5)"
   ]
  },
  {
   "cell_type": "code",
   "execution_count": 122,
   "id": "3c7a9cff",
   "metadata": {},
   "outputs": [
    {
     "data": {
      "text/html": [
       "<div>\n",
       "<style scoped>\n",
       "    .dataframe tbody tr th:only-of-type {\n",
       "        vertical-align: middle;\n",
       "    }\n",
       "\n",
       "    .dataframe tbody tr th {\n",
       "        vertical-align: top;\n",
       "    }\n",
       "\n",
       "    .dataframe thead th {\n",
       "        text-align: right;\n",
       "    }\n",
       "</style>\n",
       "<table border=\"1\" class=\"dataframe\">\n",
       "  <thead>\n",
       "    <tr style=\"text-align: right;\">\n",
       "      <th></th>\n",
       "      <th>date</th>\n",
       "      <th>country_name</th>\n",
       "      <th>state/province</th>\n",
       "      <th>population</th>\n",
       "      <th>city/town</th>\n",
       "      <th>hazard_type</th>\n",
       "      <th>landslide_type</th>\n",
       "      <th>month</th>\n",
       "      <th>year</th>\n",
       "      <th>day</th>\n",
       "      <th>dayofweek</th>\n",
       "      <th>day_name</th>\n",
       "      <th>month_name</th>\n",
       "      <th>weekofyear</th>\n",
       "      <th>quarter</th>\n",
       "      <th>semester</th>\n",
       "      <th>weekday/weekend</th>\n",
       "    </tr>\n",
       "  </thead>\n",
       "  <tbody>\n",
       "    <tr>\n",
       "      <th>1167</th>\n",
       "      <td>2013-09-30</td>\n",
       "      <td>United States</td>\n",
       "      <td>Massachusetts</td>\n",
       "      <td>19030</td>\n",
       "      <td>Southbridge</td>\n",
       "      <td>Landslide</td>\n",
       "      <td>Landslide</td>\n",
       "      <td>9</td>\n",
       "      <td>2013</td>\n",
       "      <td>30</td>\n",
       "      <td>0</td>\n",
       "      <td>Monday</td>\n",
       "      <td>September</td>\n",
       "      <td>40</td>\n",
       "      <td>3</td>\n",
       "      <td>2nd semester</td>\n",
       "      <td>weekdays</td>\n",
       "    </tr>\n",
       "    <tr>\n",
       "      <th>1335</th>\n",
       "      <td>2014-08-13</td>\n",
       "      <td>United States</td>\n",
       "      <td>Idaho</td>\n",
       "      <td>485</td>\n",
       "      <td>Idaho City</td>\n",
       "      <td>Landslide</td>\n",
       "      <td>Mudslide</td>\n",
       "      <td>8</td>\n",
       "      <td>2014</td>\n",
       "      <td>13</td>\n",
       "      <td>2</td>\n",
       "      <td>Wednesday</td>\n",
       "      <td>August</td>\n",
       "      <td>33</td>\n",
       "      <td>3</td>\n",
       "      <td>2nd semester</td>\n",
       "      <td>weekdays</td>\n",
       "    </tr>\n",
       "    <tr>\n",
       "      <th>480</th>\n",
       "      <td>2010-10-17</td>\n",
       "      <td>Haiti</td>\n",
       "      <td>Ouest</td>\n",
       "      <td>134190</td>\n",
       "      <td>LÃ©ogÃ¢ne</td>\n",
       "      <td>Landslide</td>\n",
       "      <td>Complex</td>\n",
       "      <td>10</td>\n",
       "      <td>2010</td>\n",
       "      <td>17</td>\n",
       "      <td>6</td>\n",
       "      <td>Sunday</td>\n",
       "      <td>October</td>\n",
       "      <td>41</td>\n",
       "      <td>4</td>\n",
       "      <td>2nd semester</td>\n",
       "      <td>weekend</td>\n",
       "    </tr>\n",
       "    <tr>\n",
       "      <th>640</th>\n",
       "      <td>2011-04-14</td>\n",
       "      <td>United States</td>\n",
       "      <td>Pennsylvania</td>\n",
       "      <td>1929</td>\n",
       "      <td>West Homestead</td>\n",
       "      <td>Landslide</td>\n",
       "      <td>Mudslide</td>\n",
       "      <td>4</td>\n",
       "      <td>2011</td>\n",
       "      <td>14</td>\n",
       "      <td>3</td>\n",
       "      <td>Thursday</td>\n",
       "      <td>April</td>\n",
       "      <td>15</td>\n",
       "      <td>2</td>\n",
       "      <td>1 st semester</td>\n",
       "      <td>weekdays</td>\n",
       "    </tr>\n",
       "  </tbody>\n",
       "</table>\n",
       "</div>"
      ],
      "text/plain": [
       "           date   country_name state/province  population       city/town  \\\n",
       "1167 2013-09-30  United States  Massachusetts       19030     Southbridge   \n",
       "1335 2014-08-13  United States          Idaho         485      Idaho City   \n",
       "480  2010-10-17          Haiti          Ouest      134190       LÃ©ogÃ¢ne   \n",
       "640  2011-04-14  United States   Pennsylvania        1929  West Homestead   \n",
       "\n",
       "     hazard_type landslide_type  month  year  day  dayofweek   day_name  \\\n",
       "1167   Landslide      Landslide      9  2013   30          0     Monday   \n",
       "1335   Landslide       Mudslide      8  2014   13          2  Wednesday   \n",
       "480    Landslide        Complex     10  2010   17          6     Sunday   \n",
       "640    Landslide       Mudslide      4  2011   14          3   Thursday   \n",
       "\n",
       "     month_name  weekofyear  quarter        semester weekday/weekend  \n",
       "1167  September          40        3    2nd semester        weekdays  \n",
       "1335     August          33        3    2nd semester        weekdays  \n",
       "480     October          41        4    2nd semester         weekend  \n",
       "640       April          15        2  1 st semester         weekdays  "
      ]
     },
     "execution_count": 122,
     "metadata": {},
     "output_type": "execute_result"
    }
   ],
   "source": [
    "df.sample(4)"
   ]
  },
  {
   "cell_type": "code",
   "execution_count": 284,
   "id": "90cd9c9f",
   "metadata": {},
   "outputs": [
    {
     "data": {
      "text/plain": [
       "Timestamp('2007-01-06 00:00:00')"
      ]
     },
     "execution_count": 284,
     "metadata": {},
     "output_type": "execute_result"
    }
   ],
   "source": [
    "df[\"date\"].min()"
   ]
  },
  {
   "cell_type": "markdown",
   "id": "73a97395",
   "metadata": {},
   "source": [
    "## last lanslide day  of each month"
   ]
  },
  {
   "cell_type": "code",
   "execution_count": 285,
   "id": "5a36ec4b",
   "metadata": {},
   "outputs": [
    {
     "data": {
      "text/plain": [
       "month\n",
       "1    2016-01-29\n",
       "2    2016-02-27\n",
       "3    2015-03-21\n",
       "4    2015-04-29\n",
       "5    2015-05-31\n",
       "6    2015-06-30\n",
       "7    2015-07-27\n",
       "8    2015-08-31\n",
       "9    2015-09-28\n",
       "10   2015-10-29\n",
       "11   2015-11-29\n",
       "12   2015-12-21\n",
       "Name: date, dtype: datetime64[ns]"
      ]
     },
     "execution_count": 285,
     "metadata": {},
     "output_type": "execute_result"
    }
   ],
   "source": [
    "df[\"date\"].max()\n",
    "df.groupby(\"month\")[\"date\"].max()  ## month wise last working days"
   ]
  },
  {
   "cell_type": "markdown",
   "id": "3bc549d3",
   "metadata": {},
   "source": [
    "## fetch the oldest date in data set"
   ]
  },
  {
   "cell_type": "code",
   "execution_count": 126,
   "id": "500a22b4",
   "metadata": {},
   "outputs": [
    {
     "data": {
      "text/plain": [
       "Timestamp('2007-01-06 00:00:00')"
      ]
     },
     "execution_count": 126,
     "metadata": {},
     "output_type": "execute_result"
    }
   ],
   "source": [
    "df[\"date\"].min()"
   ]
  },
  {
   "cell_type": "code",
   "execution_count": 127,
   "id": "5a1a5860",
   "metadata": {},
   "outputs": [
    {
     "data": {
      "text/plain": [
       "Timestamp('2016-02-27 00:00:00')"
      ]
     },
     "execution_count": 127,
     "metadata": {},
     "output_type": "execute_result"
    }
   ],
   "source": [
    "df[\"date\"].max()"
   ]
  },
  {
   "cell_type": "markdown",
   "id": "45725f67",
   "metadata": {},
   "source": [
    "# make date as index that makes operations efficient"
   ]
  },
  {
   "cell_type": "code",
   "execution_count": 128,
   "id": "174dfef1",
   "metadata": {},
   "outputs": [
    {
     "data": {
      "text/plain": [
       "Index(['date', 'country_name', 'state/province', 'population', 'city/town',\n",
       "       'hazard_type', 'landslide_type', 'month', 'year', 'day', 'dayofweek',\n",
       "       'day_name', 'month_name', 'weekofyear', 'quarter', 'semester',\n",
       "       'weekday/weekend'],\n",
       "      dtype='object')"
      ]
     },
     "execution_count": 128,
     "metadata": {},
     "output_type": "execute_result"
    }
   ],
   "source": [
    "df.columns"
   ]
  },
  {
   "cell_type": "code",
   "execution_count": 286,
   "id": "a5f47178",
   "metadata": {},
   "outputs": [],
   "source": [
    "df.set_index(\"date\",inplace=True)"
   ]
  },
  {
   "cell_type": "code",
   "execution_count": 130,
   "id": "1b59b5d2",
   "metadata": {},
   "outputs": [
    {
     "data": {
      "text/html": [
       "<div>\n",
       "<style scoped>\n",
       "    .dataframe tbody tr th:only-of-type {\n",
       "        vertical-align: middle;\n",
       "    }\n",
       "\n",
       "    .dataframe tbody tr th {\n",
       "        vertical-align: top;\n",
       "    }\n",
       "\n",
       "    .dataframe thead th {\n",
       "        text-align: right;\n",
       "    }\n",
       "</style>\n",
       "<table border=\"1\" class=\"dataframe\">\n",
       "  <thead>\n",
       "    <tr style=\"text-align: right;\">\n",
       "      <th></th>\n",
       "      <th>country_name</th>\n",
       "      <th>state/province</th>\n",
       "      <th>population</th>\n",
       "      <th>city/town</th>\n",
       "      <th>hazard_type</th>\n",
       "      <th>landslide_type</th>\n",
       "      <th>month</th>\n",
       "      <th>year</th>\n",
       "      <th>day</th>\n",
       "      <th>dayofweek</th>\n",
       "      <th>day_name</th>\n",
       "      <th>month_name</th>\n",
       "      <th>weekofyear</th>\n",
       "      <th>quarter</th>\n",
       "      <th>semester</th>\n",
       "      <th>weekday/weekend</th>\n",
       "    </tr>\n",
       "    <tr>\n",
       "      <th>date</th>\n",
       "      <th></th>\n",
       "      <th></th>\n",
       "      <th></th>\n",
       "      <th></th>\n",
       "      <th></th>\n",
       "      <th></th>\n",
       "      <th></th>\n",
       "      <th></th>\n",
       "      <th></th>\n",
       "      <th></th>\n",
       "      <th></th>\n",
       "      <th></th>\n",
       "      <th></th>\n",
       "      <th></th>\n",
       "      <th></th>\n",
       "      <th></th>\n",
       "    </tr>\n",
       "  </thead>\n",
       "  <tbody>\n",
       "    <tr>\n",
       "      <th>2007-02-03</th>\n",
       "      <td>United States</td>\n",
       "      <td>Virginia</td>\n",
       "      <td>16000</td>\n",
       "      <td>Cherry Hill</td>\n",
       "      <td>Landslide</td>\n",
       "      <td>Landslide</td>\n",
       "      <td>2</td>\n",
       "      <td>2007</td>\n",
       "      <td>3</td>\n",
       "      <td>5</td>\n",
       "      <td>Saturday</td>\n",
       "      <td>February</td>\n",
       "      <td>5</td>\n",
       "      <td>1</td>\n",
       "      <td>1 st semester</td>\n",
       "      <td>weekend</td>\n",
       "    </tr>\n",
       "    <tr>\n",
       "      <th>2007-03-22</th>\n",
       "      <td>United States</td>\n",
       "      <td>Ohio</td>\n",
       "      <td>17288</td>\n",
       "      <td>New Philadelphia</td>\n",
       "      <td>Landslide</td>\n",
       "      <td>Landslide</td>\n",
       "      <td>3</td>\n",
       "      <td>2007</td>\n",
       "      <td>22</td>\n",
       "      <td>3</td>\n",
       "      <td>Thursday</td>\n",
       "      <td>March</td>\n",
       "      <td>12</td>\n",
       "      <td>1</td>\n",
       "      <td>1 st semester</td>\n",
       "      <td>weekdays</td>\n",
       "    </tr>\n",
       "  </tbody>\n",
       "</table>\n",
       "</div>"
      ],
      "text/plain": [
       "             country_name state/province  population         city/town  \\\n",
       "date                                                                     \n",
       "2007-02-03  United States       Virginia       16000       Cherry Hill   \n",
       "2007-03-22  United States           Ohio       17288  New Philadelphia   \n",
       "\n",
       "           hazard_type landslide_type  month  year  day  dayofweek  day_name  \\\n",
       "date                                                                           \n",
       "2007-02-03   Landslide      Landslide      2  2007    3          5  Saturday   \n",
       "2007-03-22   Landslide      Landslide      3  2007   22          3  Thursday   \n",
       "\n",
       "           month_name  weekofyear  quarter        semester weekday/weekend  \n",
       "date                                                                        \n",
       "2007-02-03   February           5        1  1 st semester          weekend  \n",
       "2007-03-22      March          12        1  1 st semester         weekdays  "
      ]
     },
     "execution_count": 130,
     "metadata": {},
     "output_type": "execute_result"
    }
   ],
   "source": [
    "df.head(2)"
   ]
  },
  {
   "cell_type": "code",
   "execution_count": 287,
   "id": "270fd3fa",
   "metadata": {},
   "outputs": [
    {
     "data": {
      "text/plain": [
       "country_name          United States\n",
       "state/province                 Ohio\n",
       "population                    17288\n",
       "city/town          New Philadelphia\n",
       "distance                    3.33522\n",
       "hazard_type               Landslide\n",
       "landslide_type            Landslide\n",
       "landslide_size                Small\n",
       "trigger                        Rain\n",
       "month                             3\n",
       "month_name                    March\n",
       "year                           2007\n",
       "day                              22\n",
       "dayofweek                         3\n",
       "day_name                   Thursday\n",
       "weekend/weekday             weekday\n",
       "weekofyear                       12\n",
       "quarter                           1\n",
       "Name: 2007-03-22 00:00:00, dtype: object"
      ]
     },
     "execution_count": 287,
     "metadata": {},
     "output_type": "execute_result"
    }
   ],
   "source": [
    "df.loc[\"2007-03-22\"]"
   ]
  },
  {
   "cell_type": "code",
   "execution_count": null,
   "id": "97b2c7d9",
   "metadata": {},
   "outputs": [],
   "source": []
  },
  {
   "cell_type": "code",
   "execution_count": 131,
   "id": "510e74c9",
   "metadata": {},
   "outputs": [
    {
     "data": {
      "text/plain": [
       "DatetimeIndex(['2007-02-03', '2007-03-22', '2007-06-04', '2007-04-14',\n",
       "               '2007-04-15', '2007-04-20', '2007-04-24', '2007-05-21',\n",
       "               '2007-06-27', '2007-06-27',\n",
       "               ...\n",
       "               '2016-02-27', '2016-02-14', '2016-02-26', '2016-02-27',\n",
       "               '2015-11-29', '2015-07-12', '2016-02-22', '2016-02-23',\n",
       "               '2016-02-26', '2016-02-03'],\n",
       "              dtype='datetime64[ns]', name='date', length=1693, freq=None)"
      ]
     },
     "execution_count": 131,
     "metadata": {},
     "output_type": "execute_result"
    }
   ],
   "source": [
    "df.index"
   ]
  },
  {
   "cell_type": "markdown",
   "id": "1c6a1df4",
   "metadata": {},
   "source": [
    "# detail of landslide of particular date"
   ]
  },
  {
   "cell_type": "code",
   "execution_count": 132,
   "id": "9e5aadc6",
   "metadata": {},
   "outputs": [
    {
     "data": {
      "text/html": [
       "<div>\n",
       "<style scoped>\n",
       "    .dataframe tbody tr th:only-of-type {\n",
       "        vertical-align: middle;\n",
       "    }\n",
       "\n",
       "    .dataframe tbody tr th {\n",
       "        vertical-align: top;\n",
       "    }\n",
       "\n",
       "    .dataframe thead th {\n",
       "        text-align: right;\n",
       "    }\n",
       "</style>\n",
       "<table border=\"1\" class=\"dataframe\">\n",
       "  <thead>\n",
       "    <tr style=\"text-align: right;\">\n",
       "      <th></th>\n",
       "      <th>country_name</th>\n",
       "      <th>state/province</th>\n",
       "      <th>population</th>\n",
       "      <th>city/town</th>\n",
       "      <th>hazard_type</th>\n",
       "      <th>landslide_type</th>\n",
       "      <th>month</th>\n",
       "      <th>year</th>\n",
       "      <th>day</th>\n",
       "      <th>dayofweek</th>\n",
       "      <th>day_name</th>\n",
       "      <th>month_name</th>\n",
       "      <th>weekofyear</th>\n",
       "      <th>quarter</th>\n",
       "      <th>semester</th>\n",
       "      <th>weekday/weekend</th>\n",
       "    </tr>\n",
       "    <tr>\n",
       "      <th>date</th>\n",
       "      <th></th>\n",
       "      <th></th>\n",
       "      <th></th>\n",
       "      <th></th>\n",
       "      <th></th>\n",
       "      <th></th>\n",
       "      <th></th>\n",
       "      <th></th>\n",
       "      <th></th>\n",
       "      <th></th>\n",
       "      <th></th>\n",
       "      <th></th>\n",
       "      <th></th>\n",
       "      <th></th>\n",
       "      <th></th>\n",
       "      <th></th>\n",
       "    </tr>\n",
       "  </thead>\n",
       "  <tbody>\n",
       "    <tr>\n",
       "      <th>2016-02-26</th>\n",
       "      <td>United States</td>\n",
       "      <td>Tennessee</td>\n",
       "      <td>2020</td>\n",
       "      <td>Jacksboro</td>\n",
       "      <td>Landslide</td>\n",
       "      <td>Rockfall</td>\n",
       "      <td>2</td>\n",
       "      <td>2016</td>\n",
       "      <td>26</td>\n",
       "      <td>4</td>\n",
       "      <td>Friday</td>\n",
       "      <td>February</td>\n",
       "      <td>8</td>\n",
       "      <td>1</td>\n",
       "      <td>1 st semester</td>\n",
       "      <td>weekdays</td>\n",
       "    </tr>\n",
       "    <tr>\n",
       "      <th>2016-02-26</th>\n",
       "      <td>United States</td>\n",
       "      <td>West Virginia</td>\n",
       "      <td>1048</td>\n",
       "      <td>Athens</td>\n",
       "      <td>Landslide</td>\n",
       "      <td>Rockfall</td>\n",
       "      <td>2</td>\n",
       "      <td>2016</td>\n",
       "      <td>26</td>\n",
       "      <td>4</td>\n",
       "      <td>Friday</td>\n",
       "      <td>February</td>\n",
       "      <td>8</td>\n",
       "      <td>1</td>\n",
       "      <td>1 st semester</td>\n",
       "      <td>weekdays</td>\n",
       "    </tr>\n",
       "  </tbody>\n",
       "</table>\n",
       "</div>"
      ],
      "text/plain": [
       "             country_name state/province  population  city/town hazard_type  \\\n",
       "date                                                                          \n",
       "2016-02-26  United States      Tennessee        2020  Jacksboro   Landslide   \n",
       "2016-02-26  United States  West Virginia        1048     Athens   Landslide   \n",
       "\n",
       "           landslide_type  month  year  day  dayofweek day_name month_name  \\\n",
       "date                                                                         \n",
       "2016-02-26       Rockfall      2  2016   26          4   Friday   February   \n",
       "2016-02-26       Rockfall      2  2016   26          4   Friday   February   \n",
       "\n",
       "            weekofyear  quarter        semester weekday/weekend  \n",
       "date                                                             \n",
       "2016-02-26           8        1  1 st semester         weekdays  \n",
       "2016-02-26           8        1  1 st semester         weekdays  "
      ]
     },
     "execution_count": 132,
     "metadata": {},
     "output_type": "execute_result"
    }
   ],
   "source": [
    "df.loc[\"2016-02-26\"]"
   ]
  },
  {
   "cell_type": "code",
   "execution_count": 288,
   "id": "43097005",
   "metadata": {},
   "outputs": [
    {
     "data": {
      "text/html": [
       "<div>\n",
       "<style scoped>\n",
       "    .dataframe tbody tr th:only-of-type {\n",
       "        vertical-align: middle;\n",
       "    }\n",
       "\n",
       "    .dataframe tbody tr th {\n",
       "        vertical-align: top;\n",
       "    }\n",
       "\n",
       "    .dataframe thead th {\n",
       "        text-align: right;\n",
       "    }\n",
       "</style>\n",
       "<table border=\"1\" class=\"dataframe\">\n",
       "  <thead>\n",
       "    <tr style=\"text-align: right;\">\n",
       "      <th></th>\n",
       "      <th>country_name</th>\n",
       "      <th>state/province</th>\n",
       "      <th>population</th>\n",
       "      <th>city/town</th>\n",
       "      <th>distance</th>\n",
       "      <th>hazard_type</th>\n",
       "      <th>landslide_type</th>\n",
       "      <th>landslide_size</th>\n",
       "      <th>trigger</th>\n",
       "      <th>month</th>\n",
       "      <th>month_name</th>\n",
       "      <th>year</th>\n",
       "      <th>day</th>\n",
       "      <th>dayofweek</th>\n",
       "      <th>day_name</th>\n",
       "      <th>weekend/weekday</th>\n",
       "      <th>weekofyear</th>\n",
       "      <th>quarter</th>\n",
       "    </tr>\n",
       "    <tr>\n",
       "      <th>date</th>\n",
       "      <th></th>\n",
       "      <th></th>\n",
       "      <th></th>\n",
       "      <th></th>\n",
       "      <th></th>\n",
       "      <th></th>\n",
       "      <th></th>\n",
       "      <th></th>\n",
       "      <th></th>\n",
       "      <th></th>\n",
       "      <th></th>\n",
       "      <th></th>\n",
       "      <th></th>\n",
       "      <th></th>\n",
       "      <th></th>\n",
       "      <th></th>\n",
       "      <th></th>\n",
       "      <th></th>\n",
       "    </tr>\n",
       "  </thead>\n",
       "  <tbody>\n",
       "    <tr>\n",
       "      <th>2007-02-03</th>\n",
       "      <td>United States</td>\n",
       "      <td>Virginia</td>\n",
       "      <td>16000</td>\n",
       "      <td>Cherry Hill</td>\n",
       "      <td>3.40765</td>\n",
       "      <td>Landslide</td>\n",
       "      <td>Landslide</td>\n",
       "      <td>Small</td>\n",
       "      <td>Rain</td>\n",
       "      <td>2</td>\n",
       "      <td>February</td>\n",
       "      <td>2007</td>\n",
       "      <td>3</td>\n",
       "      <td>5</td>\n",
       "      <td>Saturday</td>\n",
       "      <td>weekend</td>\n",
       "      <td>5</td>\n",
       "      <td>1</td>\n",
       "    </tr>\n",
       "    <tr>\n",
       "      <th>2007-03-22</th>\n",
       "      <td>United States</td>\n",
       "      <td>Ohio</td>\n",
       "      <td>17288</td>\n",
       "      <td>New Philadelphia</td>\n",
       "      <td>3.33522</td>\n",
       "      <td>Landslide</td>\n",
       "      <td>Landslide</td>\n",
       "      <td>Small</td>\n",
       "      <td>Rain</td>\n",
       "      <td>3</td>\n",
       "      <td>March</td>\n",
       "      <td>2007</td>\n",
       "      <td>22</td>\n",
       "      <td>3</td>\n",
       "      <td>Thursday</td>\n",
       "      <td>weekday</td>\n",
       "      <td>12</td>\n",
       "      <td>1</td>\n",
       "    </tr>\n",
       "    <tr>\n",
       "      <th>2007-04-14</th>\n",
       "      <td>Canada</td>\n",
       "      <td>Quebec</td>\n",
       "      <td>42786</td>\n",
       "      <td>ChÃ¢teauguay</td>\n",
       "      <td>2.98682</td>\n",
       "      <td>Landslide</td>\n",
       "      <td>Riverbank collapse</td>\n",
       "      <td>Small</td>\n",
       "      <td>Rain</td>\n",
       "      <td>4</td>\n",
       "      <td>April</td>\n",
       "      <td>2007</td>\n",
       "      <td>14</td>\n",
       "      <td>5</td>\n",
       "      <td>Saturday</td>\n",
       "      <td>weekend</td>\n",
       "      <td>15</td>\n",
       "      <td>2</td>\n",
       "    </tr>\n",
       "    <tr>\n",
       "      <th>2007-04-15</th>\n",
       "      <td>United States</td>\n",
       "      <td>Kentucky</td>\n",
       "      <td>6903</td>\n",
       "      <td>Pikeville</td>\n",
       "      <td>5.66542</td>\n",
       "      <td>Landslide</td>\n",
       "      <td>Landslide</td>\n",
       "      <td>Small</td>\n",
       "      <td>Downpour</td>\n",
       "      <td>4</td>\n",
       "      <td>April</td>\n",
       "      <td>2007</td>\n",
       "      <td>15</td>\n",
       "      <td>6</td>\n",
       "      <td>Sunday</td>\n",
       "      <td>weekend</td>\n",
       "      <td>15</td>\n",
       "      <td>2</td>\n",
       "    </tr>\n",
       "    <tr>\n",
       "      <th>2007-04-20</th>\n",
       "      <td>United States</td>\n",
       "      <td>Kentucky</td>\n",
       "      <td>6903</td>\n",
       "      <td>Pikeville</td>\n",
       "      <td>0.23715</td>\n",
       "      <td>Landslide</td>\n",
       "      <td>Landslide</td>\n",
       "      <td>Small</td>\n",
       "      <td>Rain</td>\n",
       "      <td>4</td>\n",
       "      <td>April</td>\n",
       "      <td>2007</td>\n",
       "      <td>20</td>\n",
       "      <td>4</td>\n",
       "      <td>Friday</td>\n",
       "      <td>weekday</td>\n",
       "      <td>16</td>\n",
       "      <td>2</td>\n",
       "    </tr>\n",
       "    <tr>\n",
       "      <th>2007-04-24</th>\n",
       "      <td>United States</td>\n",
       "      <td>South Dakota</td>\n",
       "      <td>2540</td>\n",
       "      <td>Dakota Dunes</td>\n",
       "      <td>2.48033</td>\n",
       "      <td>Landslide</td>\n",
       "      <td>Landslide</td>\n",
       "      <td>Small</td>\n",
       "      <td>Rain</td>\n",
       "      <td>4</td>\n",
       "      <td>April</td>\n",
       "      <td>2007</td>\n",
       "      <td>24</td>\n",
       "      <td>1</td>\n",
       "      <td>Tuesday</td>\n",
       "      <td>weekday</td>\n",
       "      <td>17</td>\n",
       "      <td>2</td>\n",
       "    </tr>\n",
       "    <tr>\n",
       "      <th>2007-04-07</th>\n",
       "      <td>Mexico</td>\n",
       "      <td>Veracruz-Llave</td>\n",
       "      <td>1947</td>\n",
       "      <td>Laguna Chica (Pueblo Nuevo)</td>\n",
       "      <td>9.51003</td>\n",
       "      <td>Landslide</td>\n",
       "      <td>Landslide</td>\n",
       "      <td>Medium</td>\n",
       "      <td>Rain</td>\n",
       "      <td>4</td>\n",
       "      <td>April</td>\n",
       "      <td>2007</td>\n",
       "      <td>7</td>\n",
       "      <td>5</td>\n",
       "      <td>Saturday</td>\n",
       "      <td>weekend</td>\n",
       "      <td>14</td>\n",
       "      <td>2</td>\n",
       "    </tr>\n",
       "    <tr>\n",
       "      <th>2007-02-09</th>\n",
       "      <td>Mexico</td>\n",
       "      <td>Sinaloa</td>\n",
       "      <td>3191</td>\n",
       "      <td>El LimÃ³n de los Ramos</td>\n",
       "      <td>10.88351</td>\n",
       "      <td>Landslide</td>\n",
       "      <td>Complex</td>\n",
       "      <td>Medium</td>\n",
       "      <td>Tropical cyclone</td>\n",
       "      <td>2</td>\n",
       "      <td>February</td>\n",
       "      <td>2007</td>\n",
       "      <td>9</td>\n",
       "      <td>4</td>\n",
       "      <td>Friday</td>\n",
       "      <td>weekday</td>\n",
       "      <td>6</td>\n",
       "      <td>1</td>\n",
       "    </tr>\n",
       "    <tr>\n",
       "      <th>2007-03-09</th>\n",
       "      <td>United States</td>\n",
       "      <td>New Mexico</td>\n",
       "      <td>1788</td>\n",
       "      <td>Jemez Pueblo</td>\n",
       "      <td>12.89915</td>\n",
       "      <td>Landslide</td>\n",
       "      <td>Mudslide</td>\n",
       "      <td>Medium</td>\n",
       "      <td>Rain</td>\n",
       "      <td>3</td>\n",
       "      <td>March</td>\n",
       "      <td>2007</td>\n",
       "      <td>9</td>\n",
       "      <td>4</td>\n",
       "      <td>Friday</td>\n",
       "      <td>weekday</td>\n",
       "      <td>10</td>\n",
       "      <td>1</td>\n",
       "    </tr>\n",
       "    <tr>\n",
       "      <th>2007-04-09</th>\n",
       "      <td>Nicaragua</td>\n",
       "      <td>AtlÃ¡ntico Norte</td>\n",
       "      <td>6315</td>\n",
       "      <td>Bonanza</td>\n",
       "      <td>54.90196</td>\n",
       "      <td>Landslide</td>\n",
       "      <td>Complex</td>\n",
       "      <td>Medium</td>\n",
       "      <td>Tropical cyclone</td>\n",
       "      <td>4</td>\n",
       "      <td>April</td>\n",
       "      <td>2007</td>\n",
       "      <td>9</td>\n",
       "      <td>0</td>\n",
       "      <td>Monday</td>\n",
       "      <td>weekday</td>\n",
       "      <td>15</td>\n",
       "      <td>2</td>\n",
       "    </tr>\n",
       "    <tr>\n",
       "      <th>2007-04-11</th>\n",
       "      <td>Mexico</td>\n",
       "      <td>Chiapas</td>\n",
       "      <td>3183</td>\n",
       "      <td>OstuacÃ¡n</td>\n",
       "      <td>3.74149</td>\n",
       "      <td>Landslide</td>\n",
       "      <td>Mudslide</td>\n",
       "      <td>Very_large</td>\n",
       "      <td>Rain</td>\n",
       "      <td>4</td>\n",
       "      <td>April</td>\n",
       "      <td>2007</td>\n",
       "      <td>11</td>\n",
       "      <td>2</td>\n",
       "      <td>Wednesday</td>\n",
       "      <td>weekday</td>\n",
       "      <td>15</td>\n",
       "      <td>2</td>\n",
       "    </tr>\n",
       "    <tr>\n",
       "      <th>2007-04-13</th>\n",
       "      <td>United States</td>\n",
       "      <td>Pennsylvania</td>\n",
       "      <td>3165</td>\n",
       "      <td>Homestead</td>\n",
       "      <td>3.74490</td>\n",
       "      <td>Landslide</td>\n",
       "      <td>Landslide</td>\n",
       "      <td>Medium</td>\n",
       "      <td>Unknown</td>\n",
       "      <td>4</td>\n",
       "      <td>April</td>\n",
       "      <td>2007</td>\n",
       "      <td>13</td>\n",
       "      <td>4</td>\n",
       "      <td>Friday</td>\n",
       "      <td>weekday</td>\n",
       "      <td>15</td>\n",
       "      <td>2</td>\n",
       "    </tr>\n",
       "  </tbody>\n",
       "</table>\n",
       "</div>"
      ],
      "text/plain": [
       "             country_name    state/province  population  \\\n",
       "date                                                      \n",
       "2007-02-03  United States          Virginia       16000   \n",
       "2007-03-22  United States              Ohio       17288   \n",
       "2007-04-14         Canada            Quebec       42786   \n",
       "2007-04-15  United States          Kentucky        6903   \n",
       "2007-04-20  United States          Kentucky        6903   \n",
       "2007-04-24  United States      South Dakota        2540   \n",
       "2007-04-07         Mexico    Veracruz-Llave        1947   \n",
       "2007-02-09         Mexico           Sinaloa        3191   \n",
       "2007-03-09  United States        New Mexico        1788   \n",
       "2007-04-09      Nicaragua  AtlÃ¡ntico Norte        6315   \n",
       "2007-04-11         Mexico           Chiapas        3183   \n",
       "2007-04-13  United States      Pennsylvania        3165   \n",
       "\n",
       "                              city/town  distance hazard_type  \\\n",
       "date                                                            \n",
       "2007-02-03                  Cherry Hill   3.40765   Landslide   \n",
       "2007-03-22             New Philadelphia   3.33522   Landslide   \n",
       "2007-04-14                 ChÃ¢teauguay   2.98682   Landslide   \n",
       "2007-04-15                    Pikeville   5.66542   Landslide   \n",
       "2007-04-20                    Pikeville   0.23715   Landslide   \n",
       "2007-04-24                 Dakota Dunes   2.48033   Landslide   \n",
       "2007-04-07  Laguna Chica (Pueblo Nuevo)   9.51003   Landslide   \n",
       "2007-02-09       El LimÃ³n de los Ramos  10.88351   Landslide   \n",
       "2007-03-09                 Jemez Pueblo  12.89915   Landslide   \n",
       "2007-04-09                      Bonanza  54.90196   Landslide   \n",
       "2007-04-11                    OstuacÃ¡n   3.74149   Landslide   \n",
       "2007-04-13                    Homestead   3.74490   Landslide   \n",
       "\n",
       "                landslide_type landslide_size           trigger  month  \\\n",
       "date                                                                     \n",
       "2007-02-03           Landslide          Small              Rain      2   \n",
       "2007-03-22           Landslide          Small              Rain      3   \n",
       "2007-04-14  Riverbank collapse          Small              Rain      4   \n",
       "2007-04-15           Landslide          Small          Downpour      4   \n",
       "2007-04-20           Landslide          Small              Rain      4   \n",
       "2007-04-24           Landslide          Small              Rain      4   \n",
       "2007-04-07           Landslide         Medium              Rain      4   \n",
       "2007-02-09             Complex         Medium  Tropical cyclone      2   \n",
       "2007-03-09            Mudslide         Medium              Rain      3   \n",
       "2007-04-09             Complex         Medium  Tropical cyclone      4   \n",
       "2007-04-11            Mudslide     Very_large              Rain      4   \n",
       "2007-04-13           Landslide         Medium           Unknown      4   \n",
       "\n",
       "           month_name  year  day  dayofweek   day_name weekend/weekday  \\\n",
       "date                                                                     \n",
       "2007-02-03   February  2007    3          5   Saturday         weekend   \n",
       "2007-03-22      March  2007   22          3   Thursday         weekday   \n",
       "2007-04-14      April  2007   14          5   Saturday         weekend   \n",
       "2007-04-15      April  2007   15          6     Sunday         weekend   \n",
       "2007-04-20      April  2007   20          4     Friday         weekday   \n",
       "2007-04-24      April  2007   24          1    Tuesday         weekday   \n",
       "2007-04-07      April  2007    7          5   Saturday         weekend   \n",
       "2007-02-09   February  2007    9          4     Friday         weekday   \n",
       "2007-03-09      March  2007    9          4     Friday         weekday   \n",
       "2007-04-09      April  2007    9          0     Monday         weekday   \n",
       "2007-04-11      April  2007   11          2  Wednesday         weekday   \n",
       "2007-04-13      April  2007   13          4     Friday         weekday   \n",
       "\n",
       "            weekofyear  quarter  \n",
       "date                             \n",
       "2007-02-03           5        1  \n",
       "2007-03-22          12        1  \n",
       "2007-04-14          15        2  \n",
       "2007-04-15          15        2  \n",
       "2007-04-20          16        2  \n",
       "2007-04-24          17        2  \n",
       "2007-04-07          14        2  \n",
       "2007-02-09           6        1  \n",
       "2007-03-09          10        1  \n",
       "2007-04-09          15        2  \n",
       "2007-04-11          15        2  \n",
       "2007-04-13          15        2  "
      ]
     },
     "execution_count": 288,
     "metadata": {},
     "output_type": "execute_result"
    }
   ],
   "source": [
    "df.loc[\"2007-02-03\":\"2007-05-03\"]"
   ]
  },
  {
   "cell_type": "code",
   "execution_count": 134,
   "id": "4426cb60",
   "metadata": {},
   "outputs": [
    {
     "data": {
      "text/html": [
       "<div>\n",
       "<style scoped>\n",
       "    .dataframe tbody tr th:only-of-type {\n",
       "        vertical-align: middle;\n",
       "    }\n",
       "\n",
       "    .dataframe tbody tr th {\n",
       "        vertical-align: top;\n",
       "    }\n",
       "\n",
       "    .dataframe thead th {\n",
       "        text-align: right;\n",
       "    }\n",
       "</style>\n",
       "<table border=\"1\" class=\"dataframe\">\n",
       "  <thead>\n",
       "    <tr style=\"text-align: right;\">\n",
       "      <th></th>\n",
       "      <th>country_name</th>\n",
       "      <th>state/province</th>\n",
       "      <th>population</th>\n",
       "      <th>city/town</th>\n",
       "      <th>hazard_type</th>\n",
       "      <th>landslide_type</th>\n",
       "      <th>month</th>\n",
       "      <th>year</th>\n",
       "      <th>day</th>\n",
       "      <th>dayofweek</th>\n",
       "      <th>day_name</th>\n",
       "      <th>month_name</th>\n",
       "      <th>weekofyear</th>\n",
       "      <th>quarter</th>\n",
       "      <th>semester</th>\n",
       "      <th>weekday/weekend</th>\n",
       "    </tr>\n",
       "    <tr>\n",
       "      <th>date</th>\n",
       "      <th></th>\n",
       "      <th></th>\n",
       "      <th></th>\n",
       "      <th></th>\n",
       "      <th></th>\n",
       "      <th></th>\n",
       "      <th></th>\n",
       "      <th></th>\n",
       "      <th></th>\n",
       "      <th></th>\n",
       "      <th></th>\n",
       "      <th></th>\n",
       "      <th></th>\n",
       "      <th></th>\n",
       "      <th></th>\n",
       "      <th></th>\n",
       "    </tr>\n",
       "  </thead>\n",
       "  <tbody>\n",
       "    <tr>\n",
       "      <th>2007-02-03</th>\n",
       "      <td>United States</td>\n",
       "      <td>Virginia</td>\n",
       "      <td>16000</td>\n",
       "      <td>Cherry Hill</td>\n",
       "      <td>Landslide</td>\n",
       "      <td>Landslide</td>\n",
       "      <td>2</td>\n",
       "      <td>2007</td>\n",
       "      <td>3</td>\n",
       "      <td>5</td>\n",
       "      <td>Saturday</td>\n",
       "      <td>February</td>\n",
       "      <td>5</td>\n",
       "      <td>1</td>\n",
       "      <td>1 st semester</td>\n",
       "      <td>weekend</td>\n",
       "    </tr>\n",
       "    <tr>\n",
       "      <th>2007-04-14</th>\n",
       "      <td>Canada</td>\n",
       "      <td>Quebec</td>\n",
       "      <td>42786</td>\n",
       "      <td>ChÃ¢teauguay</td>\n",
       "      <td>Landslide</td>\n",
       "      <td>Riverbank collapse</td>\n",
       "      <td>4</td>\n",
       "      <td>2007</td>\n",
       "      <td>14</td>\n",
       "      <td>5</td>\n",
       "      <td>Saturday</td>\n",
       "      <td>April</td>\n",
       "      <td>15</td>\n",
       "      <td>2</td>\n",
       "      <td>1 st semester</td>\n",
       "      <td>weekend</td>\n",
       "    </tr>\n",
       "    <tr>\n",
       "      <th>2007-04-20</th>\n",
       "      <td>United States</td>\n",
       "      <td>Kentucky</td>\n",
       "      <td>6903</td>\n",
       "      <td>Pikeville</td>\n",
       "      <td>Landslide</td>\n",
       "      <td>Landslide</td>\n",
       "      <td>4</td>\n",
       "      <td>2007</td>\n",
       "      <td>20</td>\n",
       "      <td>4</td>\n",
       "      <td>Friday</td>\n",
       "      <td>April</td>\n",
       "      <td>16</td>\n",
       "      <td>2</td>\n",
       "      <td>1 st semester</td>\n",
       "      <td>weekdays</td>\n",
       "    </tr>\n",
       "    <tr>\n",
       "      <th>2007-04-07</th>\n",
       "      <td>Mexico</td>\n",
       "      <td>Veracruz-Llave</td>\n",
       "      <td>1947</td>\n",
       "      <td>Laguna Chica (Pueblo Nuevo)</td>\n",
       "      <td>Landslide</td>\n",
       "      <td>Landslide</td>\n",
       "      <td>4</td>\n",
       "      <td>2007</td>\n",
       "      <td>7</td>\n",
       "      <td>5</td>\n",
       "      <td>Saturday</td>\n",
       "      <td>April</td>\n",
       "      <td>14</td>\n",
       "      <td>2</td>\n",
       "      <td>1 st semester</td>\n",
       "      <td>weekend</td>\n",
       "    </tr>\n",
       "    <tr>\n",
       "      <th>2007-03-09</th>\n",
       "      <td>United States</td>\n",
       "      <td>New Mexico</td>\n",
       "      <td>1788</td>\n",
       "      <td>Jemez Pueblo</td>\n",
       "      <td>Landslide</td>\n",
       "      <td>Mudslide</td>\n",
       "      <td>3</td>\n",
       "      <td>2007</td>\n",
       "      <td>9</td>\n",
       "      <td>4</td>\n",
       "      <td>Friday</td>\n",
       "      <td>March</td>\n",
       "      <td>10</td>\n",
       "      <td>1</td>\n",
       "      <td>1 st semester</td>\n",
       "      <td>weekdays</td>\n",
       "    </tr>\n",
       "    <tr>\n",
       "      <th>2007-04-11</th>\n",
       "      <td>Mexico</td>\n",
       "      <td>Chiapas</td>\n",
       "      <td>3183</td>\n",
       "      <td>OstuacÃ¡n</td>\n",
       "      <td>Landslide</td>\n",
       "      <td>Mudslide</td>\n",
       "      <td>4</td>\n",
       "      <td>2007</td>\n",
       "      <td>11</td>\n",
       "      <td>2</td>\n",
       "      <td>Wednesday</td>\n",
       "      <td>April</td>\n",
       "      <td>15</td>\n",
       "      <td>2</td>\n",
       "      <td>1 st semester</td>\n",
       "      <td>weekdays</td>\n",
       "    </tr>\n",
       "  </tbody>\n",
       "</table>\n",
       "</div>"
      ],
      "text/plain": [
       "             country_name  state/province  population  \\\n",
       "date                                                    \n",
       "2007-02-03  United States        Virginia       16000   \n",
       "2007-04-14         Canada          Quebec       42786   \n",
       "2007-04-20  United States        Kentucky        6903   \n",
       "2007-04-07         Mexico  Veracruz-Llave        1947   \n",
       "2007-03-09  United States      New Mexico        1788   \n",
       "2007-04-11         Mexico         Chiapas        3183   \n",
       "\n",
       "                              city/town hazard_type      landslide_type  \\\n",
       "date                                                                      \n",
       "2007-02-03                  Cherry Hill   Landslide           Landslide   \n",
       "2007-04-14                 ChÃ¢teauguay   Landslide  Riverbank collapse   \n",
       "2007-04-20                    Pikeville   Landslide           Landslide   \n",
       "2007-04-07  Laguna Chica (Pueblo Nuevo)   Landslide           Landslide   \n",
       "2007-03-09                 Jemez Pueblo   Landslide            Mudslide   \n",
       "2007-04-11                    OstuacÃ¡n   Landslide            Mudslide   \n",
       "\n",
       "            month  year  day  dayofweek   day_name month_name  weekofyear  \\\n",
       "date                                                                        \n",
       "2007-02-03      2  2007    3          5   Saturday   February           5   \n",
       "2007-04-14      4  2007   14          5   Saturday      April          15   \n",
       "2007-04-20      4  2007   20          4     Friday      April          16   \n",
       "2007-04-07      4  2007    7          5   Saturday      April          14   \n",
       "2007-03-09      3  2007    9          4     Friday      March          10   \n",
       "2007-04-11      4  2007   11          2  Wednesday      April          15   \n",
       "\n",
       "            quarter        semester weekday/weekend  \n",
       "date                                                 \n",
       "2007-02-03        1  1 st semester          weekend  \n",
       "2007-04-14        2  1 st semester          weekend  \n",
       "2007-04-20        2  1 st semester         weekdays  \n",
       "2007-04-07        2  1 st semester          weekend  \n",
       "2007-03-09        1  1 st semester         weekdays  \n",
       "2007-04-11        2  1 st semester         weekdays  "
      ]
     },
     "execution_count": 134,
     "metadata": {},
     "output_type": "execute_result"
    }
   ],
   "source": [
    "df.loc[\"2007-02-03\":\"2007-05-03\":2]"
   ]
  },
  {
   "cell_type": "code",
   "execution_count": 237,
   "id": "04f57c4d",
   "metadata": {},
   "outputs": [],
   "source": [
    "## fetching the data of 2007 only "
   ]
  },
  {
   "cell_type": "code",
   "execution_count": 289,
   "id": "c2bfa9ae",
   "metadata": {},
   "outputs": [
    {
     "data": {
      "text/html": [
       "<div>\n",
       "<style scoped>\n",
       "    .dataframe tbody tr th:only-of-type {\n",
       "        vertical-align: middle;\n",
       "    }\n",
       "\n",
       "    .dataframe tbody tr th {\n",
       "        vertical-align: top;\n",
       "    }\n",
       "\n",
       "    .dataframe thead th {\n",
       "        text-align: right;\n",
       "    }\n",
       "</style>\n",
       "<table border=\"1\" class=\"dataframe\">\n",
       "  <thead>\n",
       "    <tr style=\"text-align: right;\">\n",
       "      <th></th>\n",
       "      <th>country_name</th>\n",
       "      <th>state/province</th>\n",
       "      <th>population</th>\n",
       "      <th>city/town</th>\n",
       "      <th>distance</th>\n",
       "      <th>hazard_type</th>\n",
       "      <th>landslide_type</th>\n",
       "      <th>landslide_size</th>\n",
       "      <th>trigger</th>\n",
       "      <th>month</th>\n",
       "      <th>month_name</th>\n",
       "      <th>year</th>\n",
       "      <th>day</th>\n",
       "      <th>dayofweek</th>\n",
       "      <th>day_name</th>\n",
       "      <th>weekend/weekday</th>\n",
       "      <th>weekofyear</th>\n",
       "      <th>quarter</th>\n",
       "    </tr>\n",
       "    <tr>\n",
       "      <th>date</th>\n",
       "      <th></th>\n",
       "      <th></th>\n",
       "      <th></th>\n",
       "      <th></th>\n",
       "      <th></th>\n",
       "      <th></th>\n",
       "      <th></th>\n",
       "      <th></th>\n",
       "      <th></th>\n",
       "      <th></th>\n",
       "      <th></th>\n",
       "      <th></th>\n",
       "      <th></th>\n",
       "      <th></th>\n",
       "      <th></th>\n",
       "      <th></th>\n",
       "      <th></th>\n",
       "      <th></th>\n",
       "    </tr>\n",
       "  </thead>\n",
       "  <tbody>\n",
       "    <tr>\n",
       "      <th>2007-02-03</th>\n",
       "      <td>United States</td>\n",
       "      <td>Virginia</td>\n",
       "      <td>16000</td>\n",
       "      <td>Cherry Hill</td>\n",
       "      <td>3.40765</td>\n",
       "      <td>Landslide</td>\n",
       "      <td>Landslide</td>\n",
       "      <td>Small</td>\n",
       "      <td>Rain</td>\n",
       "      <td>2</td>\n",
       "      <td>February</td>\n",
       "      <td>2007</td>\n",
       "      <td>3</td>\n",
       "      <td>5</td>\n",
       "      <td>Saturday</td>\n",
       "      <td>weekend</td>\n",
       "      <td>5</td>\n",
       "      <td>1</td>\n",
       "    </tr>\n",
       "    <tr>\n",
       "      <th>2007-03-22</th>\n",
       "      <td>United States</td>\n",
       "      <td>Ohio</td>\n",
       "      <td>17288</td>\n",
       "      <td>New Philadelphia</td>\n",
       "      <td>3.33522</td>\n",
       "      <td>Landslide</td>\n",
       "      <td>Landslide</td>\n",
       "      <td>Small</td>\n",
       "      <td>Rain</td>\n",
       "      <td>3</td>\n",
       "      <td>March</td>\n",
       "      <td>2007</td>\n",
       "      <td>22</td>\n",
       "      <td>3</td>\n",
       "      <td>Thursday</td>\n",
       "      <td>weekday</td>\n",
       "      <td>12</td>\n",
       "      <td>1</td>\n",
       "    </tr>\n",
       "    <tr>\n",
       "      <th>2007-06-04</th>\n",
       "      <td>United States</td>\n",
       "      <td>Pennsylvania</td>\n",
       "      <td>15930</td>\n",
       "      <td>Wilkinsburg</td>\n",
       "      <td>2.91977</td>\n",
       "      <td>Landslide</td>\n",
       "      <td>Landslide</td>\n",
       "      <td>Small</td>\n",
       "      <td>Rain</td>\n",
       "      <td>6</td>\n",
       "      <td>June</td>\n",
       "      <td>2007</td>\n",
       "      <td>4</td>\n",
       "      <td>0</td>\n",
       "      <td>Monday</td>\n",
       "      <td>weekday</td>\n",
       "      <td>23</td>\n",
       "      <td>2</td>\n",
       "    </tr>\n",
       "    <tr>\n",
       "      <th>2007-04-14</th>\n",
       "      <td>Canada</td>\n",
       "      <td>Quebec</td>\n",
       "      <td>42786</td>\n",
       "      <td>ChÃ¢teauguay</td>\n",
       "      <td>2.98682</td>\n",
       "      <td>Landslide</td>\n",
       "      <td>Riverbank collapse</td>\n",
       "      <td>Small</td>\n",
       "      <td>Rain</td>\n",
       "      <td>4</td>\n",
       "      <td>April</td>\n",
       "      <td>2007</td>\n",
       "      <td>14</td>\n",
       "      <td>5</td>\n",
       "      <td>Saturday</td>\n",
       "      <td>weekend</td>\n",
       "      <td>15</td>\n",
       "      <td>2</td>\n",
       "    </tr>\n",
       "    <tr>\n",
       "      <th>2007-04-15</th>\n",
       "      <td>United States</td>\n",
       "      <td>Kentucky</td>\n",
       "      <td>6903</td>\n",
       "      <td>Pikeville</td>\n",
       "      <td>5.66542</td>\n",
       "      <td>Landslide</td>\n",
       "      <td>Landslide</td>\n",
       "      <td>Small</td>\n",
       "      <td>Downpour</td>\n",
       "      <td>4</td>\n",
       "      <td>April</td>\n",
       "      <td>2007</td>\n",
       "      <td>15</td>\n",
       "      <td>6</td>\n",
       "      <td>Sunday</td>\n",
       "      <td>weekend</td>\n",
       "      <td>15</td>\n",
       "      <td>2</td>\n",
       "    </tr>\n",
       "    <tr>\n",
       "      <th>...</th>\n",
       "      <td>...</td>\n",
       "      <td>...</td>\n",
       "      <td>...</td>\n",
       "      <td>...</td>\n",
       "      <td>...</td>\n",
       "      <td>...</td>\n",
       "      <td>...</td>\n",
       "      <td>...</td>\n",
       "      <td>...</td>\n",
       "      <td>...</td>\n",
       "      <td>...</td>\n",
       "      <td>...</td>\n",
       "      <td>...</td>\n",
       "      <td>...</td>\n",
       "      <td>...</td>\n",
       "      <td>...</td>\n",
       "      <td>...</td>\n",
       "      <td>...</td>\n",
       "    </tr>\n",
       "    <tr>\n",
       "      <th>2007-12-12</th>\n",
       "      <td>Puerto Rico</td>\n",
       "      <td>San Juan</td>\n",
       "      <td>418140</td>\n",
       "      <td>San Juan</td>\n",
       "      <td>6.91777</td>\n",
       "      <td>Landslide</td>\n",
       "      <td>Landslide</td>\n",
       "      <td>Medium</td>\n",
       "      <td>Tropical cyclone</td>\n",
       "      <td>12</td>\n",
       "      <td>December</td>\n",
       "      <td>2007</td>\n",
       "      <td>12</td>\n",
       "      <td>2</td>\n",
       "      <td>Wednesday</td>\n",
       "      <td>weekday</td>\n",
       "      <td>50</td>\n",
       "      <td>4</td>\n",
       "    </tr>\n",
       "    <tr>\n",
       "      <th>2007-12-16</th>\n",
       "      <td>United States</td>\n",
       "      <td>Pennsylvania</td>\n",
       "      <td>3174</td>\n",
       "      <td>Trafford</td>\n",
       "      <td>0.27058</td>\n",
       "      <td>Landslide</td>\n",
       "      <td>Landslide</td>\n",
       "      <td>Medium</td>\n",
       "      <td>Rain</td>\n",
       "      <td>12</td>\n",
       "      <td>December</td>\n",
       "      <td>2007</td>\n",
       "      <td>16</td>\n",
       "      <td>6</td>\n",
       "      <td>Sunday</td>\n",
       "      <td>weekend</td>\n",
       "      <td>50</td>\n",
       "      <td>4</td>\n",
       "    </tr>\n",
       "    <tr>\n",
       "      <th>2007-12-19</th>\n",
       "      <td>Colombia</td>\n",
       "      <td>Tolima</td>\n",
       "      <td>4892</td>\n",
       "      <td>Ambalema</td>\n",
       "      <td>6.96130</td>\n",
       "      <td>Landslide</td>\n",
       "      <td>Landslide</td>\n",
       "      <td>Large</td>\n",
       "      <td>Rain</td>\n",
       "      <td>12</td>\n",
       "      <td>December</td>\n",
       "      <td>2007</td>\n",
       "      <td>19</td>\n",
       "      <td>2</td>\n",
       "      <td>Wednesday</td>\n",
       "      <td>weekday</td>\n",
       "      <td>51</td>\n",
       "      <td>4</td>\n",
       "    </tr>\n",
       "    <tr>\n",
       "      <th>2007-01-06</th>\n",
       "      <td>United States</td>\n",
       "      <td>Colorado</td>\n",
       "      <td>1864</td>\n",
       "      <td>Granby</td>\n",
       "      <td>5.53226</td>\n",
       "      <td>Landslide</td>\n",
       "      <td>Landslide</td>\n",
       "      <td>Medium</td>\n",
       "      <td>Unknown</td>\n",
       "      <td>1</td>\n",
       "      <td>January</td>\n",
       "      <td>2007</td>\n",
       "      <td>6</td>\n",
       "      <td>5</td>\n",
       "      <td>Saturday</td>\n",
       "      <td>weekend</td>\n",
       "      <td>1</td>\n",
       "      <td>1</td>\n",
       "    </tr>\n",
       "    <tr>\n",
       "      <th>2007-04-13</th>\n",
       "      <td>United States</td>\n",
       "      <td>Pennsylvania</td>\n",
       "      <td>3165</td>\n",
       "      <td>Homestead</td>\n",
       "      <td>3.74490</td>\n",
       "      <td>Landslide</td>\n",
       "      <td>Landslide</td>\n",
       "      <td>Medium</td>\n",
       "      <td>Unknown</td>\n",
       "      <td>4</td>\n",
       "      <td>April</td>\n",
       "      <td>2007</td>\n",
       "      <td>13</td>\n",
       "      <td>4</td>\n",
       "      <td>Friday</td>\n",
       "      <td>weekday</td>\n",
       "      <td>15</td>\n",
       "      <td>2</td>\n",
       "    </tr>\n",
       "  </tbody>\n",
       "</table>\n",
       "<p>72 rows × 18 columns</p>\n",
       "</div>"
      ],
      "text/plain": [
       "             country_name state/province  population         city/town  \\\n",
       "date                                                                     \n",
       "2007-02-03  United States       Virginia       16000       Cherry Hill   \n",
       "2007-03-22  United States           Ohio       17288  New Philadelphia   \n",
       "2007-06-04  United States   Pennsylvania       15930       Wilkinsburg   \n",
       "2007-04-14         Canada         Quebec       42786      ChÃ¢teauguay   \n",
       "2007-04-15  United States       Kentucky        6903         Pikeville   \n",
       "...                   ...            ...         ...               ...   \n",
       "2007-12-12    Puerto Rico       San Juan      418140          San Juan   \n",
       "2007-12-16  United States   Pennsylvania        3174          Trafford   \n",
       "2007-12-19       Colombia         Tolima        4892          Ambalema   \n",
       "2007-01-06  United States       Colorado        1864            Granby   \n",
       "2007-04-13  United States   Pennsylvania        3165         Homestead   \n",
       "\n",
       "            distance hazard_type      landslide_type landslide_size  \\\n",
       "date                                                                  \n",
       "2007-02-03   3.40765   Landslide           Landslide          Small   \n",
       "2007-03-22   3.33522   Landslide           Landslide          Small   \n",
       "2007-06-04   2.91977   Landslide           Landslide          Small   \n",
       "2007-04-14   2.98682   Landslide  Riverbank collapse          Small   \n",
       "2007-04-15   5.66542   Landslide           Landslide          Small   \n",
       "...              ...         ...                 ...            ...   \n",
       "2007-12-12   6.91777   Landslide           Landslide         Medium   \n",
       "2007-12-16   0.27058   Landslide           Landslide         Medium   \n",
       "2007-12-19   6.96130   Landslide           Landslide          Large   \n",
       "2007-01-06   5.53226   Landslide           Landslide         Medium   \n",
       "2007-04-13   3.74490   Landslide           Landslide         Medium   \n",
       "\n",
       "                     trigger  month month_name  year  day  dayofweek  \\\n",
       "date                                                                   \n",
       "2007-02-03              Rain      2   February  2007    3          5   \n",
       "2007-03-22              Rain      3      March  2007   22          3   \n",
       "2007-06-04              Rain      6       June  2007    4          0   \n",
       "2007-04-14              Rain      4      April  2007   14          5   \n",
       "2007-04-15          Downpour      4      April  2007   15          6   \n",
       "...                      ...    ...        ...   ...  ...        ...   \n",
       "2007-12-12  Tropical cyclone     12   December  2007   12          2   \n",
       "2007-12-16              Rain     12   December  2007   16          6   \n",
       "2007-12-19              Rain     12   December  2007   19          2   \n",
       "2007-01-06           Unknown      1    January  2007    6          5   \n",
       "2007-04-13           Unknown      4      April  2007   13          4   \n",
       "\n",
       "             day_name weekend/weekday  weekofyear  quarter  \n",
       "date                                                        \n",
       "2007-02-03   Saturday         weekend           5        1  \n",
       "2007-03-22   Thursday         weekday          12        1  \n",
       "2007-06-04     Monday         weekday          23        2  \n",
       "2007-04-14   Saturday         weekend          15        2  \n",
       "2007-04-15     Sunday         weekend          15        2  \n",
       "...               ...             ...         ...      ...  \n",
       "2007-12-12  Wednesday         weekday          50        4  \n",
       "2007-12-16     Sunday         weekend          50        4  \n",
       "2007-12-19  Wednesday         weekday          51        4  \n",
       "2007-01-06   Saturday         weekend           1        1  \n",
       "2007-04-13     Friday         weekday          15        2  \n",
       "\n",
       "[72 rows x 18 columns]"
      ]
     },
     "execution_count": 289,
     "metadata": {},
     "output_type": "execute_result"
    }
   ],
   "source": [
    "df.loc[\"2007\"]"
   ]
  },
  {
   "cell_type": "code",
   "execution_count": 240,
   "id": "02e8e19d",
   "metadata": {},
   "outputs": [],
   "source": [
    " ## fetching the data of 2012 of specific month and year"
   ]
  },
  {
   "cell_type": "code",
   "execution_count": 290,
   "id": "9e6c92e1",
   "metadata": {},
   "outputs": [
    {
     "data": {
      "text/html": [
       "<div>\n",
       "<style scoped>\n",
       "    .dataframe tbody tr th:only-of-type {\n",
       "        vertical-align: middle;\n",
       "    }\n",
       "\n",
       "    .dataframe tbody tr th {\n",
       "        vertical-align: top;\n",
       "    }\n",
       "\n",
       "    .dataframe thead th {\n",
       "        text-align: right;\n",
       "    }\n",
       "</style>\n",
       "<table border=\"1\" class=\"dataframe\">\n",
       "  <thead>\n",
       "    <tr style=\"text-align: right;\">\n",
       "      <th></th>\n",
       "      <th>country_name</th>\n",
       "      <th>state/province</th>\n",
       "      <th>population</th>\n",
       "      <th>city/town</th>\n",
       "      <th>distance</th>\n",
       "      <th>hazard_type</th>\n",
       "      <th>landslide_type</th>\n",
       "      <th>landslide_size</th>\n",
       "      <th>trigger</th>\n",
       "      <th>month</th>\n",
       "      <th>month_name</th>\n",
       "      <th>year</th>\n",
       "      <th>day</th>\n",
       "      <th>dayofweek</th>\n",
       "      <th>day_name</th>\n",
       "      <th>weekend/weekday</th>\n",
       "      <th>weekofyear</th>\n",
       "      <th>quarter</th>\n",
       "    </tr>\n",
       "    <tr>\n",
       "      <th>date</th>\n",
       "      <th></th>\n",
       "      <th></th>\n",
       "      <th></th>\n",
       "      <th></th>\n",
       "      <th></th>\n",
       "      <th></th>\n",
       "      <th></th>\n",
       "      <th></th>\n",
       "      <th></th>\n",
       "      <th></th>\n",
       "      <th></th>\n",
       "      <th></th>\n",
       "      <th></th>\n",
       "      <th></th>\n",
       "      <th></th>\n",
       "      <th></th>\n",
       "      <th></th>\n",
       "      <th></th>\n",
       "    </tr>\n",
       "  </thead>\n",
       "  <tbody>\n",
       "    <tr>\n",
       "      <th>2007-12-10</th>\n",
       "      <td>Haiti</td>\n",
       "      <td>Ouest</td>\n",
       "      <td>3951</td>\n",
       "      <td>Cabaret</td>\n",
       "      <td>0.51272</td>\n",
       "      <td>Landslide</td>\n",
       "      <td>Complex</td>\n",
       "      <td>Large</td>\n",
       "      <td>Rain</td>\n",
       "      <td>12</td>\n",
       "      <td>December</td>\n",
       "      <td>2007</td>\n",
       "      <td>10</td>\n",
       "      <td>0</td>\n",
       "      <td>Monday</td>\n",
       "      <td>weekday</td>\n",
       "      <td>50</td>\n",
       "      <td>4</td>\n",
       "    </tr>\n",
       "    <tr>\n",
       "      <th>2007-12-10</th>\n",
       "      <td>Jamaica</td>\n",
       "      <td>St. Elizabeth</td>\n",
       "      <td>1371</td>\n",
       "      <td>Maggotty</td>\n",
       "      <td>4.57363</td>\n",
       "      <td>Landslide</td>\n",
       "      <td>Complex</td>\n",
       "      <td>Medium</td>\n",
       "      <td>Rain</td>\n",
       "      <td>12</td>\n",
       "      <td>December</td>\n",
       "      <td>2007</td>\n",
       "      <td>10</td>\n",
       "      <td>0</td>\n",
       "      <td>Monday</td>\n",
       "      <td>weekday</td>\n",
       "      <td>50</td>\n",
       "      <td>4</td>\n",
       "    </tr>\n",
       "    <tr>\n",
       "      <th>2007-12-11</th>\n",
       "      <td>Jamaica</td>\n",
       "      <td>Saint Ann</td>\n",
       "      <td>13671</td>\n",
       "      <td>Saint AnnÐ½ÑžÐ´â€°ÐµÐ´â€¹Ñžs Bay</td>\n",
       "      <td>3.96533</td>\n",
       "      <td>Landslide</td>\n",
       "      <td>Landslide</td>\n",
       "      <td>Medium</td>\n",
       "      <td>Rain</td>\n",
       "      <td>12</td>\n",
       "      <td>December</td>\n",
       "      <td>2007</td>\n",
       "      <td>11</td>\n",
       "      <td>1</td>\n",
       "      <td>Tuesday</td>\n",
       "      <td>weekday</td>\n",
       "      <td>50</td>\n",
       "      <td>4</td>\n",
       "    </tr>\n",
       "    <tr>\n",
       "      <th>2007-12-12</th>\n",
       "      <td>Puerto Rico</td>\n",
       "      <td>San Juan</td>\n",
       "      <td>418140</td>\n",
       "      <td>San Juan</td>\n",
       "      <td>6.91777</td>\n",
       "      <td>Landslide</td>\n",
       "      <td>Landslide</td>\n",
       "      <td>Medium</td>\n",
       "      <td>Tropical cyclone</td>\n",
       "      <td>12</td>\n",
       "      <td>December</td>\n",
       "      <td>2007</td>\n",
       "      <td>12</td>\n",
       "      <td>2</td>\n",
       "      <td>Wednesday</td>\n",
       "      <td>weekday</td>\n",
       "      <td>50</td>\n",
       "      <td>4</td>\n",
       "    </tr>\n",
       "    <tr>\n",
       "      <th>2007-12-16</th>\n",
       "      <td>United States</td>\n",
       "      <td>Pennsylvania</td>\n",
       "      <td>3174</td>\n",
       "      <td>Trafford</td>\n",
       "      <td>0.27058</td>\n",
       "      <td>Landslide</td>\n",
       "      <td>Landslide</td>\n",
       "      <td>Medium</td>\n",
       "      <td>Rain</td>\n",
       "      <td>12</td>\n",
       "      <td>December</td>\n",
       "      <td>2007</td>\n",
       "      <td>16</td>\n",
       "      <td>6</td>\n",
       "      <td>Sunday</td>\n",
       "      <td>weekend</td>\n",
       "      <td>50</td>\n",
       "      <td>4</td>\n",
       "    </tr>\n",
       "    <tr>\n",
       "      <th>2007-12-19</th>\n",
       "      <td>Colombia</td>\n",
       "      <td>Tolima</td>\n",
       "      <td>4892</td>\n",
       "      <td>Ambalema</td>\n",
       "      <td>6.96130</td>\n",
       "      <td>Landslide</td>\n",
       "      <td>Landslide</td>\n",
       "      <td>Large</td>\n",
       "      <td>Rain</td>\n",
       "      <td>12</td>\n",
       "      <td>December</td>\n",
       "      <td>2007</td>\n",
       "      <td>19</td>\n",
       "      <td>2</td>\n",
       "      <td>Wednesday</td>\n",
       "      <td>weekday</td>\n",
       "      <td>51</td>\n",
       "      <td>4</td>\n",
       "    </tr>\n",
       "  </tbody>\n",
       "</table>\n",
       "</div>"
      ],
      "text/plain": [
       "             country_name state/province  population  \\\n",
       "date                                                   \n",
       "2007-12-10          Haiti          Ouest        3951   \n",
       "2007-12-10        Jamaica  St. Elizabeth        1371   \n",
       "2007-12-11        Jamaica      Saint Ann       13671   \n",
       "2007-12-12    Puerto Rico       San Juan      418140   \n",
       "2007-12-16  United States   Pennsylvania        3174   \n",
       "2007-12-19       Colombia         Tolima        4892   \n",
       "\n",
       "                                   city/town  distance hazard_type  \\\n",
       "date                                                                 \n",
       "2007-12-10                           Cabaret   0.51272   Landslide   \n",
       "2007-12-10                          Maggotty   4.57363   Landslide   \n",
       "2007-12-11  Saint AnnÐ½ÑžÐ´â€°ÐµÐ´â€¹Ñžs Bay   3.96533   Landslide   \n",
       "2007-12-12                          San Juan   6.91777   Landslide   \n",
       "2007-12-16                          Trafford   0.27058   Landslide   \n",
       "2007-12-19                          Ambalema   6.96130   Landslide   \n",
       "\n",
       "           landslide_type landslide_size           trigger  month month_name  \\\n",
       "date                                                                           \n",
       "2007-12-10        Complex          Large              Rain     12   December   \n",
       "2007-12-10        Complex         Medium              Rain     12   December   \n",
       "2007-12-11      Landslide         Medium              Rain     12   December   \n",
       "2007-12-12      Landslide         Medium  Tropical cyclone     12   December   \n",
       "2007-12-16      Landslide         Medium              Rain     12   December   \n",
       "2007-12-19      Landslide          Large              Rain     12   December   \n",
       "\n",
       "            year  day  dayofweek   day_name weekend/weekday  weekofyear  \\\n",
       "date                                                                      \n",
       "2007-12-10  2007   10          0     Monday         weekday          50   \n",
       "2007-12-10  2007   10          0     Monday         weekday          50   \n",
       "2007-12-11  2007   11          1    Tuesday         weekday          50   \n",
       "2007-12-12  2007   12          2  Wednesday         weekday          50   \n",
       "2007-12-16  2007   16          6     Sunday         weekend          50   \n",
       "2007-12-19  2007   19          2  Wednesday         weekday          51   \n",
       "\n",
       "            quarter  \n",
       "date                 \n",
       "2007-12-10        4  \n",
       "2007-12-10        4  \n",
       "2007-12-11        4  \n",
       "2007-12-12        4  \n",
       "2007-12-16        4  \n",
       "2007-12-19        4  "
      ]
     },
     "execution_count": 290,
     "metadata": {},
     "output_type": "execute_result"
    }
   ],
   "source": [
    "df.loc[\"2007 12\"]"
   ]
  },
  {
   "cell_type": "code",
   "execution_count": 291,
   "id": "25a42cf9",
   "metadata": {},
   "outputs": [
    {
     "data": {
      "text/plain": [
       "datetime.date(2024, 5, 20)"
      ]
     },
     "execution_count": 291,
     "metadata": {},
     "output_type": "execute_result"
    }
   ],
   "source": [
    "### current date\n",
    "import datetime as dt\n",
    "today=dt.date.today()\n",
    "today"
   ]
  },
  {
   "cell_type": "code",
   "execution_count": 293,
   "id": "92684e31",
   "metadata": {},
   "outputs": [],
   "source": [
    "from datetime import datetime as dt"
   ]
  },
  {
   "cell_type": "code",
   "execution_count": 294,
   "id": "4eeae3e0",
   "metadata": {},
   "outputs": [
    {
     "data": {
      "text/plain": [
       "datetime.datetime(2024, 5, 20, 15, 58, 35, 878026)"
      ]
     },
     "execution_count": 294,
     "metadata": {},
     "output_type": "execute_result"
    }
   ],
   "source": [
    "dt.today()"
   ]
  },
  {
   "cell_type": "code",
   "execution_count": 249,
   "id": "939150c9",
   "metadata": {},
   "outputs": [
    {
     "data": {
      "text/plain": [
       "Index(['id', 'country_name', 'country_code', 'state/province', 'population',\n",
       "       'city/town', 'distance', 'location_description', 'hazard_type',\n",
       "       'landslide_type', 'landslide_size', 'year', 'month', 'month_n',\n",
       "       'month_name', 'day', 'day_name', 'd_week', 'week_no', 'weekday/weekend',\n",
       "       'quarter', 'd_t'],\n",
       "      dtype='object')"
      ]
     },
     "execution_count": 249,
     "metadata": {},
     "output_type": "execute_result"
    }
   ],
   "source": [
    "df.columns"
   ]
  },
  {
   "cell_type": "code",
   "execution_count": 295,
   "id": "8537b1dd",
   "metadata": {},
   "outputs": [
    {
     "data": {
      "text/plain": [
       "TimedeltaIndex(['6316 days 15:59:48.894842', '6269 days 15:59:48.894842',\n",
       "                '6195 days 15:59:48.894842', '6246 days 15:59:48.894842',\n",
       "                '6245 days 15:59:48.894842', '6240 days 15:59:48.894842',\n",
       "                '6236 days 15:59:48.894842', '6209 days 15:59:48.894842',\n",
       "                '6172 days 15:59:48.894842', '6172 days 15:59:48.894842',\n",
       "                ...\n",
       "                '3005 days 15:59:48.894842', '3018 days 15:59:48.894842',\n",
       "                '3006 days 15:59:48.894842', '3005 days 15:59:48.894842',\n",
       "                '3095 days 15:59:48.894842', '3235 days 15:59:48.894842',\n",
       "                '3010 days 15:59:48.894842', '3009 days 15:59:48.894842',\n",
       "                '3006 days 15:59:48.894842', '3029 days 15:59:48.894842'],\n",
       "               dtype='timedelta64[ns]', name='date', length=1693, freq=None)"
      ]
     },
     "execution_count": 295,
     "metadata": {},
     "output_type": "execute_result"
    }
   ],
   "source": [
    "dt.today()-df.index"
   ]
  },
  {
   "cell_type": "markdown",
   "id": "06a8f132",
   "metadata": {},
   "source": [
    "## FIND THE LAST 7 date from today"
   ]
  },
  {
   "cell_type": "code",
   "execution_count": 297,
   "id": "e222f3a9",
   "metadata": {},
   "outputs": [
    {
     "data": {
      "text/plain": [
       "datetime.date(2024, 5, 20)"
      ]
     },
     "execution_count": 297,
     "metadata": {},
     "output_type": "execute_result"
    }
   ],
   "source": [
    "### current date\n",
    "import datetime as dt\n",
    "today=dt.date.today()\n",
    "today"
   ]
  },
  {
   "cell_type": "code",
   "execution_count": 298,
   "id": "7705df62",
   "metadata": {},
   "outputs": [
    {
     "data": {
      "text/plain": [
       "datetime.date(2024, 5, 13)"
      ]
     },
     "execution_count": 298,
     "metadata": {},
     "output_type": "execute_result"
    }
   ],
   "source": [
    "l_7d=today-dt.timedelta(days=7)\n",
    "l_7d"
   ]
  },
  {
   "cell_type": "code",
   "execution_count": 148,
   "id": "5b0b94ce",
   "metadata": {},
   "outputs": [
    {
     "data": {
      "text/plain": [
       "datetime.datetime(2024, 5, 13, 10, 56, 54, 783890)"
      ]
     },
     "execution_count": 148,
     "metadata": {},
     "output_type": "execute_result"
    }
   ],
   "source": [
    "## getting current date and time\n",
    "from datetime import datetime as dt\n",
    "dt.now()"
   ]
  },
  {
   "cell_type": "markdown",
   "id": "d9275611",
   "metadata": {},
   "source": [
    "## or "
   ]
  },
  {
   "cell_type": "code",
   "execution_count": 149,
   "id": "f823fc5c",
   "metadata": {},
   "outputs": [
    {
     "data": {
      "text/plain": [
       "datetime.datetime(2024, 5, 13, 10, 56, 59, 56973)"
      ]
     },
     "execution_count": 149,
     "metadata": {},
     "output_type": "execute_result"
    }
   ],
   "source": [
    "dt.today()"
   ]
  },
  {
   "cell_type": "code",
   "execution_count": 33,
   "id": "9883bc4b",
   "metadata": {},
   "outputs": [
    {
     "data": {
      "text/plain": [
       "datetime.datetime(1970, 1, 1, 5, 57, 10)"
      ]
     },
     "execution_count": 33,
     "metadata": {},
     "output_type": "execute_result"
    }
   ],
   "source": [
    "dt.fromtimestamp(1630)"
   ]
  },
  {
   "cell_type": "code",
   "execution_count": 254,
   "id": "59f5984a",
   "metadata": {},
   "outputs": [
    {
     "data": {
      "text/plain": [
       "datetime.IsoCalendarDate(year=2022, week=43, weekday=5)"
      ]
     },
     "execution_count": 254,
     "metadata": {},
     "output_type": "execute_result"
    }
   ],
   "source": [
    "from datetime import date\n",
    "x=date(2022,10,28).isocalendar()\n",
    "x\n",
    "# it returns the week no and week day from begening of the year  ## weekno from ist january"
   ]
  },
  {
   "cell_type": "markdown",
   "id": "6528aa7c",
   "metadata": {},
   "source": [
    "### strftime()\n",
    "Python Strftime Format\n",
    "The strftime converts date (datetime) to a  date(string).\n",
    "\n",
    "The syntax of strftime() method is...\n",
    "\n",
    "\n",
    "\n",
    "Where format is the desired format of date string that user wants. Format is built using codes shown in the table below...\n",
    "\n",
    "Code\tMeaning\n",
    "\n",
    "%a\tWeekday as Sun, Mon\n",
    "\n",
    "%A\tWeekday as full name as Sunday, Monday\n",
    "\n",
    "%w\tWeekday as decimal no as 0,1,2...\n",
    "\n",
    "%d\tDay of month as 01,02\n",
    "\n",
    "%b\tMonths as Jan, Feb\n",
    "\n",
    "%B\tMonths as January, February\n",
    "\n",
    "%m\tMonths as 01,02\n",
    "\n",
    "%y\tYear without century as 11,12,13\n",
    "\n",
    "%Y\tYear with century 2011,2012\n",
    "\n",
    "%H\t24 Hours clock from 00 to 23\n",
    "\n",
    "%I\t12 Hours clock from 01 to 12\n",
    "\n",
    "%p\tAM, PM\n",
    "\n",
    "%M\tMinutes from 00 to 59\n",
    "\n",
    "%S\tSeconds from 00 to 59\n",
    "\n",
    "%f\tMicroseconds 6 decimal numbers"
   ]
  },
  {
   "cell_type": "code",
   "execution_count": 299,
   "id": "1d263521",
   "metadata": {},
   "outputs": [
    {
     "name": "stdout",
     "output_type": "stream",
     "text": [
      "2024-05-21 14:51:53.305697\n",
      "<class 'datetime.datetime'>\n"
     ]
    }
   ],
   "source": [
    "import datetime \n",
    "from datetime import datetime\n",
    "now = datetime.now()\n",
    "print(now)\n",
    "print(type(now))"
   ]
  },
  {
   "cell_type": "code",
   "execution_count": 304,
   "id": "7bea24b6",
   "metadata": {},
   "outputs": [
    {
     "data": {
      "text/plain": [
       "'24/May/21  02:51 PM'"
      ]
     },
     "execution_count": 304,
     "metadata": {},
     "output_type": "execute_result"
    }
   ],
   "source": [
    "now.strftime(\"%y/%B/%d  %I:%M %p\")"
   ]
  },
  {
   "cell_type": "code",
   "execution_count": 305,
   "id": "24e2b3f1",
   "metadata": {},
   "outputs": [
    {
     "data": {
      "text/plain": [
       "'May/24'"
      ]
     },
     "execution_count": 305,
     "metadata": {},
     "output_type": "execute_result"
    }
   ],
   "source": [
    "now.strftime(\"%b/%y\")"
   ]
  },
  {
   "cell_type": "code",
   "execution_count": 151,
   "id": "1867606c",
   "metadata": {},
   "outputs": [
    {
     "data": {
      "text/plain": [
       "'2024/May'"
      ]
     },
     "execution_count": 151,
     "metadata": {},
     "output_type": "execute_result"
    }
   ],
   "source": [
    "now.strftime(\"%Y/%B\")"
   ]
  },
  {
   "cell_type": "code",
   "execution_count": 152,
   "id": "489e399a",
   "metadata": {},
   "outputs": [
    {
     "data": {
      "text/plain": [
       "'24-May 10:57:AM'"
      ]
     },
     "execution_count": 152,
     "metadata": {},
     "output_type": "execute_result"
    }
   ],
   "source": [
    "now.strftime(\"%y-%b %I:%M:%p\")"
   ]
  },
  {
   "cell_type": "code",
   "execution_count": 95,
   "id": "4d0d2131",
   "metadata": {},
   "outputs": [
    {
     "data": {
      "text/plain": [
       "'23/Apr/15 11:12:32'"
      ]
     },
     "execution_count": 95,
     "metadata": {},
     "output_type": "execute_result"
    }
   ],
   "source": [
    "a1=now.strftime(\"%y/%b/%d %H:%M:%S\")\n",
    "a1"
   ]
  },
  {
   "cell_type": "code",
   "execution_count": 96,
   "id": "6ce3665d",
   "metadata": {},
   "outputs": [
    {
     "data": {
      "text/plain": [
       "str"
      ]
     },
     "execution_count": 96,
     "metadata": {},
     "output_type": "execute_result"
    }
   ],
   "source": [
    "type(a1)"
   ]
  },
  {
   "cell_type": "code",
   "execution_count": null,
   "id": "52613058",
   "metadata": {},
   "outputs": [],
   "source": [
    "#extract month/day "
   ]
  },
  {
   "cell_type": "code",
   "execution_count": 306,
   "id": "f465717b",
   "metadata": {},
   "outputs": [
    {
     "data": {
      "text/html": [
       "<div>\n",
       "<style scoped>\n",
       "    .dataframe tbody tr th:only-of-type {\n",
       "        vertical-align: middle;\n",
       "    }\n",
       "\n",
       "    .dataframe tbody tr th {\n",
       "        vertical-align: top;\n",
       "    }\n",
       "\n",
       "    .dataframe thead th {\n",
       "        text-align: right;\n",
       "    }\n",
       "</style>\n",
       "<table border=\"1\" class=\"dataframe\">\n",
       "  <thead>\n",
       "    <tr style=\"text-align: right;\">\n",
       "      <th></th>\n",
       "      <th>id</th>\n",
       "      <th>date</th>\n",
       "      <th>time</th>\n",
       "      <th>continent_code</th>\n",
       "      <th>country_name</th>\n",
       "      <th>country_code</th>\n",
       "      <th>state/province</th>\n",
       "      <th>population</th>\n",
       "      <th>city/town</th>\n",
       "      <th>distance</th>\n",
       "      <th>...</th>\n",
       "      <th>geolocation</th>\n",
       "      <th>hazard_type</th>\n",
       "      <th>landslide_type</th>\n",
       "      <th>landslide_size</th>\n",
       "      <th>trigger</th>\n",
       "      <th>storm_name</th>\n",
       "      <th>injuries</th>\n",
       "      <th>fatalities</th>\n",
       "      <th>source_name</th>\n",
       "      <th>source_link</th>\n",
       "    </tr>\n",
       "  </thead>\n",
       "  <tbody>\n",
       "    <tr>\n",
       "      <th>0</th>\n",
       "      <td>34</td>\n",
       "      <td>2007-02-03 00:00:00</td>\n",
       "      <td>Night</td>\n",
       "      <td>NaN</td>\n",
       "      <td>United States</td>\n",
       "      <td>US</td>\n",
       "      <td>Virginia</td>\n",
       "      <td>16000</td>\n",
       "      <td>Cherry Hill</td>\n",
       "      <td>3.40765</td>\n",
       "      <td>...</td>\n",
       "      <td>(38.600900000000003, -77.268199999999993)</td>\n",
       "      <td>Landslide</td>\n",
       "      <td>Landslide</td>\n",
       "      <td>Small</td>\n",
       "      <td>Rain</td>\n",
       "      <td>NaN</td>\n",
       "      <td>NaN</td>\n",
       "      <td>NaN</td>\n",
       "      <td>NBC 4 news</td>\n",
       "      <td>http://www.nbc4.com/news/11186871/detail.html</td>\n",
       "    </tr>\n",
       "    <tr>\n",
       "      <th>1</th>\n",
       "      <td>42</td>\n",
       "      <td>3/22/07</td>\n",
       "      <td>NaN</td>\n",
       "      <td>NaN</td>\n",
       "      <td>United States</td>\n",
       "      <td>US</td>\n",
       "      <td>Ohio</td>\n",
       "      <td>17288</td>\n",
       "      <td>New Philadelphia</td>\n",
       "      <td>3.33522</td>\n",
       "      <td>...</td>\n",
       "      <td>(40.517499999999998, -81.430499999999995)</td>\n",
       "      <td>Landslide</td>\n",
       "      <td>Landslide</td>\n",
       "      <td>Small</td>\n",
       "      <td>Rain</td>\n",
       "      <td>NaN</td>\n",
       "      <td>NaN</td>\n",
       "      <td>NaN</td>\n",
       "      <td>Canton Rep.com</td>\n",
       "      <td>http://www.cantonrep.com/index.php?ID=345054&amp;C...</td>\n",
       "    </tr>\n",
       "  </tbody>\n",
       "</table>\n",
       "<p>2 rows × 23 columns</p>\n",
       "</div>"
      ],
      "text/plain": [
       "   id                 date   time continent_code   country_name country_code  \\\n",
       "0  34  2007-02-03 00:00:00  Night            NaN  United States           US   \n",
       "1  42              3/22/07    NaN            NaN  United States           US   \n",
       "\n",
       "  state/province  population         city/town  distance  ...  \\\n",
       "0       Virginia       16000       Cherry Hill   3.40765  ...   \n",
       "1           Ohio       17288  New Philadelphia   3.33522  ...   \n",
       "\n",
       "                                 geolocation  hazard_type  landslide_type  \\\n",
       "0  (38.600900000000003, -77.268199999999993)    Landslide       Landslide   \n",
       "1  (40.517499999999998, -81.430499999999995)    Landslide       Landslide   \n",
       "\n",
       "  landslide_size trigger storm_name injuries fatalities     source_name  \\\n",
       "0          Small    Rain        NaN      NaN        NaN      NBC 4 news   \n",
       "1          Small    Rain        NaN      NaN        NaN  Canton Rep.com   \n",
       "\n",
       "                                         source_link  \n",
       "0      http://www.nbc4.com/news/11186871/detail.html  \n",
       "1  http://www.cantonrep.com/index.php?ID=345054&C...  \n",
       "\n",
       "[2 rows x 23 columns]"
      ]
     },
     "execution_count": 306,
     "metadata": {},
     "output_type": "execute_result"
    }
   ],
   "source": [
    "df=pd.read_excel(\"D:/python_datascience/data sets/examples/catalog.xlsx\")\n",
    "df.head(2)"
   ]
  },
  {
   "cell_type": "code",
   "execution_count": 157,
   "id": "d03826c3",
   "metadata": {},
   "outputs": [
    {
     "data": {
      "text/plain": [
       "id                        int64\n",
       "date                     object\n",
       "time                     object\n",
       "continent_code           object\n",
       "country_name             object\n",
       "country_code             object\n",
       "state/province           object\n",
       "population                int64\n",
       "city/town                object\n",
       "distance                float64\n",
       "location_description     object\n",
       "latitude                float64\n",
       "longitude               float64\n",
       "geolocation              object\n",
       "hazard_type              object\n",
       "landslide_type           object\n",
       "landslide_size           object\n",
       "trigger                  object\n",
       "storm_name               object\n",
       "injuries                float64\n",
       "fatalities              float64\n",
       "source_name              object\n",
       "source_link              object\n",
       "dtype: object"
      ]
     },
     "execution_count": 157,
     "metadata": {},
     "output_type": "execute_result"
    }
   ],
   "source": [
    "df.dtypes"
   ]
  },
  {
   "cell_type": "code",
   "execution_count": 307,
   "id": "fe1d4f53",
   "metadata": {},
   "outputs": [],
   "source": [
    "df[\"date\"]=df[\"date\"].fillna(df[\"date\"].mode()[0])"
   ]
  },
  {
   "cell_type": "code",
   "execution_count": 308,
   "id": "6c11d147",
   "metadata": {},
   "outputs": [],
   "source": [
    "df[\"date\"]=pd.to_datetime(df[\"date\"])"
   ]
  },
  {
   "cell_type": "code",
   "execution_count": 309,
   "id": "bd4f0571",
   "metadata": {},
   "outputs": [
    {
     "data": {
      "text/html": [
       "<div>\n",
       "<style scoped>\n",
       "    .dataframe tbody tr th:only-of-type {\n",
       "        vertical-align: middle;\n",
       "    }\n",
       "\n",
       "    .dataframe tbody tr th {\n",
       "        vertical-align: top;\n",
       "    }\n",
       "\n",
       "    .dataframe thead th {\n",
       "        text-align: right;\n",
       "    }\n",
       "</style>\n",
       "<table border=\"1\" class=\"dataframe\">\n",
       "  <thead>\n",
       "    <tr style=\"text-align: right;\">\n",
       "      <th></th>\n",
       "      <th>id</th>\n",
       "      <th>date</th>\n",
       "      <th>time</th>\n",
       "      <th>continent_code</th>\n",
       "      <th>country_name</th>\n",
       "      <th>country_code</th>\n",
       "      <th>state/province</th>\n",
       "      <th>population</th>\n",
       "      <th>city/town</th>\n",
       "      <th>distance</th>\n",
       "      <th>...</th>\n",
       "      <th>hazard_type</th>\n",
       "      <th>landslide_type</th>\n",
       "      <th>landslide_size</th>\n",
       "      <th>trigger</th>\n",
       "      <th>storm_name</th>\n",
       "      <th>injuries</th>\n",
       "      <th>fatalities</th>\n",
       "      <th>source_name</th>\n",
       "      <th>source_link</th>\n",
       "      <th>month/year</th>\n",
       "    </tr>\n",
       "  </thead>\n",
       "  <tbody>\n",
       "    <tr>\n",
       "      <th>0</th>\n",
       "      <td>34</td>\n",
       "      <td>2007-02-03</td>\n",
       "      <td>Night</td>\n",
       "      <td>NaN</td>\n",
       "      <td>United States</td>\n",
       "      <td>US</td>\n",
       "      <td>Virginia</td>\n",
       "      <td>16000</td>\n",
       "      <td>Cherry Hill</td>\n",
       "      <td>3.40765</td>\n",
       "      <td>...</td>\n",
       "      <td>Landslide</td>\n",
       "      <td>Landslide</td>\n",
       "      <td>Small</td>\n",
       "      <td>Rain</td>\n",
       "      <td>NaN</td>\n",
       "      <td>NaN</td>\n",
       "      <td>NaN</td>\n",
       "      <td>NBC 4 news</td>\n",
       "      <td>http://www.nbc4.com/news/11186871/detail.html</td>\n",
       "      <td>Feb/07</td>\n",
       "    </tr>\n",
       "    <tr>\n",
       "      <th>1</th>\n",
       "      <td>42</td>\n",
       "      <td>2007-03-22</td>\n",
       "      <td>NaN</td>\n",
       "      <td>NaN</td>\n",
       "      <td>United States</td>\n",
       "      <td>US</td>\n",
       "      <td>Ohio</td>\n",
       "      <td>17288</td>\n",
       "      <td>New Philadelphia</td>\n",
       "      <td>3.33522</td>\n",
       "      <td>...</td>\n",
       "      <td>Landslide</td>\n",
       "      <td>Landslide</td>\n",
       "      <td>Small</td>\n",
       "      <td>Rain</td>\n",
       "      <td>NaN</td>\n",
       "      <td>NaN</td>\n",
       "      <td>NaN</td>\n",
       "      <td>Canton Rep.com</td>\n",
       "      <td>http://www.cantonrep.com/index.php?ID=345054&amp;C...</td>\n",
       "      <td>Mar/07</td>\n",
       "    </tr>\n",
       "    <tr>\n",
       "      <th>2</th>\n",
       "      <td>56</td>\n",
       "      <td>2007-06-04</td>\n",
       "      <td>NaN</td>\n",
       "      <td>NaN</td>\n",
       "      <td>United States</td>\n",
       "      <td>US</td>\n",
       "      <td>Pennsylvania</td>\n",
       "      <td>15930</td>\n",
       "      <td>Wilkinsburg</td>\n",
       "      <td>2.91977</td>\n",
       "      <td>...</td>\n",
       "      <td>Landslide</td>\n",
       "      <td>Landslide</td>\n",
       "      <td>Small</td>\n",
       "      <td>Rain</td>\n",
       "      <td>NaN</td>\n",
       "      <td>NaN</td>\n",
       "      <td>NaN</td>\n",
       "      <td>The Pittsburgh Channel.com</td>\n",
       "      <td>https://web.archive.org/web/20080423132842/htt...</td>\n",
       "      <td>Jun/07</td>\n",
       "    </tr>\n",
       "    <tr>\n",
       "      <th>3</th>\n",
       "      <td>59</td>\n",
       "      <td>2007-04-14</td>\n",
       "      <td>NaN</td>\n",
       "      <td>NaN</td>\n",
       "      <td>Canada</td>\n",
       "      <td>CA</td>\n",
       "      <td>Quebec</td>\n",
       "      <td>42786</td>\n",
       "      <td>ChÃ¢teauguay</td>\n",
       "      <td>2.98682</td>\n",
       "      <td>...</td>\n",
       "      <td>Landslide</td>\n",
       "      <td>Riverbank collapse</td>\n",
       "      <td>Small</td>\n",
       "      <td>Rain</td>\n",
       "      <td>NaN</td>\n",
       "      <td>NaN</td>\n",
       "      <td>NaN</td>\n",
       "      <td>Le Soleil</td>\n",
       "      <td>http://www.hebdos.net/lsc/edition162007/articl...</td>\n",
       "      <td>Apr/07</td>\n",
       "    </tr>\n",
       "    <tr>\n",
       "      <th>4</th>\n",
       "      <td>61</td>\n",
       "      <td>2007-04-15</td>\n",
       "      <td>NaN</td>\n",
       "      <td>NaN</td>\n",
       "      <td>United States</td>\n",
       "      <td>US</td>\n",
       "      <td>Kentucky</td>\n",
       "      <td>6903</td>\n",
       "      <td>Pikeville</td>\n",
       "      <td>5.66542</td>\n",
       "      <td>...</td>\n",
       "      <td>Landslide</td>\n",
       "      <td>Landslide</td>\n",
       "      <td>Small</td>\n",
       "      <td>Downpour</td>\n",
       "      <td>NaN</td>\n",
       "      <td>NaN</td>\n",
       "      <td>0.0</td>\n",
       "      <td>Matthew Crawford (KGS)</td>\n",
       "      <td>NaN</td>\n",
       "      <td>Apr/07</td>\n",
       "    </tr>\n",
       "  </tbody>\n",
       "</table>\n",
       "<p>5 rows × 24 columns</p>\n",
       "</div>"
      ],
      "text/plain": [
       "   id       date   time continent_code   country_name country_code  \\\n",
       "0  34 2007-02-03  Night            NaN  United States           US   \n",
       "1  42 2007-03-22    NaN            NaN  United States           US   \n",
       "2  56 2007-06-04    NaN            NaN  United States           US   \n",
       "3  59 2007-04-14    NaN            NaN         Canada           CA   \n",
       "4  61 2007-04-15    NaN            NaN  United States           US   \n",
       "\n",
       "  state/province  population         city/town  distance  ... hazard_type  \\\n",
       "0       Virginia       16000       Cherry Hill   3.40765  ...   Landslide   \n",
       "1           Ohio       17288  New Philadelphia   3.33522  ...   Landslide   \n",
       "2   Pennsylvania       15930       Wilkinsburg   2.91977  ...   Landslide   \n",
       "3         Quebec       42786      ChÃ¢teauguay   2.98682  ...   Landslide   \n",
       "4       Kentucky        6903         Pikeville   5.66542  ...   Landslide   \n",
       "\n",
       "       landslide_type  landslide_size   trigger storm_name injuries  \\\n",
       "0           Landslide           Small      Rain        NaN      NaN   \n",
       "1           Landslide           Small      Rain        NaN      NaN   \n",
       "2           Landslide           Small      Rain        NaN      NaN   \n",
       "3  Riverbank collapse           Small      Rain        NaN      NaN   \n",
       "4           Landslide           Small  Downpour        NaN      NaN   \n",
       "\n",
       "  fatalities                 source_name  \\\n",
       "0        NaN                  NBC 4 news   \n",
       "1        NaN              Canton Rep.com   \n",
       "2        NaN  The Pittsburgh Channel.com   \n",
       "3        NaN                   Le Soleil   \n",
       "4        0.0      Matthew Crawford (KGS)   \n",
       "\n",
       "                                         source_link  month/year  \n",
       "0      http://www.nbc4.com/news/11186871/detail.html      Feb/07  \n",
       "1  http://www.cantonrep.com/index.php?ID=345054&C...      Mar/07  \n",
       "2  https://web.archive.org/web/20080423132842/htt...      Jun/07  \n",
       "3  http://www.hebdos.net/lsc/edition162007/articl...      Apr/07  \n",
       "4                                                NaN      Apr/07  \n",
       "\n",
       "[5 rows x 24 columns]"
      ]
     },
     "execution_count": 309,
     "metadata": {},
     "output_type": "execute_result"
    }
   ],
   "source": [
    "df[\"month/year\"]=df['date'].dt.strftime('%b/%y')\n",
    "df.head()"
   ]
  },
  {
   "cell_type": "code",
   "execution_count": null,
   "id": "3bb27fac-0b48-49b6-b54a-eaca3d5fe541",
   "metadata": {},
   "outputs": [],
   "source": []
  }
 ],
 "metadata": {
  "kernelspec": {
   "display_name": "Python 3 (ipykernel)",
   "language": "python",
   "name": "python3"
  },
  "language_info": {
   "codemirror_mode": {
    "name": "ipython",
    "version": 3
   },
   "file_extension": ".py",
   "mimetype": "text/x-python",
   "name": "python",
   "nbconvert_exporter": "python",
   "pygments_lexer": "ipython3",
   "version": "3.11.7"
  }
 },
 "nbformat": 4,
 "nbformat_minor": 5
}
